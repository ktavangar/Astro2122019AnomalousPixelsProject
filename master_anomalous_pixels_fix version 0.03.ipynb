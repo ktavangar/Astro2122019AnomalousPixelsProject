{
 "cells": [
  {
   "cell_type": "code",
   "execution_count": null,
   "metadata": {},
   "outputs": [],
   "source": [
    "## Imports. This contains some imports not required for this notebook. \n",
    "\n",
    "import sys\n",
    "import os\n",
    "import numpy as np\n",
    "from matplotlib import pyplot as plt\n",
    "from matplotlib import pylab                   # Needed to plot histograms.\n",
    "from astropy.io import fits                    # Need this if you want to use astropy.io io objects.\n",
    "from astropy.stats import mad_std              # The median absolute deviation, a more robust estimator than std.\n",
    "\n",
    "'''Filter out warnings. May or may not need this. But shouldn't hurt to put it in.\n",
    "This is the \"new\" code for avoiding warnings-- seems to work better. Copied from an SDSS notebook.'''\n",
    "import warnings\n",
    "warnings.filterwarnings('ignore')"
   ]
  },
  {
   "cell_type": "markdown",
   "metadata": {},
   "source": [
    "# Task 1. Creating Faulty Non-Noisy Pixels Fits"
   ]
  },
  {
   "cell_type": "code",
   "execution_count": null,
   "metadata": {},
   "outputs": [],
   "source": [
    "# Specify the path to the data directory.\n",
    "# datapath = '/Users/alex/_observing/24-inch/2018/manual_dark/darks_180420'\n",
    "datapath = r'C:\\Users\\owenm\\Documents\\ASTR 21200 2019\\Data\\Project\\dark'\n",
    "savepath = r'C:\\Users\\owenm\\Documents\\ASTR 21200 2019\\Data\\BadPixelsFitss'"
   ]
  },
  {
   "cell_type": "code",
   "execution_count": null,
   "metadata": {},
   "outputs": [],
   "source": [
    "## List files in the the data directory.\n",
    "\n",
    "whichpath = datapath\n",
    "\n",
    "## For ALL the files in the directory.\n",
    "# allfiles = [f for f in os.listdir(datapath)]\n",
    "\n",
    "## Various list comprehensions can pick out files with particular characteristics.\n",
    "allfiles = [f for f in os.listdir(whichpath) if '.fit' in f and ('bias.' in f) and 'mdark' not in f]\n",
    "\n",
    "allfiles = sorted(allfiles)       ## This is necessary on my Mac, may not be for others?\n",
    "for i in range(len(allfiles)):\n",
    "    print( i, allfiles[i])"
   ]
  },
  {
   "cell_type": "code",
   "execution_count": null,
   "metadata": {},
   "outputs": [],
   "source": [
    "## Construct a list of files you wish to view and/or process.\n",
    "\n",
    "acceptlist = True             # True if you want to accept all the files in allfiles.\n",
    "contiguous = True             # True if you want to accept a contiguous subset of allfiles.\n",
    "startfile, endfile = 0,9      # The first and last files in a contiquous subset.\n",
    "flist = [0,3,4,5,6,7,8]        # An explicit list of the files you want to accept.\n",
    "\n",
    "if acceptlist == True:\n",
    "    files = allfiles\n",
    "    for i in range(len(files)):\n",
    "        print(i, files[i])\n",
    "else:\n",
    "    if contiguous == True:\n",
    "        files = allfiles[startfile:endfile+1]\n",
    "        for i in range(len(files)):\n",
    "            print( i, files[i])\n",
    "    else:\n",
    "        files = []\n",
    "        for i in range(len(flist)):\n",
    "            files.append(allfiles[flist[i]])\n",
    "        for i in range(len(files)):\n",
    "            print( i, flist[i], files[i])"
   ]
  },
  {
   "cell_type": "code",
   "execution_count": null,
   "metadata": {},
   "outputs": [],
   "source": [
    "'''Make a stack of images, a list of headers from those images, and calculate some medians and stds\n",
    "that will help set autoscaling parameters.'''\n",
    "\n",
    "\n",
    "image = np.zeros((len(files), 1024,1024))\n",
    "imedian = np.zeros((len(files)))          \n",
    "istd = np.zeros((len(files)))              \n",
    "madstd = np.zeros((len(files))) \n",
    "headlist = []  \n",
    "print('image.shape =', image.shape)\n",
    "for i in range(len(files)):\n",
    "\n",
    "\n",
    "#############################################################################\n",
    "    # Use this code block if you want to use the standard astropy.io package.\n",
    "    fitsfilename = os.path.join(datapath, files[i])    # Full path to a fitsfile.\n",
    "    hdulist = fits.open(fitsfilename)                  # Open a fits file as an hdulist object.\n",
    "    hdu0 = hdulist[0]                                  # Define a fits object as the 0th hdu in the fitsfile.\n",
    "    image[i] = hdu0.data * 1.0                         # Define image in stack as float of data in the 0th hdu.\n",
    "    headlist.append(hdu0.header)                       # Append the header of the fits object to the header list.\n",
    "    print('')\n",
    "    print(i,files[i])\n",
    "###############################################################################    \n",
    "    \n",
    "    ## Calculate some medians and stds to use in autoscaling that aren't unduly biased by extreme values.\n",
    "    ## Optionally, print out masked and unmasked values to explore the effects of extreme values on the statistics.\n",
    "    \n",
    "    madstd[i] = mad_std(image[i],ignore_nan=True)\n",
    "    imedian[i] = np.nanmedian(image[i])\n",
    "    istd[i] = np.nanstd(image[i])"
   ]
  },
  {
   "cell_type": "code",
   "execution_count": null,
   "metadata": {},
   "outputs": [],
   "source": [
    "bad = 0\n",
    "for i in range(len(image)):\n",
    "    istand = image[i] - imedian[i]\n",
    "    bad += (istand > istd[i])\n",
    "    bad += (istand < -istd[i])\n",
    "for j in range(len(sum(bad))):\n",
    "    print(str(j) + ':' + str(sum(bad)[j]))"
   ]
  },
  {
   "cell_type": "code",
   "execution_count": null,
   "metadata": {},
   "outputs": [],
   "source": [
    "#Creating a map of how often the pixels have been bad\n",
    "\n",
    "bads = np.zeros((1024,1024))\n",
    "\n",
    "imedian2 = np.zeros((len(files)))           # 1D numpy array to hold array medians.\n",
    "istd2 = np.zeros((len(files)))              # 1D numpy array to hold array stds.\n",
    "\n",
    "for i in range(len(files)):\n",
    "    imedian2[i] = np.nanmedian(image[i,200:,:])\n",
    "    istd2[i] = np.nanstd(image[i,200:,:])\n",
    "\n",
    "for i in range(len(image)):\n",
    "    istand = image[i] - imedian2[i]\n",
    "    bad1 = (istand > istd2[i]) * 1\n",
    "    bad2 = (istand < -istd2[i]) * 1\n",
    "    bad = bad1 + bad2\n",
    "    bads += bad\n",
    "    \n",
    "#print(bads)\n",
    "#print(bads[:,1:])\n",
    "b = bads[:, 200:]\n",
    "#print(b)\n",
    "pix = np.zeros((1024,824))\n",
    "ctr = 0\n",
    "for i in range(1024):\n",
    "    for j in range(824):\n",
    "        if b[i,j] >= 20:\n",
    "            ctr += 1\n",
    "            pix[i,j] = 1\n",
    "            #print(i,j)\n",
    "print(str(ctr/(1024 * 824)))\n",
    "\n",
    "#print(pix)"
   ]
  },
  {
   "cell_type": "markdown",
   "metadata": {},
   "source": [
    "The above array gives the number of times, for each pixel, it has been deemed \"bad\" in the list of 300 darks."
   ]
  },
  {
   "cell_type": "markdown",
   "metadata": {},
   "source": [
    "If we check pixels that have been bad at least once: 49.2% of pixels meet this criteria If we check pixels that have been bad at least twice: 18.5% of pixels meet this criteria If we check pixels that have been bad at least 3 times: 8.28% of pixels meet this criteria If we check pixels that have been bad at least 4 times: 5.21% of pixels meet this criteria ..."
   ]
  },
  {
   "cell_type": "code",
   "execution_count": null,
   "metadata": {
    "scrolled": true
   },
   "outputs": [],
   "source": [
    "#Creating a 2D array that is true false values with 1,0 but with corners missing and checking local averages to ensure the badness of the pixel\n",
    "pix2 = np.zeros((1019,819))\n",
    "\n",
    "for i in range(1019): #1024\n",
    "    for j in range(819): #824\n",
    "        if pix[i,j] == 1 and j > 5:\n",
    "            sur = image[:,i-5:i+5,200+j-5:200+j+5]\n",
    "            surmed = np.nanmedian(sur)\n",
    "            surstd = np.nanstd(sur)\n",
    "            pmed = np.nanmedian(image[:,i,200+j])\n",
    "            pix2[i,j] = abs(surmed - pmed) > surstd\n",
    "            \n",
    "print(pix2)"
   ]
  },
  {
   "cell_type": "markdown",
   "metadata": {},
   "source": [
    "## creating and saving fits"
   ]
  },
  {
   "cell_type": "code",
   "execution_count": null,
   "metadata": {},
   "outputs": [],
   "source": [
    "#creating a workable data format for our boolean 2D Array\n",
    "hdumy = fits.PrimaryHDU(pix2)\n",
    "\n",
    "#Turning Workable Object into a fits\n",
    "outd = fits.HDUList([hdumy])\n",
    "\n",
    "## Construct a name and 'save directory' for the dark-subtracted, flatfielded image.\n",
    "outname = 'bad_pixels' + '(INSERT NUMBER OR OTHER THING!!!!! OR ITLL BREAK SOME STUFF) 4' + '.fits'\n",
    "outpath = savepath\n",
    "print('outpath =',outpath)\n",
    "outf = os.path.join(outpath,outname)\n",
    "print('outname =',outname)"
   ]
  },
  {
   "cell_type": "code",
   "execution_count": null,
   "metadata": {},
   "outputs": [],
   "source": [
    "## Now save the file (or not).\n",
    "print(outf)\n",
    "yes_or_no = input('Save file? Enter \"y\" or \"n\":')\n",
    "if yes_or_no == 'y':\n",
    "    outd.writeto(outf, overwrite = False)\n",
    "    print( outname + ' has been saved.')\n",
    "else:\n",
    "    print( 'OK-- file was not saved.')\n",
    "\n",
    "# outd.save(outf)"
   ]
  },
  {
   "cell_type": "markdown",
   "metadata": {},
   "source": [
    "# Task 3 Masking bad pixels\n",
    "\n",
    "\n"
   ]
  },
  {
   "cell_type": "code",
   "execution_count": null,
   "metadata": {},
   "outputs": [],
   "source": [
    "mask = np.zeros((len(files),1024,829))\n",
    "\n",
    "for i in range (5,1019):\n",
    "    for j in range (5,819):\n",
    "        if pix2[i,j] == 1:\n",
    "            sur = image[:,i-5:i+5,200+j-5:200+j+5]\n",
    "            surmed = np.nanmedian(sur)\n",
    "            mask[:,i,j] = image[:,i,j] - surmed\n",
    "            \n",
    "\n",
    "np.sum(mask) "
   ]
  },
  {
   "cell_type": "code",
   "execution_count": null,
   "metadata": {},
   "outputs": [],
   "source": [
    "maskhelp = np.zeros((len(files),1024,195))"
   ]
  },
  {
   "cell_type": "code",
   "execution_count": null,
   "metadata": {},
   "outputs": [],
   "source": [
    "mask2 = np.append(maskhelp,mask, axis=2)"
   ]
  },
  {
   "cell_type": "code",
   "execution_count": null,
   "metadata": {},
   "outputs": [],
   "source": [
    "smoothed = image-mask2"
   ]
  },
  {
   "cell_type": "markdown",
   "metadata": {},
   "source": [
    "DO NOT RUN\n"
   ]
  },
  {
   "cell_type": "code",
   "execution_count": null,
   "metadata": {},
   "outputs": [],
   "source": [
    "# # Display all the images in the stack.\n",
    "# figx, figy = 20,20   # Use these to reveal fine detail in images.\n",
    "figx, figy = 8,8   # Use these to get a quick look and save space.\n",
    "\n",
    "for i in range(len(files)):\n",
    "    plt.figure(figsize = (figx,figy))\n",
    "    vmx= imedian[i] + madstd[i] * 3.0\n",
    "    vmn = imedian[i] - madstd[i] * 3.0\n",
    "#     grid()\n",
    "    plt.title(files[i] + '   Median =' + str(imedian[i]) + '    mad_std =' + str(madstd[i]))\n",
    "    plt.imshow(smoothed[i],'gray',interpolation = 'nearest',vmax=vmx,vmin=vmn)"
   ]
  },
  {
   "cell_type": "code",
   "execution_count": null,
   "metadata": {},
   "outputs": [],
   "source": []
  }
 ],
 "metadata": {
  "kernelspec": {
   "display_name": "Python 3",
   "language": "python",
   "name": "python3"
  },
  "language_info": {
   "codemirror_mode": {
    "name": "ipython",
    "version": 3
   },
   "file_extension": ".py",
   "mimetype": "text/x-python",
   "name": "python",
   "nbconvert_exporter": "python",
   "pygments_lexer": "ipython3",
   "version": "3.7.1"
  }
 },
 "nbformat": 4,
 "nbformat_minor": 2
}
