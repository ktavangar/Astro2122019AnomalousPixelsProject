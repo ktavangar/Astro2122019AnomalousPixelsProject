{
 "cells": [
  {
   "cell_type": "markdown",
   "metadata": {},
   "source": [
    "# select raw images"
   ]
  },
  {
   "cell_type": "code",
   "execution_count": null,
   "metadata": {},
   "outputs": [],
   "source": [
    "## Construct a list of files you wish to view and/or combine.\n",
    "\n",
    "acceptlist = False             # True if you want to accept all the files in somefiles.\n",
    "contiguous = True             # True if you want to accept a contiguous subset of somefiles.\n",
    "startfile, endfile = 0,9      # The first and last files in a contiquous subset.\n",
    "flist = [0,3,4,5,6,7,8]        # An explicit list of the files you want to accept.\n",
    "\n",
    "if acceptlist == True:\n",
    "    files = somefiles\n",
    "    for i in range(len(files)):\n",
    "        print(i, files[i])\n",
    "else:\n",
    "    if contiguous == True:\n",
    "        files = somefiles[startfile:endfile+1]\n",
    "        for i in range(len(files)):\n",
    "            print( i, files[i])\n",
    "    else:\n",
    "        files = []\n",
    "        for i in range(len(flist)):\n",
    "            files.append(somefiles[flist[i]])\n",
    "        for i in range(len(files)):\n",
    "            print( i, flist[i], files[i])"
   ]
  },
  {
   "cell_type": "code",
   "execution_count": null,
   "metadata": {},
   "outputs": [],
   "source": [
    "## Load the images into the stack.\n",
    "image, headlist, rows, cols, imed, imad = stackfits(datapath, files)"
   ]
  },
  {
   "cell_type": "code",
   "execution_count": null,
   "metadata": {},
   "outputs": [],
   "source": [
    "## Display the image stack.\n",
    "        \n",
    "for i in range(len(files)):\n",
    "    quickpic(image[i],files[i])"
   ]
  },
  {
   "cell_type": "markdown",
   "metadata": {},
   "source": [
    "# Select and load darkfile, then make unmasked and masked dark images"
   ]
  },
  {
   "cell_type": "code",
   "execution_count": null,
   "metadata": {},
   "outputs": [],
   "source": [
    "'''Get a dark image, calculate some statistics, make a masked image with \"nans\" replacing \"bad\" pixels, and\n",
    "calculate some statistics on the masked image. In this case, \"bad\" is defined as pixels lying above or below\n",
    "selected thresholds. For example, one might want to exclude \"dead\" pixels with no signal or \"hot\" pixels with\n",
    "bias levels so high that that the pixel's dynamic range would be unacceptable.'''\n",
    "\n",
    "whichfile = 0\n",
    "highlimfactor = 20.\n",
    "lowlimfactor = 2.\n",
    "\n",
    "darkname = darkfiles[whichfile]    # Select a dark image.\n",
    "dname = os.path.join(darkpath,darkname)\n",
    "darkhdulist = fits.open(dname)\n",
    "darkhdulist.info()\n",
    "print('')\n",
    "\n",
    "darkimage = darkhdulist[0].data * 1.0          # Read in the image and convert to float.\n",
    "darkheader = darkhdulist[0].header.copy()      # Make a header for the darkimage, a copy of the original file header.\n",
    "\n",
    "# Calculate median and std of raw bias image.\n",
    "darkmedian = np.nanmedian(darkimage)\n",
    "darkstd = np.nanstd(darkimage)\n",
    "darkmad = mad_std(darkimage)\n",
    "darkmin = np.nanmin(darkimage)\n",
    "darkmax = np.nanmax(darkimage)\n",
    "print('darkmedian=', darkmedian, '  darkstd=', darkstd,'   darkmad=',darkmad, '  darkmin=', darkmin,'  darkmax=', darkmax)\n",
    "\n",
    "# Set upper and lower thresholds for \"good\" pixels and make masks.\n",
    "dupperlimit = highlimfactor * darkmedian   # Select an upper limit for \"good\" pixels.\n",
    "dlowerlimit = darkmedian/lowlimfactor     # Select a lower limit for \"good\" pixels.\n",
    "print('lower limit =',dlowerlimit, '  upper limit =', dupperlimit)\n",
    "highdarkmask = np.where(darkimage > dupperlimit)\n",
    "lowdarkmask = np.where(darkimage < dlowerlimit)\n",
    "\n",
    "# Make masked images with 'nans' in masked pixels.\n",
    "mdarkimage = darkimage.copy()\n",
    "mdarkimage[highdarkmask] = np.nan\n",
    "mdarkimage[lowdarkmask] = np.nan\n",
    "\n",
    "# Re-compute median and std for masked image.\n",
    "# NOTE: mad_std doesn't seem to work if there are nans in the image.\n",
    "mdmedian = np.nanmedian(mdarkimage)\n",
    "mdstd = np.nanstd(mdarkimage)\n",
    "mdmad = mad_std(mdarkimage,ignore_nan=True)\n",
    "mdmin = np.nanmin(mdarkimage)\n",
    "mdmax = np.nanmax(mdarkimage)\n",
    "print('mask median =',mdmedian,' mask std =',mdstd,' mask mad',mdmad,' mask min =',mdmin,' mask max =',mdmax)\n",
    "print('low pixels =', len(lowdarkmask[0]),'   high pixels =', len(highdarkmask[0]),)\n",
    "\n",
    "## Use this if you want to print the header.\n",
    "# darkheader"
   ]
  },
  {
   "cell_type": "markdown",
   "metadata": {},
   "source": [
    "# list high or low pixels"
   ]
  },
  {
   "cell_type": "code",
   "execution_count": null,
   "metadata": {},
   "outputs": [],
   "source": [
    "# ## List the low and/or high pixels in the darkmasks.\n",
    "\n",
    " low = False\n",
    " high = True\n",
    " if low == True:\n",
    "     print('Number of low pixels =',len(lowdarkmask[0]))\n",
    "     print('')\n",
    "     for i in range(len(lowdarkmask[0])):\n",
    "         print(i, lowdarkmask[0][i], lowdarkmask[1][i])\n",
    " if high == True:\n",
    "     print('Number of high pixels =',len(highdarkmask[0]))\n",
    "     print('')\n",
    "     for i in range(len(highdarkmask[0])):\n",
    "         print(i, highdarkmask[0][i], highdarkmask[1][i])"
   ]
  },
  {
   "cell_type": "markdown",
   "metadata": {},
   "source": [
    "# Select a biasfile and make unmasked and masked bias images"
   ]
  },
  {
   "cell_type": "code",
   "execution_count": null,
   "metadata": {},
   "outputs": [],
   "source": [
    "# Get a bias image, calculate some statistics, and make a masked image with \"nans\" replacing \"bad\" pixels.\n",
    "\n",
    "biasname = biasfiles[0]    # Select a bias image.\n",
    "\n",
    "hblimfactor = 2.\n",
    "lblimfactor = 2.\n",
    "\n",
    "bname = os.path.join(biaspath,biasname)\n",
    "biashdulist = fits.open(bname)\n",
    "biashdulist.info()\n",
    "print('')\n",
    "\n",
    "biasimage = biashdulist[0].data * 1.0    # Read in the image and convert to float.\n",
    "biasheader = biashdulist[0].header.copy()\n",
    "print('')\n",
    "\n",
    "# Calculate median and std of raw bias image.\n",
    "biasmedian = np.nanmedian(biasimage)\n",
    "biasstd = np.nanstd(biasimage)\n",
    "biasmad = mad_std(biasimage,ignore_nan=True)\n",
    "biasmin = np.nanmin(biasimage)\n",
    "biasmax = np.nanmax(biasimage)\n",
    "print('median=', biasmedian, '  std=', biasstd, '  min=', np.nanmin(biasimage),'  max=', np.nanmax(biasimage))\n",
    "\n",
    "# Set upper and lower thresholds for \"good\" pixels and make masks.\n",
    "bupperlimit = hblimfactor * biasmedian   # Select an upper limit for \"good\" pixels.\n",
    "blowerlimit = biasmedian/lblimfactor     # Select a lower limit for \"good\" pixels.\n",
    "print('lower limit =',blowerlimit, '  upper limit =', bupperlimit)\n",
    "highbiasmask = np.where(biasimage > bupperlimit)\n",
    "lowbiasmask = np.where(biasimage < blowerlimit)\n",
    "print('high pixels =', len(highbiasmask[0]), '    low pixels =', len(lowbiasmask[0]))\n",
    "\n",
    "# Make masked images with 'nans' in masked pixels.\n",
    "mbiasimage = biasimage.copy()\n",
    "mbiasimage[highbiasmask] = np.nan\n",
    "mbiasimage[lowbiasmask] = np.nan\n",
    "\n",
    "# Re-compute median and std for masked image.\n",
    "mbmedian = np.nanmedian(mbiasimage)\n",
    "mbstd = np.nanstd(mbiasimage)\n",
    "mbmad = mad_std(mbiasimage,ignore_nan=True)\n",
    "mbmin = np.nanmin(mbiasimage)\n",
    "mbmax = np.nanmax(mbiasimage)\n",
    "print('mask median =',mbmedian,' mask std =', mbstd,'mask mad =',mbmad, ' mask min =',mbmin,' masked max =',mbmax)"
   ]
  },
  {
   "cell_type": "code",
   "execution_count": null,
   "metadata": {},
   "outputs": [],
   "source": [
    "# ## List the low and/or high pixels in the biasmasks.\n",
    "\n",
    " low = True\n",
    " high = True\n",
    " if low == True:\n",
    "     print('Number of low pixels =',len(lowbiasmask[0]))\n",
    "     for i in range(len(lowbiasmask[0])):\n",
    "         print(i, lowbiasmask[0][i], lowbiasmask[1][i])\n",
    "     print('')\n",
    " if high == True:\n",
    "     print('Number of high pixels =',len(highbiasmask[0]))\n",
    "     for i in range(len(highbiasmask[0])):\n",
    "         print(i, highbiasmask[0][i], highbiasmask[1][i])"
   ]
  },
  {
   "cell_type": "code",
   "execution_count": null,
   "metadata": {},
   "outputs": [],
   "source": [
    "## Make list of high pixels (greater than some value) in the biasimage and their values. DIAGNOSTIC.\n",
    "\n",
    "hbmask = np.where(biasimage > bupperlimit)\n",
    "print( hbmask)\n",
    "# print hbmask[0][0]\n",
    "for i in range(len(hbmask[0])):\n",
    "    print ('{:3}{:4}{:5}{:10}'.format(i,hbmask[0][i],hbmask[1][i],biasimage[hbmask[0][i],hbmask[1][i]]))"
   ]
  },
  {
   "cell_type": "markdown",
   "metadata": {},
   "source": [
    "# Dark current image"
   ]
  },
  {
   "cell_type": "code",
   "execution_count": null,
   "metadata": {},
   "outputs": [],
   "source": [
    "# Make a dark current image. Also make masks to screen out high and low pixels. \n",
    "\n",
    "dcimage = darkimage - biasimage\n",
    "dcheader = darkheader.copy()\n",
    "dcheader['proctype'] = 'dark current'\n",
    "dcheader['filelist'] = darkname + ', ' + biasname\n",
    "\n",
    "# Calculate some statistics\n",
    "\n",
    "dcmin, dcmax = np.nanmin(dcimage), np.nanmax(dcimage)\n",
    "print(dcmin, dcmax)\n",
    "dcmedian = np.nanmedian(dcimage)\n",
    "dcstd = np.nanstd(dcimage)\n",
    "dcmad = mad_std(dcimage)\n",
    "print(dcmedian, dcstd, dcmad)\n",
    "\n",
    "dclowerlimit = dcmedian - 5 * dcmad\n",
    "dcupperlimit = dcmedian + 100 * dcmad\n",
    "# dclowerlimit = dcmedian - 5 * dcmad\n",
    "# dcupperlimit = dcmedian + 50 * dcmad\n",
    "lowdcmask = np.where(dcimage <  dclowerlimit)\n",
    "highdcmask = np.where(dcimage > dcupperlimit)\n",
    "\n",
    "print('high pixels =', len(highdcmask[0]), '    low pixels =', len(lowdcmask[0]))\n",
    "\n",
    "mdcimage = dcimage.copy()\n",
    "mdcimage[highdcmask] = np.nan\n",
    "mdcimage[lowdcmask] = np.nan\n",
    "\n",
    "mdcmedian = np.nanmedian(mdcimage)\n",
    "mdcstd = np.nanstd(mdcimage)\n",
    "print(mdcmedian, mdcstd, np.max(mdcimage), np.min(mdcimage))"
   ]
  },
  {
   "cell_type": "code",
   "execution_count": null,
   "metadata": {},
   "outputs": [],
   "source": [
    "# ## Above I have used dcheader = darkheader.copy(). Seemed to have worked.\n",
    "# ## The header class does have a .copy() function. See it when you use the ?? magic below.\n",
    "# ## Use the .copy() function when you intend to modify the header and use it in another fits object.\n",
    "# dcheader??"
   ]
  },
  {
   "cell_type": "code",
   "execution_count": null,
   "metadata": {},
   "outputs": [],
   "source": [
    "## Print lists of pixels above or below some threshold.\n",
    "printlist = 'no'\n",
    "\n",
    "print('max pixel =',np.max(dcimage))\n",
    "himask = np.where(dcimage > dcupperlimit)  # Or, put in some other limit.\n",
    "lomask = np.where(dcimage < dclowerlimit)  # Or, put in some other limit.\n",
    "\n",
    "whichmask = himask\n",
    "\n",
    "print('pixels above threshold =', len(whichmask[0]), '    threshold =', dcupperlimit)\n",
    "print('')\n",
    "\n",
    "if printlist == 'yes':\n",
    "    for i in range(len(whichmask[0])):\n",
    "        print ('{:3}{:5}{:5}{:10}'.format(i,whichmask[0][i],whichmask[1][i],dcimage[whichmask[0][i],whichmask[1][i]]))"
   ]
  },
  {
   "cell_type": "code",
   "execution_count": null,
   "metadata": {},
   "outputs": [],
   "source": [
    "quickpic(dcimage)"
   ]
  },
  {
   "cell_type": "code",
   "execution_count": null,
   "metadata": {},
   "outputs": [],
   "source": [
    "displaypic2(dcimage,'',1024,1024,istart=(dcmedian- 3* dcmad,dcmedian+3*dcmad),negative=True)"
   ]
  },
  {
   "cell_type": "code",
   "execution_count": null,
   "metadata": {},
   "outputs": [],
   "source": [
    "## Plot some histograms of the images for diagnostic purposes.\n",
    "## This uses histogram plotting routines from matplotlib.\n",
    "\n",
    "NBINS = 200\n",
    "plt.figure(figsize = ((18,8)))\n",
    "\n",
    "dclow, dchigh = np.nanmin(dcimage), np.nanmax(dcimage)\n",
    "print( 'low =', dclow, ',   high =', dchigh)\n",
    "dcunderlimit, dcoverlimit = dclow, dcupperlimit\n",
    "dcundermask, dcovermask = np.where(dcimage < dcunderlimit), np.where(dcimage >= dcoverlimit)\n",
    "# print undermask[0]\n",
    "\n",
    "print( 'pixels <',dcunderlimit, '=',len(dcundermask[0]))\n",
    "print( 'pixels >',dcoverlimit, '=', len(dcovermask[0]))\n",
    "\n",
    "plt.subplot(3,1,1)\n",
    "plt.grid()\n",
    "plt.title('dark current in  '+ darkname)\n",
    "# xlim(0000.,100)\n",
    "# ylim(0,200)\n",
    "histogram = pylab.hist(dcimage.flatten(),NBINS,histtype='step',range=(dclow,dcoverlimit/2.))\n",
    "plt.subplot(3,1,2)\n",
    "histogram = pylab.hist(dcimage.flatten(),histtype='step',log=True)"
   ]
  },
  {
   "cell_type": "markdown",
   "metadata": {},
   "source": [
    "# load and display a flatfile"
   ]
  },
  {
   "cell_type": "code",
   "execution_count": null,
   "metadata": {},
   "outputs": [],
   "source": [
    "# Get a flat image, calculate some statistics, and make a masked image with \"nans\" replacing \"bad\" pixels.\n",
    "\n",
    "whichfile = 0\n",
    "\n",
    "hflimfactor = 2.\n",
    "lflimfactor = 2.\n",
    "\n",
    "flatname = flatfiles[whichfile]    # Select a flat image.\n",
    "fname = os.path.join(flatpath,flatname)\n",
    "flathdulist = fits.open(fname)\n",
    "flathdulist.info()\n",
    "print('')\n",
    "\n",
    "flatimage = flathdulist[0].data * 1.0    # Read in the image and convert to float.\n",
    "flatheader = flathdulist[0].header.copy()\n",
    "\n",
    "print('')\n",
    "\n",
    "# Calculate median and std of raw flat image.\n",
    "flatmedian = np.nanmedian(flatimage)\n",
    "flatstd = np.nanstd(flatimage)\n",
    "flatmad = mad_std(flatimage,ignore_nan=True)\n",
    "flatmin = np.nanmin(flatimage)\n",
    "flatmax = np.nanmax(flatimage)\n",
    "print('median=',flatmedian,'  std=',flatstd,'flatmad =',flatmad,'  min=',flatmin,'  max=', flatmax)\n",
    "\n",
    "# Set upper and lower thresholds for \"good\" pixels and make masks.\n",
    "fupperlimit = hflimfactor * flatmedian   # Select an upper limit for \"good\" pixels.\n",
    "flowerlimit = flatmedian/lflimfactor     # Select a lower limit for \"good\" pixels.\n",
    "print('lower limit =',flowerlimit, '  upper limit =', fupperlimit)\n",
    "highflatmask = np.where(flatimage > fupperlimit)\n",
    "lowflatmask = np.where(flatimage < flowerlimit)\n",
    "print('high pixels =', len(highflatmask[0]), '    low pixels =', len(lowflatmask[0]))\n",
    "\n",
    "# Make masked images with 'nans' in masked pixels.\n",
    "mflatimage = flatimage.copy()\n",
    "mflatimage[highflatmask] = np.nan\n",
    "mflatimage[lowflatmask] = np.nan\n",
    "\n",
    "# plt.colorbar()\n",
    "print('highmask =',highflatmask)\n",
    "\n",
    "# Re-compute median and std for masked image.\n",
    "mfmedian = np.nanmedian(mflatimage)\n",
    "mfstd = np.nanstd(mflatimage)\n",
    "mfmad = mad_std(mflatimage,ignore_nan=True)\n",
    "mfmin = np.nanmin(mflatimage)\n",
    "mfmax = np.nanmax(mflatimage)\n",
    "print('mask median =',mfmedian,' mask std =', mfstd,'mask mad =',mfmad, ' mask min =',mfmin,' mask max =',mfmax)"
   ]
  },
  {
   "cell_type": "code",
   "execution_count": null,
   "metadata": {},
   "outputs": [],
   "source": [
    "displaypic2(flatimage,flatname,rows,cols,istart=(flatmedian- 3* flatmad,flatmedian+3*flatmad),negative=False)"
   ]
  },
  {
   "cell_type": "markdown",
   "metadata": {},
   "source": [
    "# make bad pixel masks for flat image"
   ]
  },
  {
   "cell_type": "code",
   "execution_count": null,
   "metadata": {},
   "outputs": [],
   "source": [
    "# ## Make lists of high and low pixels (more or less than 5 sigma) in the flatimage (\"suspicious pixels\") and their values\n",
    "\n",
    "# # Print lists?\n",
    "printlists = 'no'\n",
    "\n",
    "multiplier = 10.\n",
    "\n",
    "highlimit = flatmedian + multiplier*flatmad\n",
    "lowlimit = flatmedian - multiplier*flatmad\n",
    "hfmask = np.where(flatimage > highlimit)   # Or put in some other value.\n",
    "lfmask = np.where(flatimage < lowlimit)   # Or put in some other value.\n",
    "print('high threshold =',highlimit,'   low threshold =',lowlimit)\n",
    "print( 'high pixels =', len(hfmask[0]), '    low pixels =', len(lfmask[0]))\n",
    "print( '')\n",
    "if printlists == 'yes':\n",
    "    print( 'list of high pixels')\n",
    "    for i in range(len(hfmask[0])):\n",
    "        print( ('{:3}{:5}{:5}{:>10.3f}'.format(i,hfmask[0][i],hfmask[1][i],flatimage[hfmask[0][i],hfmask[1][i]])))\n",
    "    print( '')\n",
    "    print( 'low pixels')\n",
    "    for i in range(len(lfmask[0])):\n",
    "        print( ('{:3}{:5}{:5}{:>10.3f}'.format(i,lfmask[0][i],lfmask[1][i],flatimage[lfmask[0][i],lfmask[1][i]])))"
   ]
  },
  {
   "cell_type": "markdown",
   "metadata": {},
   "source": [
    "# Plot a row and/or column"
   ]
  },
  {
   "cell_type": "code",
   "execution_count": null,
   "metadata": {},
   "outputs": [],
   "source": [
    "rowcolplot(rawimage,files[whichimage],750,350,plotrow=True,plotcol=True,dots=True,ylims=(3000.,11000.),autoscale=False)"
   ]
  }
 ],
 "metadata": {
  "kernelspec": {
   "display_name": "Python 3",
   "language": "python",
   "name": "python3"
  },
  "language_info": {
   "codemirror_mode": {
    "name": "ipython",
    "version": 3
   },
   "file_extension": ".py",
   "mimetype": "text/x-python",
   "name": "python",
   "nbconvert_exporter": "python",
   "pygments_lexer": "ipython3",
   "version": "3.7.1"
  }
 },
 "nbformat": 4,
 "nbformat_minor": 2
}
