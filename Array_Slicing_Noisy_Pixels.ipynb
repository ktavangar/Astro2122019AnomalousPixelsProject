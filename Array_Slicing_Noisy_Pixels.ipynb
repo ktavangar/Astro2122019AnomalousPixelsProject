{
 "cells": [
  {
   "cell_type": "code",
   "execution_count": 5,
   "metadata": {},
   "outputs": [],
   "source": [
    "import sys\n",
    "import os\n",
    "import numpy as np                                # numpy is a collection of python modules for array math.\n",
    "from matplotlib import pyplot as plt              # A collection of modules. Needed here to display images and graphs.\n",
    "from matplotlib import pylab                      # A collection of modules. Needed here to plot histograms.\n",
    "sys.path.append(r\"C:\\Users\\solfr\\Desktop\\a212pylibs\") # Adds the path to the DataPype module to the system path.\n",
    "from datapype.datafits import DataFits            # Gets the function that makes datapype io objects from module datafits in package datapype.\n",
    "from astropy.io import fits                       # Need this if you want to use astropy.io io objects.\n",
    "from ipywidgets import interact                   # Need this for interactive plots.\n",
    "from matplotlib.colors import LogNorm             # Machinery for LogNorm scaling of intensities.\n",
    "from matplotlib.colors import SymLogNorm          # Machinery for SymLogNorm scaling of intensities.\n",
    "from matplotlib.colors import PowerNorm           # Machinery for LogNorm (e.g., square root) scaling of intensities.\n",
    "from astropy.stats import mad_std                 # The median absolute deviation, a more robust estimator than std.\n",
    "import scipy.ndimage as nd                        # Various algorithms for image transformations.\n",
    "\n",
    "\n",
    "# ## Use this if dah_functions is a subdirectory of a212pylibs.\n",
    "# from dah_functions.dah_functions import head\n",
    "# from dah_functions.dah_functions import displaypic\n",
    "# from dah_functions.dah_functions import displaypic2\n",
    "# from dah_functions.dah_functions import show_image\n",
    "# from dah_functions.dah_functions import blink_images\n",
    "# from dah_functions.dah_functions import blink2images\n",
    "# from dah_functions.dah_functions import rowplot\n",
    "# from dah_functions.dah_functions import colplot\n",
    "# from dah_functions.dah_functions import rowcolplot\n",
    "\n",
    "## Use this if dah_functions is stored in a different path from a212pylibs.\n",
    "## The following adds a bunch of functions in a module stored in the path below.\n",
    "sys.path.append(r\"C:\\Users\\solfr\\Desktop\\a212pylibs\") # Adds path to MyCode directory on my computer to system python path.\n",
    "from dah_functions_2 import head\n",
    "from dah_functions_2 import displaypic\n",
    "from dah_functions_2 import displaypic2\n",
    "from dah_functions_2 import show_image\n",
    "from dah_functions_2 import blink_images\n",
    "from dah_functions_2 import rowplot\n",
    "from dah_functions_2 import colplot\n",
    "from dah_functions_2 import rowcolplot\n",
    "from dah_functions_2 import moments\n",
    "from dah_functions_2 import quickpic\n",
    "from dah_functions_2 import getpatch\n",
    "from dah_functions_2 import stackfits\n",
    "\n",
    "###############################################################################\n",
    "# ## Don't need the following in this notebook. Hold on to them for now.\n",
    "# import time        \n",
    "# import re\n",
    "# import scipy.stats\n",
    "# import matplotlib.colors as colors\n",
    "# import configobj  #What is this? Where does it come from?\n",
    "###############################################################################"
   ]
  },
  {
   "cell_type": "code",
   "execution_count": 6,
   "metadata": {},
   "outputs": [
    {
     "data": {
      "text/plain": [
       "52"
      ]
     },
     "execution_count": 6,
     "metadata": {},
     "output_type": "execute_result"
    }
   ],
   "source": [
    "len(get_ipython().user_ns.keys())"
   ]
  },
  {
   "cell_type": "code",
   "execution_count": 7,
   "metadata": {},
   "outputs": [],
   "source": [
    "datapath = r\"C:\\Users\\solfr\\Desktop\\24inch_data\\504dark\\dark\""
   ]
  },
  {
   "cell_type": "code",
   "execution_count": 8,
   "metadata": {
    "scrolled": false
   },
   "outputs": [
    {
     "name": "stdout",
     "output_type": "stream",
     "text": [
      "0 dark_190504_AB-001_020s.fit\n",
      "1 dark_190504_AB-001_040s.fit\n",
      "2 dark_190504_AB-001_100s.fit\n",
      "3 dark_190504_AB-001_180s.fit\n",
      "4 dark_190504_AB-001_bias.fit\n",
      "5 dark_190504_AB-002_020s.fit\n",
      "6 dark_190504_AB-002_040s.fit\n",
      "7 dark_190504_AB-002_100s.fit\n",
      "8 dark_190504_AB-002_180s.fit\n",
      "9 dark_190504_AB-002_bias.fit\n",
      "10 dark_190504_AB-003_020s.fit\n",
      "11 dark_190504_AB-003_040s.fit\n",
      "12 dark_190504_AB-003_100s.fit\n",
      "13 dark_190504_AB-003_180s.fit\n",
      "14 dark_190504_AB-003_bias.fit\n",
      "15 dark_190504_AB-004_020s.fit\n",
      "16 dark_190504_AB-004_040s.fit\n",
      "17 dark_190504_AB-004_100s.fit\n",
      "18 dark_190504_AB-004_180s.fit\n",
      "19 dark_190504_AB-004_bias.fit\n",
      "20 dark_190504_AB-005_020s.fit\n",
      "21 dark_190504_AB-005_040s.fit\n",
      "22 dark_190504_AB-005_100s.fit\n",
      "23 dark_190504_AB-005_180s.fit\n",
      "24 dark_190504_AB-005_bias.fit\n",
      "25 dark_190504_AB-006_020s.fit\n",
      "26 dark_190504_AB-006_040s.fit\n",
      "27 dark_190504_AB-006_100s.fit\n",
      "28 dark_190504_AB-006_180s.fit\n",
      "29 dark_190504_AB-006_bias.fit\n",
      "30 dark_190504_AB-007_020s.fit\n",
      "31 dark_190504_AB-007_040s.fit\n",
      "32 dark_190504_AB-007_100s.fit\n",
      "33 dark_190504_AB-007_180s.fit\n",
      "34 dark_190504_AB-007_bias.fit\n",
      "35 dark_190504_AB-008_020s.fit\n",
      "36 dark_190504_AB-008_040s.fit\n",
      "37 dark_190504_AB-008_100s.fit\n",
      "38 dark_190504_AB-008_180s.fit\n",
      "39 dark_190504_AB-008_bias.fit\n",
      "40 dark_190504_AB-009_020s.fit\n",
      "41 dark_190504_AB-009_040s.fit\n",
      "42 dark_190504_AB-009_100s.fit\n",
      "43 dark_190504_AB-009_180s.fit\n",
      "44 dark_190504_AB-009_bias.fit\n",
      "45 dark_190504_AB-010_020s.fit\n",
      "46 dark_190504_AB-010_040s.fit\n",
      "47 dark_190504_AB-010_100s.fit\n",
      "48 dark_190504_AB-010_180s.fit\n",
      "49 dark_190504_AB-010_bias.fit\n",
      "50 dark_190504_AB-011_020s.fit\n",
      "51 dark_190504_AB-011_040s.fit\n",
      "52 dark_190504_AB-011_100s.fit\n",
      "53 dark_190504_AB-011_180s.fit\n",
      "54 dark_190504_AB-011_bias.fit\n",
      "55 dark_190504_AB-012_020s.fit\n",
      "56 dark_190504_AB-012_040s.fit\n",
      "57 dark_190504_AB-012_100s.fit\n",
      "58 dark_190504_AB-012_180s.fit\n",
      "59 dark_190504_AB-012_bias.fit\n",
      "60 dark_190504_AB-013_020s.fit\n",
      "61 dark_190504_AB-013_040s.fit\n",
      "62 dark_190504_AB-013_100s.fit\n",
      "63 dark_190504_AB-013_180s.fit\n",
      "64 dark_190504_AB-013_bias.fit\n",
      "65 dark_190504_AB-014_020s.fit\n",
      "66 dark_190504_AB-014_040s.fit\n",
      "67 dark_190504_AB-014_100s.fit\n",
      "68 dark_190504_AB-014_180s.fit\n",
      "69 dark_190504_AB-014_bias.fit\n",
      "70 dark_190504_AB-015_020s.fit\n",
      "71 dark_190504_AB-015_040s.fit\n",
      "72 dark_190504_AB-015_100s.fit\n",
      "73 dark_190504_AB-015_180s.fit\n",
      "74 dark_190504_AB-015_bias.fit\n",
      "75 dark_190504_AB-016_020s.fit\n",
      "76 dark_190504_AB-016_040s.fit\n",
      "77 dark_190504_AB-016_100s.fit\n",
      "78 dark_190504_AB-016_180s.fit\n",
      "79 dark_190504_AB-016_bias.fit\n",
      "80 dark_190504_AB-017_020s.fit\n",
      "81 dark_190504_AB-017_040s.fit\n",
      "82 dark_190504_AB-017_100s.fit\n",
      "83 dark_190504_AB-017_180s.fit\n",
      "84 dark_190504_AB-017_bias.fit\n",
      "85 dark_190504_AB-018_020s.fit\n",
      "86 dark_190504_AB-018_040s.fit\n",
      "87 dark_190504_AB-018_100s.fit\n",
      "88 dark_190504_AB-018_180s.fit\n",
      "89 dark_190504_AB-018_bias.fit\n",
      "90 dark_190504_AB-019_020s.fit\n",
      "91 dark_190504_AB-019_040s.fit\n",
      "92 dark_190504_AB-019_100s.fit\n",
      "93 dark_190504_AB-019_180s.fit\n",
      "94 dark_190504_AB-019_bias.fit\n",
      "95 dark_190504_AB-020_020s.fit\n",
      "96 dark_190504_AB-020_040s.fit\n",
      "97 dark_190504_AB-020_100s.fit\n",
      "98 dark_190504_AB-020_180s.fit\n",
      "99 dark_190504_AB-020_bias.fit\n",
      "100 dark_190504_AB-021_020s.fit\n",
      "101 dark_190504_AB-021_040s.fit\n",
      "102 dark_190504_AB-021_100s.fit\n",
      "103 dark_190504_AB-021_180s.fit\n",
      "104 dark_190504_AB-021_bias.fit\n",
      "105 dark_190504_AB-022_020s.fit\n",
      "106 dark_190504_AB-022_040s.fit\n",
      "107 dark_190504_AB-022_100s.fit\n",
      "108 dark_190504_AB-022_180s.fit\n",
      "109 dark_190504_AB-022_bias.fit\n",
      "110 dark_190504_AB-023_020s.fit\n",
      "111 dark_190504_AB-023_040s.fit\n",
      "112 dark_190504_AB-023_100s.fit\n",
      "113 dark_190504_AB-023_180s.fit\n",
      "114 dark_190504_AB-023_bias.fit\n",
      "115 dark_190504_AB-024_020s.fit\n",
      "116 dark_190504_AB-024_040s.fit\n",
      "117 dark_190504_AB-024_100s.fit\n",
      "118 dark_190504_AB-024_180s.fit\n",
      "119 dark_190504_AB-024_bias.fit\n",
      "120 dark_190504_AB-025_020s.fit\n",
      "121 dark_190504_AB-025_040s.fit\n",
      "122 dark_190504_AB-025_100s.fit\n",
      "123 dark_190504_AB-025_180s.fit\n",
      "124 dark_190504_AB-025_bias.fit\n",
      "125 dark_190504_AB-026_020s.fit\n",
      "126 dark_190504_AB-026_040s.fit\n",
      "127 dark_190504_AB-026_100s.fit\n",
      "128 dark_190504_AB-026_180s.fit\n",
      "129 dark_190504_AB-026_bias.fit\n",
      "130 dark_190504_AB-027_020s.fit\n",
      "131 dark_190504_AB-027_040s.fit\n",
      "132 dark_190504_AB-027_100s.fit\n",
      "133 dark_190504_AB-027_180s.fit\n",
      "134 dark_190504_AB-027_bias.fit\n",
      "135 dark_190504_AB-028_020s.fit\n",
      "136 dark_190504_AB-028_040s.fit\n",
      "137 dark_190504_AB-028_100s.fit\n",
      "138 dark_190504_AB-028_180s.fit\n",
      "139 dark_190504_AB-028_bias.fit\n",
      "140 dark_190504_AB-029_020s.fit\n",
      "141 dark_190504_AB-029_040s.fit\n",
      "142 dark_190504_AB-029_100s.fit\n",
      "143 dark_190504_AB-029_180s.fit\n",
      "144 dark_190504_AB-029_bias.fit\n",
      "145 dark_190504_AB-030_020s.fit\n",
      "146 dark_190504_AB-030_040s.fit\n",
      "147 dark_190504_AB-030_100s.fit\n",
      "148 dark_190504_AB-030_180s.fit\n",
      "149 dark_190504_AB-030_bias.fit\n",
      "150 dark_190504_AB-031_020s.fit\n",
      "151 dark_190504_AB-031_040s.fit\n",
      "152 dark_190504_AB-031_100s.fit\n",
      "153 dark_190504_AB-031_180s.fit\n",
      "154 dark_190504_AB-031_bias.fit\n",
      "155 dark_190504_AB-032_020s.fit\n",
      "156 dark_190504_AB-032_040s.fit\n",
      "157 dark_190504_AB-032_100s.fit\n",
      "158 dark_190504_AB-032_180s.fit\n",
      "159 dark_190504_AB-032_bias.fit\n",
      "160 dark_190504_AB-033_020s.fit\n",
      "161 dark_190504_AB-033_040s.fit\n",
      "162 dark_190504_AB-033_100s.fit\n",
      "163 dark_190504_AB-033_180s.fit\n",
      "164 dark_190504_AB-033_bias.fit\n",
      "165 dark_190504_AB-034_020s.fit\n",
      "166 dark_190504_AB-034_040s.fit\n",
      "167 dark_190504_AB-034_100s.fit\n",
      "168 dark_190504_AB-034_180s.fit\n",
      "169 dark_190504_AB-034_bias.fit\n",
      "170 dark_190504_AB-035_020s.fit\n",
      "171 dark_190504_AB-035_040s.fit\n",
      "172 dark_190504_AB-035_100s.fit\n",
      "173 dark_190504_AB-035_180s.fit\n",
      "174 dark_190504_AB-035_bias.fit\n",
      "175 dark_190504_AB-036_020s.fit\n",
      "176 dark_190504_AB-036_040s.fit\n",
      "177 dark_190504_AB-036_100s.fit\n",
      "178 dark_190504_AB-036_180s.fit\n",
      "179 dark_190504_AB-036_bias.fit\n",
      "180 dark_190504_AB-037_020s.fit\n",
      "181 dark_190504_AB-037_040s.fit\n",
      "182 dark_190504_AB-037_100s.fit\n",
      "183 dark_190504_AB-037_180s.fit\n",
      "184 dark_190504_AB-037_bias.fit\n",
      "185 dark_190504_AB-038_020s.fit\n",
      "186 dark_190504_AB-038_040s.fit\n",
      "187 dark_190504_AB-038_100s.fit\n",
      "188 dark_190504_AB-038_180s.fit\n",
      "189 dark_190504_AB-038_bias.fit\n",
      "190 dark_190504_AB-039_020s.fit\n",
      "191 dark_190504_AB-039_040s.fit\n",
      "192 dark_190504_AB-039_100s.fit\n",
      "193 dark_190504_AB-039_180s.fit\n",
      "194 dark_190504_AB-039_bias.fit\n",
      "195 dark_190504_AB-040_020s.fit\n",
      "196 dark_190504_AB-040_040s.fit\n",
      "197 dark_190504_AB-040_100s.fit\n",
      "198 dark_190504_AB-040_180s.fit\n",
      "199 dark_190504_AB-040_bias.fit\n",
      "200 dark_190504_AB-041_020s.fit\n",
      "201 dark_190504_AB-041_040s.fit\n",
      "202 dark_190504_AB-041_100s.fit\n",
      "203 dark_190504_AB-041_180s.fit\n",
      "204 dark_190504_AB-041_bias.fit\n",
      "205 dark_190504_AB-042_020s.fit\n",
      "206 dark_190504_AB-042_040s.fit\n",
      "207 dark_190504_AB-042_100s.fit\n",
      "208 dark_190504_AB-042_180s.fit\n",
      "209 dark_190504_AB-042_bias.fit\n",
      "210 dark_190504_AB-043_020s.fit\n",
      "211 dark_190504_AB-043_040s.fit\n",
      "212 dark_190504_AB-043_100s.fit\n",
      "213 dark_190504_AB-043_180s.fit\n",
      "214 dark_190504_AB-043_bias.fit\n",
      "215 dark_190504_AB-044_020s.fit\n",
      "216 dark_190504_AB-044_040s.fit\n",
      "217 dark_190504_AB-044_100s.fit\n",
      "218 dark_190504_AB-044_180s.fit\n",
      "219 dark_190504_AB-044_bias.fit\n",
      "220 dark_190504_AB-045_020s.fit\n",
      "221 dark_190504_AB-045_040s.fit\n",
      "222 dark_190504_AB-045_100s.fit\n",
      "223 dark_190504_AB-045_180s.fit\n",
      "224 dark_190504_AB-045_bias.fit\n",
      "225 dark_190504_AB-046_020s.fit\n",
      "226 dark_190504_AB-046_040s.fit\n",
      "227 dark_190504_AB-046_100s.fit\n",
      "228 dark_190504_AB-046_180s.fit\n",
      "229 dark_190504_AB-046_bias.fit\n",
      "230 dark_190504_AB-047_020s.fit\n",
      "231 dark_190504_AB-047_040s.fit\n",
      "232 dark_190504_AB-047_100s.fit\n",
      "233 dark_190504_AB-047_180s.fit\n",
      "234 dark_190504_AB-047_bias.fit\n",
      "235 dark_190504_AB-048_020s.fit\n",
      "236 dark_190504_AB-048_040s.fit\n",
      "237 dark_190504_AB-048_100s.fit\n",
      "238 dark_190504_AB-048_180s.fit\n",
      "239 dark_190504_AB-048_bias.fit\n",
      "240 dark_190504_AB-049_020s.fit\n",
      "241 dark_190504_AB-049_040s.fit\n",
      "242 dark_190504_AB-049_100s.fit\n",
      "243 dark_190504_AB-049_180s.fit\n",
      "244 dark_190504_AB-049_bias.fit\n",
      "245 dark_190504_AB-050_020s.fit\n",
      "246 dark_190504_AB-050_040s.fit\n",
      "247 dark_190504_AB-050_100s.fit\n",
      "248 dark_190504_AB-050_180s.fit\n",
      "249 dark_190504_AB-050_bias.fit\n",
      "250 dark_190504_AC-001_020s.fit\n",
      "251 dark_190504_AC-001_040s.fit\n",
      "252 dark_190504_AC-001_100s.fit\n",
      "253 dark_190504_AC-001_180s.fit\n",
      "254 dark_190504_AC-001_bias.fit\n",
      "255 dark_190504_AC-002_020s.fit\n",
      "256 dark_190504_AC-002_040s.fit\n",
      "257 dark_190504_AC-002_100s.fit\n",
      "258 dark_190504_AC-002_180s.fit\n",
      "259 dark_190504_AC-002_bias.fit\n",
      "260 dark_190504_AC-003_020s.fit\n",
      "261 dark_190504_AC-003_040s.fit\n",
      "262 dark_190504_AC-003_100s.fit\n",
      "263 dark_190504_AC-003_180s.fit\n",
      "264 dark_190504_AC-003_bias.fit\n",
      "265 dark_190504_AC-004_020s.fit\n",
      "266 dark_190504_AC-004_040s.fit\n",
      "267 dark_190504_AC-004_100s.fit\n",
      "268 dark_190504_AC-004_180s.fit\n",
      "269 dark_190504_AC-004_bias.fit\n",
      "270 dark_190504_AC-005_020s.fit\n",
      "271 dark_190504_AC-005_040s.fit\n",
      "272 dark_190504_AC-005_100s.fit\n",
      "273 dark_190504_AC-005_180s.fit\n",
      "274 dark_190504_AC-005_bias.fit\n",
      "275 dark_190504_AC-006_020s.fit\n",
      "276 dark_190504_AC-006_040s.fit\n",
      "277 dark_190504_AC-006_100s.fit\n",
      "278 dark_190504_AC-006_180s.fit\n",
      "279 dark_190504_AC-006_bias.fit\n",
      "280 dark_190504_AC-007_020s.fit\n",
      "281 dark_190504_AC-007_040s.fit\n",
      "282 dark_190504_AC-007_100s.fit\n",
      "283 dark_190504_AC-007_180s.fit\n",
      "284 dark_190504_AC-007_bias.fit\n",
      "285 dark_190504_AC-008_020s.fit\n",
      "286 dark_190504_AC-008_040s.fit\n",
      "287 dark_190504_AC-008_100s.fit\n",
      "288 dark_190504_AC-008_180s.fit\n",
      "289 dark_190504_AC-008_bias.fit\n",
      "290 dark_190504_AC-009_020s.fit\n",
      "291 dark_190504_AC-009_040s.fit\n",
      "292 dark_190504_AC-009_100s.fit\n",
      "293 dark_190504_AC-009_180s.fit\n",
      "294 dark_190504_AC-009_bias.fit\n",
      "295 dark_190504_AC-010_020s.fit\n",
      "296 dark_190504_AC-010_040s.fit\n",
      "297 dark_190504_AC-010_100s.fit\n",
      "298 dark_190504_AC-010_180s.fit\n",
      "299 dark_190504_AC-010_bias.fit\n",
      "300 dark_190504_AC-011_020s.fit\n",
      "301 dark_190504_AC-011_040s.fit\n",
      "302 dark_190504_AC-011_100s.fit\n",
      "303 dark_190504_AC-011_180s.fit\n",
      "304 dark_190504_AC-011_bias.fit\n",
      "305 dark_190504_AC-012_020s.fit\n",
      "306 dark_190504_AC-012_040s.fit\n",
      "307 dark_190504_AC-012_100s.fit\n",
      "308 dark_190504_AC-012_180s.fit\n",
      "309 dark_190504_AC-012_bias.fit\n",
      "310 dark_190504_AC-013_020s.fit\n",
      "311 dark_190504_AC-013_040s.fit\n",
      "312 dark_190504_AC-013_100s.fit\n",
      "313 dark_190504_AC-013_180s.fit\n",
      "314 dark_190504_AC-013_bias.fit\n",
      "315 dark_190504_AC-014_020s.fit\n",
      "316 dark_190504_AC-014_040s.fit\n",
      "317 dark_190504_AC-014_100s.fit\n",
      "318 dark_190504_AC-014_180s.fit\n",
      "319 dark_190504_AC-014_bias.fit\n",
      "320 dark_190504_AC-015_020s.fit\n",
      "321 dark_190504_AC-015_040s.fit\n",
      "322 dark_190504_AC-015_100s.fit\n",
      "323 dark_190504_AC-015_180s.fit\n",
      "324 dark_190504_AC-015_bias.fit\n",
      "325 dark_190504_AC-016_020s.fit\n",
      "326 dark_190504_AC-016_040s.fit\n",
      "327 dark_190504_AC-016_100s.fit\n",
      "328 dark_190504_AC-016_180s.fit\n",
      "329 dark_190504_AC-016_bias.fit\n",
      "330 dark_190504_AC-017_020s.fit\n",
      "331 dark_190504_AC-017_040s.fit\n",
      "332 dark_190504_AC-017_100s.fit\n",
      "333 dark_190504_AC-017_180s.fit\n",
      "334 dark_190504_AC-017_bias.fit\n",
      "335 dark_190504_AC-018_020s.fit\n",
      "336 dark_190504_AC-018_040s.fit\n",
      "337 dark_190504_AC-018_100s.fit\n",
      "338 dark_190504_AC-018_180s.fit\n",
      "339 dark_190504_AC-018_bias.fit\n",
      "340 dark_190504_AC-019_020s.fit\n",
      "341 dark_190504_AC-019_040s.fit\n",
      "342 dark_190504_AC-019_100s.fit\n",
      "343 dark_190504_AC-019_180s.fit\n",
      "344 dark_190504_AC-019_bias.fit\n",
      "345 dark_190504_AC-020_020s.fit\n",
      "346 dark_190504_AC-020_040s.fit\n",
      "347 dark_190504_AC-020_100s.fit\n",
      "348 dark_190504_AC-020_180s.fit\n",
      "349 dark_190504_AC-020_bias.fit\n",
      "350 dark_190504_AC-021_020s.fit\n",
      "351 dark_190504_AC-021_040s.fit\n",
      "352 dark_190504_AC-021_100s.fit\n",
      "353 dark_190504_AC-021_180s.fit\n",
      "354 dark_190504_AC-021_bias.fit\n",
      "355 dark_190504_AC-022_020s.fit\n",
      "356 dark_190504_AC-022_040s.fit\n",
      "357 dark_190504_AC-022_100s.fit\n",
      "358 dark_190504_AC-022_180s.fit\n",
      "359 dark_190504_AC-022_bias.fit\n",
      "360 dark_190504_AC-023_020s.fit\n",
      "361 dark_190504_AC-023_040s.fit\n",
      "362 dark_190504_AC-023_100s.fit\n",
      "363 dark_190504_AC-023_180s.fit\n",
      "364 dark_190504_AC-023_bias.fit\n",
      "365 dark_190504_AC-024_020s.fit\n",
      "366 dark_190504_AC-024_040s.fit\n",
      "367 dark_190504_AC-024_100s.fit\n",
      "368 dark_190504_AC-024_180s.fit\n",
      "369 dark_190504_AC-024_bias.fit\n",
      "370 dark_190504_AC-025_bias.fit\n",
      "371 dark_190504_AD-001_020s.fit\n",
      "372 dark_190504_AD-001_040s.fit\n",
      "373 dark_190504_AD-001_100s.fit\n",
      "374 dark_190504_AD-001_180s.fit\n",
      "375 dark_190504_AD-001_bias.fit\n",
      "376 dark_190504_AD-002_020s.fit\n",
      "377 dark_190504_AD-002_040s.fit\n",
      "378 dark_190504_AD-002_100s.fit\n",
      "379 dark_190504_AD-002_180s.fit\n",
      "380 dark_190504_AD-002_bias.fit\n",
      "381 dark_190504_AD-003_020s.fit\n",
      "382 dark_190504_AD-003_040s.fit\n",
      "383 dark_190504_AD-003_100s.fit\n",
      "384 dark_190504_AD-003_180s.fit\n",
      "385 dark_190504_AD-003_bias.fit\n",
      "386 dark_190504_AD-004_020s.fit\n",
      "387 dark_190504_AD-004_040s.fit\n",
      "388 dark_190504_AD-004_100s.fit\n",
      "389 dark_190504_AD-004_180s.fit\n",
      "390 dark_190504_AD-004_bias.fit\n",
      "391 dark_190504_AD-005_020s.fit\n",
      "392 dark_190504_AD-005_040s.fit\n",
      "393 dark_190504_AD-005_100s.fit\n",
      "394 dark_190504_AD-005_180s.fit\n",
      "395 dark_190504_AD-005_bias.fit\n",
      "396 dark_190504_AD-006_020s.fit\n",
      "397 dark_190504_AD-006_040s.fit\n",
      "398 dark_190504_AD-006_100s.fit\n",
      "399 dark_190504_AD-006_180s.fit\n",
      "400 dark_190504_AD-006_bias.fit\n",
      "401 dark_190504_AD-007_020s.fit\n",
      "402 dark_190504_AD-007_040s.fit\n",
      "403 dark_190504_AD-007_100s.fit\n",
      "404 dark_190504_AD-007_180s.fit\n",
      "405 dark_190504_AD-007_bias.fit\n",
      "406 dark_190504_AD-008_020s.fit\n",
      "407 dark_190504_AD-008_040s.fit\n",
      "408 dark_190504_AD-008_100s.fit\n",
      "409 dark_190504_AD-008_180s.fit\n",
      "410 dark_190504_AD-008_bias.fit\n",
      "411 dark_190504_AD-009_020s.fit\n",
      "412 dark_190504_AD-009_040s.fit\n",
      "413 dark_190504_AD-009_100s.fit\n",
      "414 dark_190504_AD-009_180s.fit\n",
      "415 dark_190504_AD-009_bias.fit\n",
      "416 dark_190504_AD-010_020s.fit\n",
      "417 dark_190504_AD-010_040s.fit\n",
      "418 dark_190504_AD-010_100s.fit\n",
      "419 dark_190504_AD-010_180s.fit\n",
      "420 dark_190504_AD-010_bias.fit\n",
      "421 dark_190504_AD-011_020s.fit\n",
      "422 dark_190504_AD-011_040s.fit\n",
      "423 dark_190504_AD-011_100s.fit\n",
      "424 dark_190504_AD-011_180s.fit\n",
      "425 dark_190504_AD-011_bias.fit\n",
      "426 dark_190504_AD-012_020s.fit\n",
      "427 dark_190504_AD-012_040s.fit\n",
      "428 dark_190504_AD-012_100s.fit\n",
      "429 dark_190504_AD-012_180s.fit\n",
      "430 dark_190504_AD-012_bias.fit\n",
      "431 dark_190504_AD-013_020s.fit\n",
      "432 dark_190504_AD-013_040s.fit\n",
      "433 dark_190504_AD-013_100s.fit\n",
      "434 dark_190504_AD-013_180s.fit\n",
      "435 dark_190504_AD-013_bias.fit\n",
      "436 dark_190504_AD-014_020s.fit\n",
      "437 dark_190504_AD-014_040s.fit\n",
      "438 dark_190504_AD-014_100s.fit\n",
      "439 dark_190504_AD-014_180s.fit\n",
      "440 dark_190504_AD-014_bias.fit\n",
      "441 dark_190504_AD-015_020s.fit\n",
      "442 dark_190504_AD-015_040s.fit\n",
      "443 dark_190504_AD-015_100s.fit\n",
      "444 dark_190504_AD-015_180s.fit\n",
      "445 dark_190504_AD-015_bias.fit\n",
      "446 dark_190504_AD-016_020s.fit\n",
      "447 dark_190504_AD-016_040s.fit\n",
      "448 dark_190504_AD-016_100s.fit\n",
      "449 dark_190504_AD-016_180s.fit\n",
      "450 dark_190504_AD-016_bias.fit\n",
      "451 dark_190504_AD-017_020s.fit\n",
      "452 dark_190504_AD-017_040s.fit\n",
      "453 dark_190504_AD-017_100s.fit\n",
      "454 dark_190504_AD-017_180s.fit\n",
      "455 dark_190504_AD-017_bias.fit\n",
      "456 dark_190504_AD-018_020s.fit\n",
      "457 dark_190504_AD-018_040s.fit\n",
      "458 dark_190504_AD-018_100s.fit\n",
      "459 dark_190504_AD-018_180s.fit\n",
      "460 dark_190504_AD-018_bias.fit\n",
      "461 dark_190504_AD-019_020s.fit\n",
      "462 dark_190504_AD-019_040s.fit\n",
      "463 dark_190504_AD-019_100s.fit\n",
      "464 dark_190504_AD-019_180s.fit\n",
      "465 dark_190504_AD-019_bias.fit\n",
      "466 dark_190504_AD-020_020s.fit\n",
      "467 dark_190504_AD-020_040s.fit\n",
      "468 dark_190504_AD-020_100s.fit\n",
      "469 dark_190504_AD-020_180s.fit\n",
      "470 dark_190504_AD-020_bias.fit\n",
      "471 dark_190504_AD-021_020s.fit\n",
      "472 dark_190504_AD-021_040s.fit\n",
      "473 dark_190504_AD-021_100s.fit\n",
      "474 dark_190504_AD-021_180s.fit\n",
      "475 dark_190504_AD-021_bias.fit\n",
      "476 dark_190504_AD-022_020s.fit\n",
      "477 dark_190504_AD-022_040s.fit\n",
      "478 dark_190504_AD-022_100s.fit\n",
      "479 dark_190504_AD-022_180s.fit\n",
      "480 dark_190504_AD-022_bias.fit\n",
      "481 dark_190504_AD-023_020s.fit\n",
      "482 dark_190504_AD-023_040s.fit\n",
      "483 dark_190504_AD-023_100s.fit\n",
      "484 dark_190504_AD-023_180s.fit\n",
      "485 dark_190504_AD-023_bias.fit\n",
      "486 dark_190504_AD-024_020s.fit\n",
      "487 dark_190504_AD-024_040s.fit\n",
      "488 dark_190504_AD-024_100s.fit\n",
      "489 dark_190504_AD-024_180s.fit\n",
      "490 dark_190504_AD-024_bias.fit\n",
      "491 dark_190504_AD-025_020s.fit\n",
      "492 dark_190504_AD-025_040s.fit\n",
      "493 dark_190504_AD-025_100s.fit\n",
      "494 dark_190504_AD-025_180s.fit\n",
      "495 dark_190504_AD-025_bias.fit\n",
      "496 dark_190504_AD-026_020s.fit\n",
      "497 dark_190504_AD-026_040s.fit\n",
      "498 dark_190504_AD-026_100s.fit\n",
      "499 dark_190504_AD-026_180s.fit\n",
      "500 dark_190504_AD-026_bias.fit\n",
      "501 dark_190504_AD-027_020s.fit\n",
      "502 dark_190504_AD-027_040s.fit\n",
      "503 dark_190504_AD-027_100s.fit\n",
      "504 dark_190504_AD-027_180s.fit\n",
      "505 dark_190504_AD-027_bias.fit\n",
      "506 dark_190504_AD-028_020s.fit\n",
      "507 dark_190504_AD-028_040s.fit\n",
      "508 dark_190504_AD-028_100s.fit\n",
      "509 dark_190504_AD-028_180s.fit\n",
      "510 dark_190504_AD-028_bias.fit\n",
      "511 dark_190504_AD-029_020s.fit\n",
      "512 dark_190504_AD-029_040s.fit\n",
      "513 dark_190504_AD-029_100s.fit\n",
      "514 dark_190504_AD-029_180s.fit\n",
      "515 dark_190504_AD-029_bias.fit\n",
      "516 dark_190504_AD-030_020s.fit\n",
      "517 dark_190504_AD-030_040s.fit\n",
      "518 dark_190504_AD-030_100s.fit\n",
      "519 dark_190504_AD-030_180s.fit\n",
      "520 dark_190504_AD-030_bias.fit\n",
      "521 dark_190504_AD-031_020s.fit\n",
      "522 dark_190504_AD-031_040s.fit\n",
      "523 dark_190504_AD-031_100s.fit\n",
      "524 dark_190504_AD-031_180s.fit\n",
      "525 dark_190504_AD-031_bias.fit\n",
      "526 dark_190504_AD-032_020s.fit\n",
      "527 dark_190504_AD-032_040s.fit\n",
      "528 dark_190504_AD-032_100s.fit\n",
      "529 dark_190504_AD-032_180s.fit\n",
      "530 dark_190504_AD-032_bias.fit\n",
      "531 dark_190504_AD-033_020s.fit\n",
      "532 dark_190504_AD-033_040s.fit\n",
      "533 dark_190504_AD-033_100s.fit\n",
      "534 dark_190504_AD-033_180s.fit\n",
      "535 dark_190504_AD-033_bias.fit\n",
      "536 dark_190504_AD-034_020s.fit\n",
      "537 dark_190504_AD-034_040s.fit\n",
      "538 dark_190504_AD-034_100s.fit\n",
      "539 dark_190504_AD-034_180s.fit\n",
      "540 dark_190504_AD-034_bias.fit\n",
      "541 dark_190504_AD-035_020s.fit\n",
      "542 dark_190504_AD-035_040s.fit\n",
      "543 dark_190504_AD-035_100s.fit\n",
      "544 dark_190504_AD-035_180s.fit\n",
      "545 dark_190504_AD-035_bias.fit\n",
      "546 dark_190504_AD-036_020s.fit\n",
      "547 dark_190504_AD-036_040s.fit\n",
      "548 dark_190504_AD-036_100s.fit\n",
      "549 dark_190504_AD-036_180s.fit\n",
      "550 dark_190504_AD-036_bias.fit\n",
      "551 dark_190504_AD-037_020s.fit\n",
      "552 dark_190504_AD-037_040s.fit\n",
      "553 dark_190504_AD-037_100s.fit\n",
      "554 dark_190504_AD-037_180s.fit\n",
      "555 dark_190504_AD-037_bias.fit\n",
      "556 dark_190504_AD-038_020s.fit\n",
      "557 dark_190504_AD-038_040s.fit\n",
      "558 dark_190504_AD-038_100s.fit\n",
      "559 dark_190504_AD-038_180s.fit\n",
      "560 dark_190504_AD-038_bias.fit\n",
      "561 dark_190504_AD-039_020s.fit\n",
      "562 dark_190504_AD-039_040s.fit\n",
      "563 dark_190504_AD-039_100s.fit\n",
      "564 dark_190504_AD-039_180s.fit\n",
      "565 dark_190504_AD-039_bias.fit\n",
      "566 dark_190504_AD-040_020s.fit\n",
      "567 dark_190504_AD-040_040s.fit\n",
      "568 dark_190504_AD-040_100s.fit\n",
      "569 dark_190504_AD-040_180s.fit\n",
      "570 dark_190504_AD-040_bias.fit\n",
      "571 dark_190504_AD-041_020s.fit\n",
      "572 dark_190504_AD-041_040s.fit\n",
      "573 dark_190504_AD-041_100s.fit\n",
      "574 dark_190504_AD-041_180s.fit\n",
      "575 dark_190504_AD-041_bias.fit\n",
      "576 dark_190504_AD-042_020s.fit\n",
      "577 dark_190504_AD-042_040s.fit\n",
      "578 dark_190504_AD-042_100s.fit\n",
      "579 dark_190504_AD-042_180s.fit\n",
      "580 dark_190504_AD-042_bias.fit\n",
      "581 dark_190504_AD-043_020s.fit\n",
      "582 dark_190504_AD-043_040s.fit\n",
      "583 dark_190504_AD-043_100s.fit\n",
      "584 dark_190504_AD-043_180s.fit\n",
      "585 dark_190504_AD-043_bias.fit\n",
      "586 dark_190504_AD-044_020s.fit\n",
      "587 dark_190504_AD-044_040s.fit\n",
      "588 dark_190504_AD-044_100s.fit\n",
      "589 dark_190504_AD-044_180s.fit\n",
      "590 dark_190504_AD-044_bias.fit\n",
      "591 dark_190504_AD-045_020s.fit\n",
      "592 dark_190504_AD-045_040s.fit\n",
      "593 dark_190504_AD-045_100s.fit\n",
      "594 dark_190504_AD-045_180s.fit\n",
      "595 dark_190504_AD-045_bias.fit\n",
      "596 dark_190504_AD-046_020s.fit\n",
      "597 dark_190504_AD-046_040s.fit\n",
      "598 dark_190504_AD-046_100s.fit\n",
      "599 dark_190504_AD-046_180s.fit\n",
      "600 dark_190504_AD-046_bias.fit\n",
      "601 dark_190504_AD-047_020s.fit\n",
      "602 dark_190504_AD-047_040s.fit\n",
      "603 dark_190504_AD-047_100s.fit\n",
      "604 dark_190504_AD-047_180s.fit\n",
      "605 dark_190504_AD-047_bias.fit\n",
      "606 dark_190504_AD-048_020s.fit\n",
      "607 dark_190504_AD-048_040s.fit\n",
      "608 dark_190504_AD-048_100s.fit\n",
      "609 dark_190504_AD-048_180s.fit\n",
      "610 dark_190504_AD-048_bias.fit\n",
      "611 dark_190504_AD-049_020s.fit\n",
      "612 dark_190504_AD-049_040s.fit\n",
      "613 dark_190504_AD-049_100s.fit\n",
      "614 dark_190504_AD-049_180s.fit\n"
     ]
    },
    {
     "name": "stdout",
     "output_type": "stream",
     "text": [
      "615 dark_190504_AD-049_bias.fit\n",
      "616 dark_190504_AD-050_020s.fit\n",
      "617 dark_190504_AD-050_040s.fit\n",
      "618 dark_190504_AD-050_100s.fit\n",
      "619 dark_190504_AD-050_180s.fit\n",
      "620 dark_190504_AD-050_bias.fit\n",
      "621 dark_190504_AD-051_020s.fit\n",
      "622 dark_190504_AD-051_040s.fit\n",
      "623 dark_190504_AD-051_100s.fit\n",
      "624 dark_190504_AD-051_180s.fit\n",
      "625 dark_190504_AD-051_bias.fit\n",
      "626 dark_190504_AD-052_020s.fit\n",
      "627 dark_190504_AD-052_040s.fit\n",
      "628 dark_190504_AD-052_100s.fit\n",
      "629 dark_190504_AD-052_180s.fit\n",
      "630 dark_190504_AD-052_bias.fit\n",
      "631 dark_190504_AD-053_020s.fit\n",
      "632 dark_190504_AD-053_040s.fit\n",
      "633 dark_190504_AD-053_100s.fit\n",
      "634 dark_190504_AD-053_180s.fit\n",
      "635 dark_190504_AD-053_bias.fit\n",
      "636 dark_190504_AD-054_020s.fit\n",
      "637 dark_190504_AD-054_040s.fit\n",
      "638 dark_190504_AD-054_100s.fit\n",
      "639 dark_190504_AD-054_180s.fit\n",
      "640 dark_190504_AD-054_bias.fit\n",
      "641 dark_190504_AD-055_020s.fit\n",
      "642 dark_190504_AD-055_040s.fit\n",
      "643 dark_190504_AD-055_100s.fit\n",
      "644 dark_190504_AD-055_180s.fit\n",
      "645 dark_190504_AD-055_bias.fit\n",
      "646 dark_190504_AD-056_020s.fit\n",
      "647 dark_190504_AD-056_040s.fit\n",
      "648 dark_190504_AD-056_100s.fit\n",
      "649 dark_190504_AD-056_180s.fit\n",
      "650 dark_190504_AD-056_bias.fit\n",
      "651 dark_190504_AD-057_020s.fit\n",
      "652 dark_190504_AD-057_040s.fit\n",
      "653 dark_190504_AD-057_100s.fit\n",
      "654 dark_190504_AD-057_180s.fit\n",
      "655 dark_190504_AD-057_bias.fit\n",
      "656 dark_190504_AD-058_020s.fit\n",
      "657 dark_190504_AD-058_040s.fit\n",
      "658 dark_190504_AD-058_100s.fit\n",
      "659 dark_190504_AD-058_180s.fit\n",
      "660 dark_190504_AD-058_bias.fit\n",
      "661 dark_190504_AD-059_020s.fit\n",
      "662 dark_190504_AD-059_040s.fit\n",
      "663 dark_190504_AD-059_100s.fit\n",
      "664 dark_190504_AD-059_180s.fit\n",
      "665 dark_190504_AD-059_bias.fit\n",
      "666 dark_190504_AD-060_020s.fit\n",
      "667 dark_190504_AD-060_040s.fit\n",
      "668 dark_190504_AD-060_100s.fit\n",
      "669 dark_190504_AD-060_180s.fit\n",
      "670 dark_190504_AD-060_bias.fit\n",
      "671 dark_190504_AD-061_020s.fit\n",
      "672 dark_190504_AD-061_040s.fit\n",
      "673 dark_190504_AD-061_100s.fit\n",
      "674 dark_190504_AD-061_180s.fit\n",
      "675 dark_190504_AD-061_bias.fit\n",
      "676 dark_190504_AD-062_020s.fit\n",
      "677 dark_190504_AD-062_040s.fit\n",
      "678 dark_190504_AD-062_100s.fit\n",
      "679 dark_190504_AD-062_180s.fit\n",
      "680 dark_190504_AD-062_bias.fit\n",
      "681 dark_190504_AD-063_020s.fit\n",
      "682 dark_190504_AD-063_040s.fit\n",
      "683 dark_190504_AD-063_100s.fit\n",
      "684 dark_190504_AD-063_180s.fit\n",
      "685 dark_190504_AD-063_bias.fit\n",
      "686 dark_190504_AD-064_020s.fit\n",
      "687 dark_190504_AD-064_040s.fit\n",
      "688 dark_190504_AD-064_100s.fit\n",
      "689 dark_190504_AD-064_180s.fit\n",
      "690 dark_190504_AD-064_bias.fit\n",
      "691 dark_190504_AD-065_020s.fit\n",
      "692 dark_190504_AD-065_040s.fit\n",
      "693 dark_190504_AD-065_100s.fit\n",
      "694 dark_190504_AD-065_180s.fit\n",
      "695 dark_190504_AD-065_bias.fit\n",
      "696 dark_190504_AD-066_020s.fit\n",
      "697 dark_190504_AD-066_040s.fit\n",
      "698 dark_190504_AD-066_100s.fit\n",
      "699 dark_190504_AD-066_180s.fit\n",
      "700 dark_190504_AD-066_bias.fit\n",
      "701 dark_190504_AD-067_020s.fit\n",
      "702 dark_190504_AD-067_040s.fit\n",
      "703 dark_190504_AD-067_100s.fit\n",
      "704 dark_190504_AD-067_180s.fit\n",
      "705 dark_190504_AD-067_bias.fit\n",
      "706 dark_190504_AD-068_020s.fit\n",
      "707 dark_190504_AD-068_040s.fit\n",
      "708 dark_190504_AD-068_100s.fit\n",
      "709 dark_190504_AD-068_180s.fit\n",
      "710 dark_190504_AD-068_bias.fit\n",
      "711 dark_190504_AD-069_020s.fit\n",
      "712 dark_190504_AD-069_040s.fit\n",
      "713 dark_190504_AD-069_100s.fit\n",
      "714 dark_190504_AD-069_180s.fit\n",
      "715 dark_190504_AD-069_bias.fit\n",
      "716 dark_190504_AD-070_020s.fit\n",
      "717 dark_190504_AD-070_040s.fit\n",
      "718 dark_190504_AD-070_100s.fit\n",
      "719 dark_190504_AD-070_180s.fit\n",
      "720 dark_190504_AD-070_bias.fit\n",
      "721 dark_190504_AD-071_020s.fit\n",
      "722 dark_190504_AD-071_040s.fit\n",
      "723 dark_190504_AD-071_100s.fit\n",
      "724 dark_190504_AD-071_180s.fit\n",
      "725 dark_190504_AD-071_bias.fit\n",
      "726 dark_190504_AD-072_020s.fit\n",
      "727 dark_190504_AD-072_040s.fit\n",
      "728 dark_190504_AD-072_100s.fit\n",
      "729 dark_190504_AD-072_180s.fit\n",
      "730 dark_190504_AD-072_bias.fit\n",
      "731 dark_190504_AD-073_020s.fit\n",
      "732 dark_190504_AD-073_040s.fit\n",
      "733 dark_190504_AD-073_100s.fit\n",
      "734 dark_190504_AD-073_180s.fit\n",
      "735 dark_190504_AD-073_bias.fit\n",
      "736 dark_190504_AD-074_020s.fit\n",
      "737 dark_190504_AD-074_040s.fit\n",
      "738 dark_190504_AD-074_100s.fit\n",
      "739 dark_190504_AD-074_180s.fit\n",
      "740 dark_190504_AD-074_bias.fit\n",
      "741 dark_190504_AD-075_020s.fit\n",
      "742 dark_190504_AD-075_040s.fit\n",
      "743 dark_190504_AD-075_100s.fit\n",
      "744 dark_190504_AD-075_180s.fit\n",
      "745 dark_190504_AD-075_bias.fit\n",
      "746 dark_190504_AD-076_020s.fit\n",
      "747 dark_190504_AD-076_040s.fit\n",
      "748 dark_190504_AD-076_100s.fit\n",
      "749 dark_190504_AD-076_180s.fit\n",
      "750 dark_190504_AD-076_bias.fit\n",
      "751 dark_190504_AD-077_020s.fit\n",
      "752 dark_190504_AD-077_040s.fit\n",
      "753 dark_190504_AD-077_100s.fit\n",
      "754 dark_190504_AD-077_180s.fit\n",
      "755 dark_190504_AD-077_bias.fit\n",
      "756 dark_190504_AD-078_020s.fit\n",
      "757 dark_190504_AD-078_040s.fit\n",
      "758 dark_190504_AD-078_100s.fit\n",
      "759 dark_190504_AD-078_180s.fit\n",
      "760 dark_190504_AD-078_bias.fit\n",
      "761 dark_190504_AD-079_020s.fit\n",
      "762 dark_190504_AD-079_040s.fit\n",
      "763 dark_190504_AD-079_100s.fit\n",
      "764 dark_190504_AD-079_180s.fit\n",
      "765 dark_190504_AD-079_bias.fit\n",
      "766 dark_190504_AD-080_020s.fit\n",
      "767 dark_190504_AD-080_040s.fit\n",
      "768 dark_190504_AD-080_100s.fit\n",
      "769 dark_190504_AD-080_180s.fit\n",
      "770 dark_190504_AD-080_bias.fit\n",
      "771 dark_190504_AD-081_020s.fit\n",
      "772 dark_190504_AD-081_040s.fit\n",
      "773 dark_190504_AD-081_100s.fit\n",
      "774 dark_190504_AD-081_180s.fit\n",
      "775 dark_190504_AD-081_bias.fit\n",
      "776 dark_190504_AD-082_020s.fit\n",
      "777 dark_190504_AD-082_040s.fit\n",
      "778 dark_190504_AD-082_100s.fit\n",
      "779 dark_190504_AD-082_180s.fit\n",
      "780 dark_190504_AD-082_bias.fit\n",
      "781 dark_190504_AD-083_020s.fit\n",
      "782 dark_190504_AD-083_040s.fit\n",
      "783 dark_190504_AD-083_100s.fit\n",
      "784 dark_190504_AD-083_180s.fit\n",
      "785 dark_190504_AD-083_bias.fit\n",
      "786 dark_190504_AD-084_020s.fit\n",
      "787 dark_190504_AD-084_040s.fit\n",
      "788 dark_190504_AD-084_100s.fit\n",
      "789 dark_190504_AD-084_180s.fit\n",
      "790 dark_190504_AD-084_bias.fit\n",
      "791 dark_190504_AD-085_020s.fit\n",
      "792 dark_190504_AD-085_040s.fit\n",
      "793 dark_190504_AD-085_100s.fit\n",
      "794 dark_190504_AD-085_180s.fit\n",
      "795 dark_190504_AD-085_bias.fit\n",
      "796 dark_190504_AD-086_020s.fit\n",
      "797 dark_190504_AD-086_040s.fit\n",
      "798 dark_190504_AD-086_100s.fit\n",
      "799 dark_190504_AD-086_180s.fit\n",
      "800 dark_190504_AD-086_bias.fit\n",
      "801 dark_190504_AD-087_020s.fit\n",
      "802 dark_190504_AD-087_040s.fit\n",
      "803 dark_190504_AD-087_100s.fit\n",
      "804 dark_190504_AD-087_180s.fit\n",
      "805 dark_190504_AD-087_bias.fit\n",
      "806 dark_190504_AD-088_020s.fit\n",
      "807 dark_190504_AD-088_040s.fit\n",
      "808 dark_190504_AD-088_100s.fit\n",
      "809 dark_190504_AD-088_180s.fit\n",
      "810 dark_190504_AD-088_bias.fit\n",
      "811 dark_190504_AD-089_020s.fit\n",
      "812 dark_190504_AD-089_040s.fit\n",
      "813 dark_190504_AD-089_100s.fit\n",
      "814 dark_190504_AD-089_180s.fit\n",
      "815 dark_190504_AD-089_bias.fit\n",
      "816 dark_190504_AD-090_020s.fit\n",
      "817 dark_190504_AD-090_040s.fit\n",
      "818 dark_190504_AD-090_100s.fit\n",
      "819 dark_190504_AD-090_180s.fit\n",
      "820 dark_190504_AD-090_bias.fit\n",
      "821 dark_190504_AD-091_020s.fit\n",
      "822 dark_190504_AD-091_040s.fit\n",
      "823 dark_190504_AD-091_100s.fit\n",
      "824 dark_190504_AD-091_180s.fit\n",
      "825 dark_190504_AD-091_bias.fit\n",
      "826 dark_190504_AD-092_020s.fit\n",
      "827 dark_190504_AD-092_040s.fit\n",
      "828 dark_190504_AD-092_100s.fit\n",
      "829 dark_190504_AD-092_180s.fit\n",
      "830 dark_190504_AD-092_bias.fit\n",
      "831 dark_190504_AD-093_020s.fit\n",
      "832 dark_190504_AD-093_040s.fit\n",
      "833 dark_190504_AD-093_100s.fit\n",
      "834 dark_190504_AD-093_180s.fit\n",
      "835 dark_190504_AD-093_bias.fit\n",
      "836 dark_190504_AD-094_020s.fit\n",
      "837 dark_190504_AD-094_040s.fit\n",
      "838 dark_190504_AD-094_100s.fit\n",
      "839 dark_190504_AD-094_180s.fit\n",
      "840 dark_190504_AD-094_bias.fit\n",
      "841 dark_190504_AD-095_020s.fit\n",
      "842 dark_190504_AD-095_040s.fit\n",
      "843 dark_190504_AD-095_100s.fit\n",
      "844 dark_190504_AD-095_180s.fit\n",
      "845 dark_190504_AD-095_bias.fit\n",
      "846 dark_190504_AD-096_020s.fit\n",
      "847 dark_190504_AD-096_040s.fit\n",
      "848 dark_190504_AD-096_100s.fit\n",
      "849 dark_190504_AD-096_180s.fit\n",
      "850 dark_190504_AD-096_bias.fit\n",
      "851 dark_190504_AD-097_020s.fit\n",
      "852 dark_190504_AD-097_040s.fit\n",
      "853 dark_190504_AD-097_100s.fit\n",
      "854 dark_190504_AD-097_180s.fit\n",
      "855 dark_190504_AD-098_180s.fit\n",
      "856 dark_190504_AD-098_bias.fit\n",
      "857 dark_190504_AD-099_020s.fit\n",
      "858 dark_190504_AD-099_040s.fit\n",
      "859 dark_190504_AD-099_100s.fit\n",
      "860 dark_190504_AD-099_180s.fit\n",
      "861 dark_190504_AD-099_bias.fit\n",
      "862 dark_190504_AD-100_020s.fit\n",
      "863 dark_190504_AD-100_040s.fit\n",
      "864 dark_190504_AD-100_100s.fit\n",
      "865 dark_190504_AD-100_180s.fit\n",
      "866 dark_190504_AD-100_bias.fit\n",
      "867 dark_190504_AD-101_020s.fit\n",
      "868 dark_190504_AD-101_040s.fit\n",
      "869 dark_190504_AD-101_100s.fit\n",
      "870 dark_190504_AD-101_180s.fit\n",
      "871 dark_190504_AD-101_bias.fit\n",
      "872 dark_190504_AD-102_020s.fit\n",
      "873 dark_190504_AD-102_040s.fit\n",
      "874 dark_190504_AD-102_100s.fit\n",
      "875 dark_190504_AD-102_180s.fit\n",
      "876 dark_190504_AD-102_bias.fit\n",
      "877 dark_190504_AD-103_020s.fit\n",
      "878 dark_190504_AD-103_040s.fit\n",
      "879 dark_190504_AD-103_100s.fit\n",
      "880 dark_190504_AD-103_180s.fit\n",
      "881 dark_190504_AD-103_bias.fit\n",
      "882 dark_190504_AD-104_020s.fit\n",
      "883 dark_190504_AD-104_040s.fit\n",
      "884 dark_190504_AD-104_100s.fit\n",
      "885 dark_190504_AD-104_180s.fit\n",
      "886 dark_190504_AD-104_bias.fit\n",
      "887 dark_190504_AD-105_020s.fit\n",
      "888 dark_190504_AD-105_040s.fit\n",
      "889 dark_190504_AD-105_100s.fit\n",
      "890 dark_190504_AD-105_180s.fit\n",
      "891 dark_190504_AD-105_bias.fit\n",
      "892 dark_190504_AD-106_020s.fit\n",
      "893 dark_190504_AD-106_040s.fit\n",
      "894 dark_190504_AD-106_100s.fit\n",
      "895 dark_190504_AD-106_180s.fit\n",
      "896 dark_190504_AD-106_bias.fit\n",
      "897 dark_190504_AD-107_020s.fit\n",
      "898 dark_190504_AD-107_040s.fit\n",
      "899 dark_190504_AD-107_100s.fit\n",
      "900 dark_190504_AD-107_180s.fit\n",
      "901 dark_190504_AD-107_bias.fit\n",
      "902 dark_190504_AD-108_020s.fit\n",
      "903 dark_190504_AD-108_040s.fit\n",
      "904 dark_190504_AD-108_100s.fit\n",
      "905 dark_190504_AD-108_180s.fit\n",
      "906 dark_190504_AD-108_bias.fit\n",
      "907 dark_190504_AD-109_020s.fit\n",
      "908 dark_190504_AD-109_040s.fit\n",
      "909 dark_190504_AD-109_100s.fit\n",
      "910 dark_190504_AD-109_180s.fit\n",
      "911 dark_190504_AD-109_bias.fit\n",
      "912 dark_190504_AD-110_020s.fit\n",
      "913 dark_190504_AD-110_040s.fit\n",
      "914 dark_190504_AD-110_100s.fit\n",
      "915 dark_190504_AD-110_180s.fit\n",
      "916 dark_190504_AD-110_bias.fit\n",
      "917 dark_190504_AD-111_020s.fit\n",
      "918 dark_190504_AD-111_040s.fit\n",
      "919 dark_190504_AD-111_100s.fit\n",
      "920 dark_190504_AD-111_180s.fit\n",
      "921 dark_190504_AD-111_bias.fit\n",
      "922 dark_190504_AD-112_020s.fit\n",
      "923 dark_190504_AD-112_040s.fit\n",
      "924 dark_190504_AD-112_100s.fit\n",
      "925 dark_190504_AD-112_180s.fit\n",
      "926 dark_190504_AD-112_bias.fit\n",
      "927 dark_190504_AD-113_020s.fit\n",
      "928 dark_190504_AD-113_040s.fit\n",
      "929 dark_190504_AD-113_100s.fit\n",
      "930 dark_190504_AD-113_180s.fit\n",
      "931 dark_190504_AD-113_bias.fit\n",
      "932 dark_190504_AD-114_020s.fit\n",
      "933 dark_190504_AD-114_040s.fit\n",
      "934 dark_190504_AD-114_100s.fit\n",
      "935 dark_190504_AD-114_180s.fit\n",
      "936 dark_190504_AD-114_bias.fit\n",
      "937 dark_190504_AD-115_020s.fit\n",
      "938 dark_190504_AD-115_040s.fit\n",
      "939 dark_190504_AD-115_100s.fit\n",
      "940 dark_190504_AD-115_180s.fit\n",
      "941 dark_190504_AD-115_bias.fit\n",
      "942 dark_190504_AD-116_020s.fit\n",
      "943 dark_190504_AD-116_040s.fit\n",
      "944 dark_190504_AD-116_100s.fit\n",
      "945 dark_190504_AD-116_180s.fit\n",
      "946 dark_190504_AD-116_bias.fit\n",
      "947 dark_190504_AD-117_020s.fit\n",
      "948 dark_190504_AD-117_040s.fit\n",
      "949 dark_190504_AD-117_100s.fit\n",
      "950 dark_190504_AD-117_180s.fit\n",
      "951 dark_190504_AD-117_bias.fit\n",
      "952 dark_190504_AD-118_020s.fit\n",
      "953 dark_190504_AD-118_040s.fit\n",
      "954 dark_190504_AD-118_100s.fit\n",
      "955 dark_190504_AD-118_180s.fit\n",
      "956 dark_190504_AD-118_bias.fit\n",
      "957 dark_190504_AD-119_020s.fit\n",
      "958 dark_190504_AD-119_040s.fit\n",
      "959 dark_190504_AD-119_100s.fit\n",
      "960 dark_190504_AD-119_180s.fit\n",
      "961 dark_190504_AD-119_bias.fit\n",
      "962 dark_190504_AD-120_020s.fit\n",
      "963 dark_190504_AD-120_040s.fit\n",
      "964 dark_190504_AD-120_100s.fit\n",
      "965 dark_190504_AD-120_180s.fit\n",
      "966 dark_190504_AD-120_bias.fit\n",
      "967 dark_190504_AD-121_020s.fit\n",
      "968 dark_190504_AD-121_040s.fit\n",
      "969 dark_190504_AD-121_100s.fit\n",
      "970 dark_190504_AD-121_180s.fit\n",
      "971 dark_190504_AD-121_bias.fit\n",
      "972 dark_190504_AD-122_020s.fit\n",
      "973 dark_190504_AD-122_040s.fit\n",
      "974 dark_190504_AD-122_100s.fit\n",
      "975 dark_190504_AD-122_180s.fit\n",
      "976 dark_190504_AD-122_bias.fit\n",
      "977 dark_190504_AD-123_020s.fit\n",
      "978 dark_190504_AD-123_040s.fit\n",
      "979 dark_190504_AD-123_100s.fit\n",
      "980 dark_190504_AD-123_180s.fit\n",
      "981 dark_190504_AD-123_bias.fit\n",
      "982 dark_190504_AD-124_020s.fit\n",
      "983 dark_190504_AD-124_040s.fit\n",
      "984 dark_190504_AD-124_100s.fit\n",
      "985 dark_190504_AD-124_180s.fit\n",
      "986 dark_190504_AD-124_bias.fit\n",
      "987 dark_190504_AD-125_020s.fit\n",
      "988 dark_190504_AD-125_040s.fit\n",
      "989 dark_190504_AD-125_100s.fit\n",
      "990 dark_190504_AD-125_180s.fit\n",
      "991 dark_190504_AD-125_bias.fit\n",
      "992 dark_190504_AD-126_020s.fit\n",
      "993 dark_190504_AD-126_040s.fit\n",
      "994 dark_190504_AD-126_100s.fit\n",
      "995 dark_190504_AD-126_180s.fit\n",
      "996 dark_190504_AD-126_bias.fit\n",
      "997 dark_190504_AD-127_020s.fit\n",
      "998 dark_190504_AD-127_040s.fit\n",
      "999 dark_190504_AD-127_100s.fit\n",
      "1000 dark_190504_AD-127_180s.fit\n",
      "1001 dark_190504_AD-127_bias.fit\n",
      "1002 dark_190504_AD-128_020s.fit\n",
      "1003 dark_190504_AD-128_040s.fit\n",
      "1004 dark_190504_AD-128_100s.fit\n",
      "1005 dark_190504_AD-128_180s.fit\n",
      "1006 dark_190504_AD-128_bias.fit\n",
      "1007 dark_190504_AD-129_020s.fit\n",
      "1008 dark_190504_AD-129_040s.fit\n",
      "1009 dark_190504_AD-129_100s.fit\n",
      "1010 dark_190504_AD-129_180s.fit\n",
      "1011 dark_190504_AD-129_bias.fit\n",
      "1012 dark_190504_AD-130_020s.fit\n",
      "1013 dark_190504_AD-130_040s.fit\n",
      "1014 dark_190504_AD-130_100s.fit\n",
      "1015 dark_190504_AD-130_180s.fit\n",
      "1016 dark_190504_AD-130_bias.fit\n",
      "1017 dark_190504_AD-131_020s.fit\n",
      "1018 dark_190504_AD-131_040s.fit\n",
      "1019 dark_190504_AD-131_100s.fit\n",
      "1020 dark_190504_AD-131_180s.fit\n",
      "1021 dark_190504_AD-131_bias.fit\n",
      "1022 dark_190504_AD-132_020s.fit\n",
      "1023 dark_190504_AD-132_040s.fit\n",
      "1024 dark_190504_AD-132_100s.fit\n",
      "1025 dark_190504_AD-132_180s.fit\n",
      "1026 dark_190504_AD-132_bias.fit\n",
      "1027 dark_190504_AD-133_020s.fit\n",
      "1028 dark_190504_AD-133_040s.fit\n",
      "1029 dark_190504_AD-133_100s.fit\n",
      "1030 dark_190504_AD-133_180s.fit\n",
      "1031 dark_190504_AD-133_bias.fit\n",
      "1032 dark_190504_AD-134_020s.fit\n",
      "1033 dark_190504_AD-134_040s.fit\n",
      "1034 dark_190504_AD-134_100s.fit\n",
      "1035 dark_190504_AD-134_180s.fit\n",
      "1036 dark_190504_AD-134_bias.fit\n",
      "1037 dark_190504_AD-135_020s.fit\n",
      "1038 dark_190504_AD-135_040s.fit\n",
      "1039 dark_190504_AD-135_100s.fit\n",
      "1040 dark_190504_AD-135_180s.fit\n",
      "1041 dark_190504_AD-135_bias.fit\n",
      "1042 dark_190504_AD-136_020s.fit\n",
      "1043 dark_190504_AD-136_040s.fit\n",
      "1044 dark_190504_AD-136_100s.fit\n",
      "1045 dark_190504_AD-136_180s.fit\n",
      "1046 dark_190504_AD-136_bias.fit\n",
      "1047 dark_190504_AD-137_020s.fit\n",
      "1048 dark_190504_AD-137_040s.fit\n",
      "1049 dark_190504_AD-137_100s.fit\n",
      "1050 dark_190504_AD-137_180s.fit\n",
      "1051 dark_190504_AD-137_bias.fit\n",
      "1052 dark_190504_AD-138_020s.fit\n",
      "1053 dark_190504_AD-138_040s.fit\n",
      "1054 dark_190504_AD-138_100s.fit\n",
      "1055 dark_190504_AD-138_180s.fit\n",
      "1056 dark_190504_AD-138_bias.fit\n",
      "1057 dark_190504_AD-139_020s.fit\n",
      "1058 dark_190504_AD-139_040s.fit\n",
      "1059 dark_190504_AD-139_100s.fit\n",
      "1060 dark_190504_AD-139_180s.fit\n",
      "1061 dark_190504_AD-139_bias.fit\n",
      "1062 dark_190504_AD-140_020s.fit\n",
      "1063 dark_190504_AD-140_040s.fit\n",
      "1064 dark_190504_AD-140_100s.fit\n",
      "1065 dark_190504_AD-140_180s.fit\n",
      "1066 dark_190504_AD-140_bias.fit\n",
      "1067 dark_190504_AD-141_020s.fit\n",
      "1068 dark_190504_AD-141_040s.fit\n",
      "1069 dark_190504_AD-141_100s.fit\n",
      "1070 dark_190504_AD-141_180s.fit\n",
      "1071 dark_190504_AD-141_bias.fit\n",
      "1072 dark_190504_AD-142_020s.fit\n",
      "1073 dark_190504_AD-142_040s.fit\n",
      "1074 dark_190504_AD-142_100s.fit\n",
      "1075 dark_190504_AD-142_180s.fit\n",
      "1076 dark_190504_AD-142_bias.fit\n",
      "1077 dark_190504_AD-143_020s.fit\n",
      "1078 dark_190504_AD-143_040s.fit\n",
      "1079 dark_190504_AD-143_100s.fit\n",
      "1080 dark_190504_AD-143_180s.fit\n",
      "1081 dark_190504_AD-143_bias.fit\n",
      "1082 dark_190504_AD-144_020s.fit\n",
      "1083 dark_190504_AD-144_040s.fit\n",
      "1084 dark_190504_AD-144_100s.fit\n",
      "1085 dark_190504_AD-144_180s.fit\n",
      "1086 dark_190504_AD-144_bias.fit\n",
      "1087 dark_190504_AD-145_020s.fit\n",
      "1088 dark_190504_AD-145_040s.fit\n",
      "1089 dark_190504_AD-145_100s.fit\n",
      "1090 dark_190504_AD-145_180s.fit\n",
      "1091 dark_190504_AD-145_bias.fit\n",
      "1092 dark_190504_AD-146_020s.fit\n",
      "1093 dark_190504_AD-146_040s.fit\n",
      "1094 dark_190504_AD-146_100s.fit\n",
      "1095 dark_190504_AD-146_180s.fit\n",
      "1096 dark_190504_AD-146_bias.fit\n",
      "1097 dark_190504_AD-147_020s.fit\n",
      "1098 dark_190504_AD-147_040s.fit\n",
      "1099 dark_190504_AD-147_100s.fit\n",
      "1100 dark_190504_AD-147_180s.fit\n",
      "1101 dark_190504_AD-147_bias.fit\n",
      "1102 dark_190504_AD-148_020s.fit\n",
      "1103 dark_190504_AD-148_040s.fit\n",
      "1104 dark_190504_AD-148_100s.fit\n",
      "1105 dark_190504_AD-148_180s.fit\n",
      "1106 dark_190504_AD-148_bias.fit\n",
      "1107 dark_190504_AD-149_020s.fit\n",
      "1108 dark_190504_AD-149_040s.fit\n",
      "1109 dark_190504_AD-149_100s.fit\n",
      "1110 dark_190504_AD-149_180s.fit\n",
      "1111 dark_190504_AD-149_bias.fit\n",
      "1112 dark_190504_AD-150_020s.fit\n",
      "1113 dark_190504_AD-150_040s.fit\n",
      "1114 dark_190504_AD-150_100s.fit\n",
      "1115 dark_190504_AD-150_180s.fit\n",
      "1116 dark_190504_AD-150_bias.fit\n",
      "1117 dark_190504_AD-151_020s.fit\n",
      "1118 dark_190504_AD-151_040s.fit\n",
      "1119 dark_190504_AD-151_100s.fit\n",
      "1120 dark_190504_AD-151_180s.fit\n",
      "1121 dark_190504_AD-151_bias.fit\n",
      "1122 dark_190504_AD-152_020s.fit\n",
      "1123 dark_190504_AD-152_040s.fit\n",
      "1124 dark_190504_AD-152_100s.fit\n",
      "1125 dark_190504_AD-152_180s.fit\n",
      "1126 dark_190504_AD-152_bias.fit\n",
      "1127 dark_190504_AD-153_020s.fit\n",
      "1128 dark_190504_AD-153_040s.fit\n",
      "1129 dark_190504_AD-153_100s.fit\n",
      "1130 dark_190504_AD-153_180s.fit\n",
      "1131 dark_190504_AD-153_bias.fit\n",
      "1132 dark_190504_AD-154_020s.fit\n",
      "1133 dark_190504_AD-154_040s.fit\n",
      "1134 dark_190504_AD-154_100s.fit\n",
      "1135 dark_190504_AD-154_180s.fit\n",
      "1136 dark_190504_AD-154_bias.fit\n",
      "1137 dark_190504_AD-155_020s.fit\n",
      "1138 dark_190504_AD-155_040s.fit\n",
      "1139 dark_190504_AD-155_100s.fit\n",
      "1140 dark_190504_AD-155_180s.fit\n",
      "1141 dark_190504_AD-155_bias.fit\n",
      "1142 dark_190504_AD-156_020s.fit\n",
      "1143 dark_190504_AD-156_040s.fit\n",
      "1144 dark_190504_AD-156_100s.fit\n",
      "1145 dark_190504_AD-156_180s.fit\n",
      "1146 dark_190504_AD-156_bias.fit\n",
      "1147 dark_190504_AD-157_020s.fit\n",
      "1148 dark_190504_AD-157_040s.fit\n",
      "1149 dark_190504_AD-157_100s.fit\n",
      "1150 dark_190504_AD-157_180s.fit\n",
      "1151 dark_190504_AD-157_bias.fit\n",
      "1152 dark_190504_AD-158_020s.fit\n",
      "1153 dark_190504_AD-158_040s.fit\n",
      "1154 dark_190504_AD-158_100s.fit\n",
      "1155 dark_190504_AD-158_180s.fit\n",
      "1156 dark_190504_AD-158_bias.fit\n",
      "1157 dark_190504_AD-159_020s.fit\n",
      "1158 dark_190504_AD-159_040s.fit\n",
      "1159 dark_190504_AD-159_100s.fit\n",
      "1160 dark_190504_AD-159_180s.fit\n",
      "1161 dark_190504_AD-159_bias.fit\n",
      "1162 dark_190504_AD-160_020s.fit\n",
      "1163 dark_190504_AD-160_040s.fit\n",
      "1164 dark_190504_AD-160_100s.fit\n",
      "1165 dark_190504_AD-160_180s.fit\n",
      "1166 dark_190504_AD-160_bias.fit\n",
      "1167 dark_190504_AD-161_020s.fit\n",
      "1168 dark_190504_AD-161_040s.fit\n",
      "1169 dark_190504_AD-161_100s.fit\n",
      "1170 dark_190504_AD-161_180s.fit\n",
      "1171 dark_190504_AD-161_bias.fit\n",
      "1172 dark_190504_AD-162_020s.fit\n",
      "1173 dark_190504_AD-162_040s.fit\n",
      "1174 dark_190504_AD-162_100s.fit\n",
      "1175 dark_190504_AD-162_180s.fit\n",
      "1176 dark_190504_AD-162_bias.fit\n",
      "1177 dark_190504_AD-163_020s.fit\n",
      "1178 dark_190504_AD-163_040s.fit\n",
      "1179 dark_190504_AD-163_100s.fit\n",
      "1180 dark_190504_AD-163_180s.fit\n",
      "1181 dark_190504_AD-163_bias.fit\n",
      "1182 dark_190504_AD-164_020s.fit\n",
      "1183 dark_190504_AD-164_040s.fit\n",
      "1184 dark_190504_AD-164_100s.fit\n",
      "1185 dark_190504_AD-164_180s.fit\n",
      "1186 dark_190504_AD-164_bias.fit\n",
      "1187 dark_190504_AD-165_020s.fit\n",
      "1188 dark_190504_AD-165_040s.fit\n",
      "1189 dark_190504_AD-165_100s.fit\n",
      "1190 dark_190504_AD-165_180s.fit\n",
      "1191 dark_190504_AD-165_bias.fit\n",
      "1192 dark_190504_AD-166_020s.fit\n",
      "1193 dark_190504_AD-166_040s.fit\n",
      "1194 dark_190504_AD-166_100s.fit\n",
      "1195 dark_190504_AD-166_180s.fit\n",
      "1196 dark_190504_AD-166_bias.fit\n",
      "1197 dark_190504_AD-167_020s.fit\n",
      "1198 dark_190504_AD-167_040s.fit\n",
      "1199 dark_190504_AD-167_100s.fit\n",
      "1200 dark_190504_AD-167_180s.fit\n",
      "1201 dark_190504_AD-167_bias.fit\n",
      "1202 dark_190504_AD-168_020s.fit\n",
      "1203 dark_190504_AD-168_040s.fit\n",
      "1204 dark_190504_AD-168_100s.fit\n",
      "1205 dark_190504_AD-168_180s.fit\n",
      "1206 dark_190504_AD-168_bias.fit\n",
      "1207 dark_190504_AD-169_020s.fit\n",
      "1208 dark_190504_AD-169_040s.fit\n",
      "1209 dark_190504_AD-169_100s.fit\n",
      "1210 dark_190504_AD-169_180s.fit\n",
      "1211 dark_190504_AD-169_bias.fit\n",
      "1212 dark_190504_AD-170_020s.fit\n",
      "1213 dark_190504_AD-170_040s.fit\n",
      "1214 dark_190504_AD-170_100s.fit\n",
      "1215 dark_190504_AD-170_180s.fit\n",
      "1216 dark_190504_AD-170_bias.fit\n",
      "1217 dark_190504_AD-171_020s.fit\n"
     ]
    },
    {
     "name": "stdout",
     "output_type": "stream",
     "text": [
      "1218 dark_190504_AD-171_040s.fit\n",
      "1219 dark_190504_AD-171_100s.fit\n",
      "1220 dark_190504_AD-171_180s.fit\n",
      "1221 dark_190504_AD-171_bias.fit\n",
      "1222 dark_190504_AD-172_020s.fit\n",
      "1223 dark_190504_AD-172_040s.fit\n",
      "1224 dark_190504_AD-172_100s.fit\n",
      "1225 dark_190504_AD-172_180s.fit\n",
      "1226 dark_190504_AD-172_bias.fit\n",
      "1227 dark_190504_AD-173_020s.fit\n",
      "1228 dark_190504_AD-173_040s.fit\n",
      "1229 dark_190504_AD-173_100s.fit\n",
      "1230 dark_190504_AD-173_180s.fit\n",
      "1231 dark_190504_AD-173_bias.fit\n",
      "1232 dark_190504_AD-174_020s.fit\n",
      "1233 dark_190504_AD-174_040s.fit\n",
      "1234 dark_190504_AD-174_100s.fit\n",
      "1235 dark_190504_AD-174_180s.fit\n",
      "1236 dark_190504_AD-174_bias.fit\n",
      "1237 dark_190504_AD-175_020s.fit\n",
      "1238 dark_190504_AD-175_040s.fit\n",
      "1239 dark_190504_AD-175_100s.fit\n",
      "1240 dark_190504_AD-175_180s.fit\n",
      "1241 dark_190504_AD-175_bias.fit\n",
      "1242 dark_190504_AD-176_020s.fit\n",
      "1243 dark_190504_AD-176_040s.fit\n",
      "1244 dark_190504_AD-176_100s.fit\n",
      "1245 dark_190504_AD-176_180s.fit\n",
      "1246 dark_190504_AD-176_bias.fit\n",
      "1247 dark_190504_AD-177_020s.fit\n",
      "1248 dark_190504_AD-177_040s.fit\n",
      "1249 dark_190504_AD-177_100s.fit\n",
      "1250 dark_190504_AD-177_180s.fit\n",
      "1251 dark_190504_AD-177_bias.fit\n",
      "1252 dark_190504_AD-178_020s.fit\n",
      "1253 dark_190504_AD-178_040s.fit\n",
      "1254 dark_190504_AD-178_100s.fit\n",
      "1255 dark_190504_AD-178_180s.fit\n",
      "1256 dark_190504_AD-178_bias.fit\n",
      "1257 dark_190504_AD-179_020s.fit\n",
      "1258 dark_190504_AD-179_040s.fit\n",
      "1259 dark_190504_AD-179_100s.fit\n",
      "1260 dark_190504_AD-179_180s.fit\n",
      "1261 dark_190504_AD-179_bias.fit\n",
      "1262 dark_190504_AD-180_020s.fit\n",
      "1263 dark_190504_AD-180_040s.fit\n",
      "1264 dark_190504_AD-180_100s.fit\n",
      "1265 dark_190504_AD-180_180s.fit\n",
      "1266 dark_190504_AD-180_bias.fit\n",
      "1267 dark_190504_AD-181_020s.fit\n",
      "1268 dark_190504_AD-181_040s.fit\n",
      "1269 dark_190504_AD-181_100s.fit\n",
      "1270 dark_190504_AD-181_180s.fit\n",
      "1271 dark_190504_AD-181_bias.fit\n",
      "1272 dark_190504_AD-182_020s.fit\n",
      "1273 dark_190504_AD-182_040s.fit\n",
      "1274 dark_190504_AD-182_100s.fit\n",
      "1275 dark_190504_AD-182_180s.fit\n",
      "1276 dark_190504_AD-182_bias.fit\n",
      "1277 dark_190504_AD-183_020s.fit\n",
      "1278 dark_190504_AD-183_040s.fit\n",
      "1279 dark_190504_AD-183_100s.fit\n",
      "1280 dark_190504_AD-183_180s.fit\n",
      "1281 dark_190504_AD-183_bias.fit\n",
      "1282 dark_190504_AD-184_020s.fit\n",
      "1283 dark_190504_AD-184_040s.fit\n",
      "1284 dark_190504_AD-184_100s.fit\n",
      "1285 dark_190504_AD-184_180s.fit\n",
      "1286 dark_190504_AD-184_bias.fit\n",
      "1287 dark_190504_AD-185_020s.fit\n",
      "1288 dark_190504_AD-185_040s.fit\n",
      "1289 dark_190504_AD-185_100s.fit\n",
      "1290 dark_190504_AD-185_180s.fit\n",
      "1291 dark_190504_AD-185_bias.fit\n",
      "1292 dark_190504_AD-186_020s.fit\n",
      "1293 dark_190504_AD-186_040s.fit\n",
      "1294 dark_190504_AD-186_100s.fit\n",
      "1295 dark_190504_AD-186_180s.fit\n",
      "1296 dark_190504_AD-186_bias.fit\n",
      "1297 dark_190504_AD-187_020s.fit\n",
      "1298 dark_190504_AD-187_040s.fit\n",
      "1299 dark_190504_AD-187_100s.fit\n",
      "1300 dark_190504_AD-187_180s.fit\n",
      "1301 dark_190504_AD-187_bias.fit\n",
      "1302 dark_190504_AD-188_020s.fit\n",
      "1303 dark_190504_AD-188_040s.fit\n",
      "1304 dark_190504_AD-188_100s.fit\n",
      "1305 dark_190504_AD-188_180s.fit\n",
      "1306 dark_190504_AD-188_bias.fit\n",
      "1307 dark_190504_AD-189_020s.fit\n",
      "1308 dark_190504_AD-189_040s.fit\n",
      "1309 dark_190504_AD-189_100s.fit\n",
      "1310 dark_190504_AD-189_180s.fit\n",
      "1311 dark_190504_AD-189_bias.fit\n",
      "1312 dark_190504_AD-190_020s.fit\n",
      "1313 dark_190504_AD-190_040s.fit\n",
      "1314 dark_190504_AD-190_100s.fit\n",
      "1315 dark_190504_AD-190_180s.fit\n",
      "1316 dark_190504_AD-190_bias.fit\n",
      "1317 dark_190504_AD-191_020s.fit\n",
      "1318 dark_190504_AD-191_040s.fit\n",
      "1319 dark_190504_AD-191_100s.fit\n",
      "1320 dark_190504_AD-191_180s.fit\n",
      "1321 dark_190504_AD-191_bias.fit\n",
      "1322 dark_190504_AD-192_020s.fit\n",
      "1323 dark_190504_AD-192_040s.fit\n",
      "1324 dark_190504_AD-192_100s.fit\n",
      "1325 dark_190504_AD-192_180s.fit\n",
      "1326 dark_190504_AD-192_bias.fit\n",
      "1327 dark_190504_AD-193_020s.fit\n",
      "1328 dark_190504_AD-193_040s.fit\n",
      "1329 dark_190504_AD-193_100s.fit\n",
      "1330 dark_190504_AD-193_180s.fit\n",
      "1331 dark_190504_AD-193_bias.fit\n",
      "1332 dark_190504_AD-194_020s.fit\n",
      "1333 dark_190504_AD-194_040s.fit\n",
      "1334 dark_190504_AD-194_100s.fit\n",
      "1335 dark_190504_AD-194_180s.fit\n",
      "1336 dark_190504_AD-194_bias.fit\n",
      "1337 dark_190504_AD-195_020s.fit\n",
      "1338 dark_190504_AD-195_040s.fit\n",
      "1339 dark_190504_AD-195_100s.fit\n",
      "1340 dark_190504_AD-195_180s.fit\n",
      "1341 dark_190504_AD-195_bias.fit\n",
      "1342 dark_190504_AD-196_020s.fit\n",
      "1343 dark_190504_AD-196_040s.fit\n",
      "1344 dark_190504_AD-196_100s.fit\n",
      "1345 dark_190504_AD-196_180s.fit\n",
      "1346 dark_190504_AD-196_bias.fit\n",
      "1347 dark_190504_AD-197_020s.fit\n",
      "1348 dark_190504_AD-197_040s.fit\n",
      "1349 dark_190504_AD-197_100s.fit\n",
      "1350 dark_190504_AD-197_180s.fit\n",
      "1351 dark_190504_AD-197_bias.fit\n",
      "1352 dark_190504_AD-198_020s.fit\n",
      "1353 dark_190504_AD-198_040s.fit\n",
      "1354 dark_190504_AD-198_100s.fit\n",
      "1355 dark_190504_AD-198_180s.fit\n",
      "1356 dark_190504_AD-198_bias.fit\n",
      "1357 dark_190504_AD-199_020s.fit\n",
      "1358 dark_190504_AD-199_040s.fit\n",
      "1359 dark_190504_AD-199_100s.fit\n",
      "1360 dark_190504_AD-199_180s.fit\n",
      "1361 dark_190504_AD-199_bias.fit\n",
      "1362 dark_190504_AD-200_020s.fit\n",
      "1363 dark_190504_AD-200_040s.fit\n",
      "1364 dark_190504_AD-200_100s.fit\n",
      "1365 dark_190504_AD-200_180s.fit\n",
      "1366 dark_190504_AD-200_bias.fit\n"
     ]
    }
   ],
   "source": [
    "whichpath = datapath\n",
    "\n",
    "## For ALL the files in the directory.\n",
    "allfiles = [f for f in os.listdir(datapath)]\n",
    "\n",
    "allfiles = sorted(allfiles)       ## This is necessary on my Mac, may not be for others?\n",
    "for i in range(len(allfiles)):\n",
    "    print( i, allfiles[i])"
   ]
  },
  {
   "cell_type": "code",
   "execution_count": null,
   "metadata": {},
   "outputs": [],
   "source": []
  },
  {
   "cell_type": "code",
   "execution_count": 11,
   "metadata": {},
   "outputs": [
    {
     "name": "stdout",
     "output_type": "stream",
     "text": [
      "0 dark_190504_AB-001_bias.fit\n",
      "1 dark_190504_AB-002_bias.fit\n",
      "2 dark_190504_AB-003_bias.fit\n",
      "3 dark_190504_AB-004_bias.fit\n",
      "4 dark_190504_AB-005_bias.fit\n",
      "5 dark_190504_AB-006_bias.fit\n",
      "6 dark_190504_AB-007_bias.fit\n",
      "7 dark_190504_AB-008_bias.fit\n",
      "8 dark_190504_AB-009_bias.fit\n",
      "9 dark_190504_AB-010_bias.fit\n",
      "10 dark_190504_AB-011_bias.fit\n",
      "11 dark_190504_AB-012_bias.fit\n",
      "12 dark_190504_AB-013_bias.fit\n",
      "13 dark_190504_AB-014_bias.fit\n",
      "14 dark_190504_AB-015_bias.fit\n",
      "15 dark_190504_AB-016_bias.fit\n",
      "16 dark_190504_AB-017_bias.fit\n",
      "17 dark_190504_AB-018_bias.fit\n",
      "18 dark_190504_AB-019_bias.fit\n",
      "19 dark_190504_AB-020_bias.fit\n",
      "20 dark_190504_AB-021_bias.fit\n",
      "21 dark_190504_AB-022_bias.fit\n",
      "22 dark_190504_AB-023_bias.fit\n",
      "23 dark_190504_AB-024_bias.fit\n",
      "24 dark_190504_AB-025_bias.fit\n",
      "25 dark_190504_AB-026_bias.fit\n",
      "26 dark_190504_AB-027_bias.fit\n",
      "27 dark_190504_AB-028_bias.fit\n",
      "28 dark_190504_AB-029_bias.fit\n",
      "29 dark_190504_AB-030_bias.fit\n",
      "30 dark_190504_AB-031_bias.fit\n",
      "31 dark_190504_AB-032_bias.fit\n",
      "32 dark_190504_AB-033_bias.fit\n",
      "33 dark_190504_AB-034_bias.fit\n",
      "34 dark_190504_AB-035_bias.fit\n",
      "35 dark_190504_AB-036_bias.fit\n",
      "36 dark_190504_AB-037_bias.fit\n",
      "37 dark_190504_AB-038_bias.fit\n",
      "38 dark_190504_AB-039_bias.fit\n",
      "39 dark_190504_AB-040_bias.fit\n",
      "40 dark_190504_AB-041_bias.fit\n",
      "41 dark_190504_AB-042_bias.fit\n",
      "42 dark_190504_AB-043_bias.fit\n",
      "43 dark_190504_AB-044_bias.fit\n",
      "44 dark_190504_AB-045_bias.fit\n",
      "45 dark_190504_AB-046_bias.fit\n",
      "46 dark_190504_AB-047_bias.fit\n",
      "47 dark_190504_AB-048_bias.fit\n",
      "48 dark_190504_AB-049_bias.fit\n",
      "49 dark_190504_AB-050_bias.fit\n",
      "50 dark_190504_AC-001_bias.fit\n",
      "51 dark_190504_AC-002_bias.fit\n",
      "52 dark_190504_AC-003_bias.fit\n",
      "53 dark_190504_AC-004_bias.fit\n",
      "54 dark_190504_AC-005_bias.fit\n",
      "55 dark_190504_AC-006_bias.fit\n",
      "56 dark_190504_AC-007_bias.fit\n",
      "57 dark_190504_AC-008_bias.fit\n",
      "58 dark_190504_AC-009_bias.fit\n",
      "59 dark_190504_AC-010_bias.fit\n",
      "60 dark_190504_AC-011_bias.fit\n",
      "61 dark_190504_AC-012_bias.fit\n",
      "62 dark_190504_AC-013_bias.fit\n",
      "63 dark_190504_AC-014_bias.fit\n",
      "64 dark_190504_AC-015_bias.fit\n",
      "65 dark_190504_AC-016_bias.fit\n",
      "66 dark_190504_AC-017_bias.fit\n",
      "67 dark_190504_AC-018_bias.fit\n",
      "68 dark_190504_AC-019_bias.fit\n",
      "69 dark_190504_AC-020_bias.fit\n",
      "70 dark_190504_AC-021_bias.fit\n",
      "71 dark_190504_AC-022_bias.fit\n",
      "72 dark_190504_AC-023_bias.fit\n",
      "73 dark_190504_AC-024_bias.fit\n",
      "74 dark_190504_AC-025_bias.fit\n",
      "75 dark_190504_AD-001_bias.fit\n",
      "76 dark_190504_AD-002_bias.fit\n",
      "77 dark_190504_AD-003_bias.fit\n",
      "78 dark_190504_AD-004_bias.fit\n",
      "79 dark_190504_AD-005_bias.fit\n",
      "80 dark_190504_AD-006_bias.fit\n",
      "81 dark_190504_AD-007_bias.fit\n",
      "82 dark_190504_AD-008_bias.fit\n",
      "83 dark_190504_AD-009_bias.fit\n",
      "84 dark_190504_AD-010_bias.fit\n",
      "85 dark_190504_AD-011_bias.fit\n",
      "86 dark_190504_AD-012_bias.fit\n",
      "87 dark_190504_AD-013_bias.fit\n",
      "88 dark_190504_AD-014_bias.fit\n",
      "89 dark_190504_AD-015_bias.fit\n",
      "90 dark_190504_AD-016_bias.fit\n",
      "91 dark_190504_AD-017_bias.fit\n",
      "92 dark_190504_AD-018_bias.fit\n",
      "93 dark_190504_AD-019_bias.fit\n",
      "94 dark_190504_AD-020_bias.fit\n",
      "95 dark_190504_AD-021_bias.fit\n",
      "96 dark_190504_AD-022_bias.fit\n",
      "97 dark_190504_AD-023_bias.fit\n",
      "98 dark_190504_AD-024_bias.fit\n",
      "99 dark_190504_AD-025_bias.fit\n",
      "100 dark_190504_AD-026_bias.fit\n",
      "101 dark_190504_AD-027_bias.fit\n",
      "102 dark_190504_AD-028_bias.fit\n",
      "103 dark_190504_AD-029_bias.fit\n",
      "104 dark_190504_AD-030_bias.fit\n",
      "105 dark_190504_AD-031_bias.fit\n",
      "106 dark_190504_AD-032_bias.fit\n",
      "107 dark_190504_AD-033_bias.fit\n",
      "108 dark_190504_AD-034_bias.fit\n",
      "109 dark_190504_AD-035_bias.fit\n",
      "110 dark_190504_AD-036_bias.fit\n",
      "111 dark_190504_AD-037_bias.fit\n",
      "112 dark_190504_AD-038_bias.fit\n",
      "113 dark_190504_AD-039_bias.fit\n",
      "114 dark_190504_AD-040_bias.fit\n",
      "115 dark_190504_AD-041_bias.fit\n",
      "116 dark_190504_AD-042_bias.fit\n",
      "117 dark_190504_AD-043_bias.fit\n",
      "118 dark_190504_AD-044_bias.fit\n",
      "119 dark_190504_AD-045_bias.fit\n",
      "120 dark_190504_AD-046_bias.fit\n",
      "121 dark_190504_AD-047_bias.fit\n",
      "122 dark_190504_AD-048_bias.fit\n",
      "123 dark_190504_AD-049_bias.fit\n",
      "124 dark_190504_AD-050_bias.fit\n",
      "125 dark_190504_AD-051_bias.fit\n",
      "126 dark_190504_AD-052_bias.fit\n",
      "127 dark_190504_AD-053_bias.fit\n",
      "128 dark_190504_AD-054_bias.fit\n",
      "129 dark_190504_AD-055_bias.fit\n",
      "130 dark_190504_AD-056_bias.fit\n",
      "131 dark_190504_AD-057_bias.fit\n",
      "132 dark_190504_AD-058_bias.fit\n",
      "133 dark_190504_AD-059_bias.fit\n",
      "134 dark_190504_AD-060_bias.fit\n",
      "135 dark_190504_AD-061_bias.fit\n",
      "136 dark_190504_AD-062_bias.fit\n",
      "137 dark_190504_AD-063_bias.fit\n",
      "138 dark_190504_AD-064_bias.fit\n",
      "139 dark_190504_AD-065_bias.fit\n",
      "140 dark_190504_AD-066_bias.fit\n",
      "141 dark_190504_AD-067_bias.fit\n",
      "142 dark_190504_AD-068_bias.fit\n",
      "143 dark_190504_AD-069_bias.fit\n",
      "144 dark_190504_AD-070_bias.fit\n",
      "145 dark_190504_AD-071_bias.fit\n",
      "146 dark_190504_AD-072_bias.fit\n",
      "147 dark_190504_AD-073_bias.fit\n",
      "148 dark_190504_AD-074_bias.fit\n",
      "149 dark_190504_AD-075_bias.fit\n",
      "150 dark_190504_AD-076_bias.fit\n",
      "151 dark_190504_AD-077_bias.fit\n",
      "152 dark_190504_AD-078_bias.fit\n",
      "153 dark_190504_AD-079_bias.fit\n",
      "154 dark_190504_AD-080_bias.fit\n",
      "155 dark_190504_AD-081_bias.fit\n",
      "156 dark_190504_AD-082_bias.fit\n",
      "157 dark_190504_AD-083_bias.fit\n",
      "158 dark_190504_AD-084_bias.fit\n",
      "159 dark_190504_AD-085_bias.fit\n",
      "160 dark_190504_AD-086_bias.fit\n",
      "161 dark_190504_AD-087_bias.fit\n",
      "162 dark_190504_AD-088_bias.fit\n",
      "163 dark_190504_AD-089_bias.fit\n",
      "164 dark_190504_AD-090_bias.fit\n",
      "165 dark_190504_AD-091_bias.fit\n",
      "166 dark_190504_AD-092_bias.fit\n",
      "167 dark_190504_AD-093_bias.fit\n",
      "168 dark_190504_AD-094_bias.fit\n",
      "169 dark_190504_AD-095_bias.fit\n",
      "170 dark_190504_AD-096_bias.fit\n",
      "171 dark_190504_AD-098_bias.fit\n",
      "172 dark_190504_AD-099_bias.fit\n",
      "173 dark_190504_AD-100_bias.fit\n",
      "174 dark_190504_AD-101_bias.fit\n",
      "175 dark_190504_AD-102_bias.fit\n",
      "176 dark_190504_AD-103_bias.fit\n",
      "177 dark_190504_AD-104_bias.fit\n",
      "178 dark_190504_AD-105_bias.fit\n",
      "179 dark_190504_AD-106_bias.fit\n",
      "180 dark_190504_AD-107_bias.fit\n",
      "181 dark_190504_AD-108_bias.fit\n",
      "182 dark_190504_AD-109_bias.fit\n",
      "183 dark_190504_AD-110_bias.fit\n",
      "184 dark_190504_AD-111_bias.fit\n",
      "185 dark_190504_AD-112_bias.fit\n",
      "186 dark_190504_AD-113_bias.fit\n",
      "187 dark_190504_AD-114_bias.fit\n",
      "188 dark_190504_AD-115_bias.fit\n",
      "189 dark_190504_AD-116_bias.fit\n",
      "190 dark_190504_AD-117_bias.fit\n",
      "191 dark_190504_AD-118_bias.fit\n",
      "192 dark_190504_AD-119_bias.fit\n",
      "193 dark_190504_AD-120_bias.fit\n",
      "194 dark_190504_AD-121_bias.fit\n",
      "195 dark_190504_AD-122_bias.fit\n",
      "196 dark_190504_AD-123_bias.fit\n",
      "197 dark_190504_AD-124_bias.fit\n",
      "198 dark_190504_AD-125_bias.fit\n",
      "199 dark_190504_AD-126_bias.fit\n",
      "200 dark_190504_AD-127_bias.fit\n",
      "201 dark_190504_AD-128_bias.fit\n",
      "202 dark_190504_AD-129_bias.fit\n",
      "203 dark_190504_AD-130_bias.fit\n",
      "204 dark_190504_AD-131_bias.fit\n",
      "205 dark_190504_AD-132_bias.fit\n",
      "206 dark_190504_AD-133_bias.fit\n",
      "207 dark_190504_AD-134_bias.fit\n",
      "208 dark_190504_AD-135_bias.fit\n",
      "209 dark_190504_AD-136_bias.fit\n",
      "210 dark_190504_AD-137_bias.fit\n",
      "211 dark_190504_AD-138_bias.fit\n",
      "212 dark_190504_AD-139_bias.fit\n",
      "213 dark_190504_AD-140_bias.fit\n",
      "214 dark_190504_AD-141_bias.fit\n",
      "215 dark_190504_AD-142_bias.fit\n",
      "216 dark_190504_AD-143_bias.fit\n",
      "217 dark_190504_AD-144_bias.fit\n",
      "218 dark_190504_AD-145_bias.fit\n",
      "219 dark_190504_AD-146_bias.fit\n",
      "220 dark_190504_AD-147_bias.fit\n",
      "221 dark_190504_AD-148_bias.fit\n",
      "222 dark_190504_AD-149_bias.fit\n",
      "223 dark_190504_AD-150_bias.fit\n",
      "224 dark_190504_AD-151_bias.fit\n",
      "225 dark_190504_AD-152_bias.fit\n",
      "226 dark_190504_AD-153_bias.fit\n",
      "227 dark_190504_AD-154_bias.fit\n",
      "228 dark_190504_AD-155_bias.fit\n",
      "229 dark_190504_AD-156_bias.fit\n",
      "230 dark_190504_AD-157_bias.fit\n",
      "231 dark_190504_AD-158_bias.fit\n",
      "232 dark_190504_AD-159_bias.fit\n",
      "233 dark_190504_AD-160_bias.fit\n",
      "234 dark_190504_AD-161_bias.fit\n",
      "235 dark_190504_AD-162_bias.fit\n",
      "236 dark_190504_AD-163_bias.fit\n",
      "237 dark_190504_AD-164_bias.fit\n",
      "238 dark_190504_AD-165_bias.fit\n",
      "239 dark_190504_AD-166_bias.fit\n",
      "240 dark_190504_AD-167_bias.fit\n",
      "241 dark_190504_AD-168_bias.fit\n",
      "242 dark_190504_AD-169_bias.fit\n",
      "243 dark_190504_AD-170_bias.fit\n",
      "244 dark_190504_AD-171_bias.fit\n",
      "245 dark_190504_AD-172_bias.fit\n",
      "246 dark_190504_AD-173_bias.fit\n",
      "247 dark_190504_AD-174_bias.fit\n",
      "248 dark_190504_AD-175_bias.fit\n",
      "249 dark_190504_AD-176_bias.fit\n",
      "250 dark_190504_AD-177_bias.fit\n",
      "251 dark_190504_AD-178_bias.fit\n",
      "252 dark_190504_AD-179_bias.fit\n",
      "253 dark_190504_AD-180_bias.fit\n",
      "254 dark_190504_AD-181_bias.fit\n",
      "255 dark_190504_AD-182_bias.fit\n",
      "256 dark_190504_AD-183_bias.fit\n",
      "257 dark_190504_AD-184_bias.fit\n",
      "258 dark_190504_AD-185_bias.fit\n",
      "259 dark_190504_AD-186_bias.fit\n",
      "260 dark_190504_AD-187_bias.fit\n",
      "261 dark_190504_AD-188_bias.fit\n",
      "262 dark_190504_AD-189_bias.fit\n",
      "263 dark_190504_AD-190_bias.fit\n",
      "264 dark_190504_AD-191_bias.fit\n",
      "265 dark_190504_AD-192_bias.fit\n",
      "266 dark_190504_AD-193_bias.fit\n",
      "267 dark_190504_AD-194_bias.fit\n",
      "268 dark_190504_AD-195_bias.fit\n",
      "269 dark_190504_AD-196_bias.fit\n",
      "270 dark_190504_AD-197_bias.fit\n",
      "271 dark_190504_AD-198_bias.fit\n",
      "272 dark_190504_AD-199_bias.fit\n",
      "273 dark_190504_AD-200_bias.fit\n"
     ]
    }
   ],
   "source": [
    "whichpath = datapath\n",
    "\n",
    "somefiles = [f for f in os.listdir(whichpath) if '.fit' in f and '_bias' in f and 'stack' not in f]\n",
    "\n",
    "somefiles = sorted(somefiles)       ## This is necessary on my Mac, may not be for others?\n",
    "for i in range(len(somefiles)):\n",
    "    print( i, somefiles[i])\n",
    "\n"
   ]
  },
  {
   "cell_type": "code",
   "execution_count": 12,
   "metadata": {},
   "outputs": [
    {
     "name": "stdout",
     "output_type": "stream",
     "text": [
      "0 dark_190504_AB-001_bias.fit\n",
      "1 dark_190504_AB-002_bias.fit\n",
      "2 dark_190504_AB-003_bias.fit\n",
      "3 dark_190504_AB-004_bias.fit\n",
      "4 dark_190504_AB-005_bias.fit\n",
      "5 dark_190504_AB-006_bias.fit\n",
      "6 dark_190504_AB-007_bias.fit\n",
      "7 dark_190504_AB-008_bias.fit\n",
      "8 dark_190504_AB-009_bias.fit\n",
      "9 dark_190504_AB-010_bias.fit\n",
      "10 dark_190504_AB-011_bias.fit\n",
      "11 dark_190504_AB-012_bias.fit\n",
      "12 dark_190504_AB-013_bias.fit\n",
      "13 dark_190504_AB-014_bias.fit\n",
      "14 dark_190504_AB-015_bias.fit\n",
      "15 dark_190504_AB-016_bias.fit\n",
      "16 dark_190504_AB-017_bias.fit\n",
      "17 dark_190504_AB-018_bias.fit\n",
      "18 dark_190504_AB-019_bias.fit\n",
      "19 dark_190504_AB-020_bias.fit\n",
      "20 dark_190504_AB-021_bias.fit\n",
      "21 dark_190504_AB-022_bias.fit\n",
      "22 dark_190504_AB-023_bias.fit\n",
      "23 dark_190504_AB-024_bias.fit\n",
      "24 dark_190504_AB-025_bias.fit\n",
      "25 dark_190504_AB-026_bias.fit\n",
      "26 dark_190504_AB-027_bias.fit\n",
      "27 dark_190504_AB-028_bias.fit\n",
      "28 dark_190504_AB-029_bias.fit\n",
      "29 dark_190504_AB-030_bias.fit\n",
      "30 dark_190504_AB-031_bias.fit\n",
      "31 dark_190504_AB-032_bias.fit\n",
      "32 dark_190504_AB-033_bias.fit\n",
      "33 dark_190504_AB-034_bias.fit\n",
      "34 dark_190504_AB-035_bias.fit\n",
      "35 dark_190504_AB-036_bias.fit\n",
      "36 dark_190504_AB-037_bias.fit\n",
      "37 dark_190504_AB-038_bias.fit\n",
      "38 dark_190504_AB-039_bias.fit\n",
      "39 dark_190504_AB-040_bias.fit\n",
      "40 dark_190504_AB-041_bias.fit\n",
      "41 dark_190504_AB-042_bias.fit\n",
      "42 dark_190504_AB-043_bias.fit\n",
      "43 dark_190504_AB-044_bias.fit\n",
      "44 dark_190504_AB-045_bias.fit\n",
      "45 dark_190504_AB-046_bias.fit\n",
      "46 dark_190504_AB-047_bias.fit\n",
      "47 dark_190504_AB-048_bias.fit\n",
      "48 dark_190504_AB-049_bias.fit\n",
      "49 dark_190504_AB-050_bias.fit\n",
      "50 dark_190504_AC-001_bias.fit\n",
      "51 dark_190504_AC-002_bias.fit\n",
      "52 dark_190504_AC-003_bias.fit\n",
      "53 dark_190504_AC-004_bias.fit\n",
      "54 dark_190504_AC-005_bias.fit\n",
      "55 dark_190504_AC-006_bias.fit\n",
      "56 dark_190504_AC-007_bias.fit\n",
      "57 dark_190504_AC-008_bias.fit\n",
      "58 dark_190504_AC-009_bias.fit\n",
      "59 dark_190504_AC-010_bias.fit\n",
      "60 dark_190504_AC-011_bias.fit\n",
      "61 dark_190504_AC-012_bias.fit\n",
      "62 dark_190504_AC-013_bias.fit\n",
      "63 dark_190504_AC-014_bias.fit\n",
      "64 dark_190504_AC-015_bias.fit\n",
      "65 dark_190504_AC-016_bias.fit\n",
      "66 dark_190504_AC-017_bias.fit\n",
      "67 dark_190504_AC-018_bias.fit\n",
      "68 dark_190504_AC-019_bias.fit\n",
      "69 dark_190504_AC-020_bias.fit\n",
      "70 dark_190504_AC-021_bias.fit\n",
      "71 dark_190504_AC-022_bias.fit\n",
      "72 dark_190504_AC-023_bias.fit\n",
      "73 dark_190504_AC-024_bias.fit\n",
      "74 dark_190504_AC-025_bias.fit\n",
      "75 dark_190504_AD-001_bias.fit\n",
      "76 dark_190504_AD-002_bias.fit\n",
      "77 dark_190504_AD-003_bias.fit\n",
      "78 dark_190504_AD-004_bias.fit\n",
      "79 dark_190504_AD-005_bias.fit\n",
      "80 dark_190504_AD-006_bias.fit\n",
      "81 dark_190504_AD-007_bias.fit\n",
      "82 dark_190504_AD-008_bias.fit\n",
      "83 dark_190504_AD-009_bias.fit\n",
      "84 dark_190504_AD-010_bias.fit\n",
      "85 dark_190504_AD-011_bias.fit\n",
      "86 dark_190504_AD-012_bias.fit\n",
      "87 dark_190504_AD-013_bias.fit\n",
      "88 dark_190504_AD-014_bias.fit\n",
      "89 dark_190504_AD-015_bias.fit\n",
      "90 dark_190504_AD-016_bias.fit\n",
      "91 dark_190504_AD-017_bias.fit\n",
      "92 dark_190504_AD-018_bias.fit\n",
      "93 dark_190504_AD-019_bias.fit\n",
      "94 dark_190504_AD-020_bias.fit\n",
      "95 dark_190504_AD-021_bias.fit\n",
      "96 dark_190504_AD-022_bias.fit\n",
      "97 dark_190504_AD-023_bias.fit\n",
      "98 dark_190504_AD-024_bias.fit\n",
      "99 dark_190504_AD-025_bias.fit\n",
      "100 dark_190504_AD-026_bias.fit\n",
      "101 dark_190504_AD-027_bias.fit\n",
      "102 dark_190504_AD-028_bias.fit\n",
      "103 dark_190504_AD-029_bias.fit\n",
      "104 dark_190504_AD-030_bias.fit\n",
      "105 dark_190504_AD-031_bias.fit\n",
      "106 dark_190504_AD-032_bias.fit\n",
      "107 dark_190504_AD-033_bias.fit\n",
      "108 dark_190504_AD-034_bias.fit\n",
      "109 dark_190504_AD-035_bias.fit\n",
      "110 dark_190504_AD-036_bias.fit\n",
      "111 dark_190504_AD-037_bias.fit\n",
      "112 dark_190504_AD-038_bias.fit\n",
      "113 dark_190504_AD-039_bias.fit\n",
      "114 dark_190504_AD-040_bias.fit\n",
      "115 dark_190504_AD-041_bias.fit\n",
      "116 dark_190504_AD-042_bias.fit\n",
      "117 dark_190504_AD-043_bias.fit\n",
      "118 dark_190504_AD-044_bias.fit\n",
      "119 dark_190504_AD-045_bias.fit\n",
      "120 dark_190504_AD-046_bias.fit\n",
      "121 dark_190504_AD-047_bias.fit\n",
      "122 dark_190504_AD-048_bias.fit\n",
      "123 dark_190504_AD-049_bias.fit\n",
      "124 dark_190504_AD-050_bias.fit\n",
      "125 dark_190504_AD-051_bias.fit\n",
      "126 dark_190504_AD-052_bias.fit\n",
      "127 dark_190504_AD-053_bias.fit\n",
      "128 dark_190504_AD-054_bias.fit\n",
      "129 dark_190504_AD-055_bias.fit\n",
      "130 dark_190504_AD-056_bias.fit\n",
      "131 dark_190504_AD-057_bias.fit\n",
      "132 dark_190504_AD-058_bias.fit\n",
      "133 dark_190504_AD-059_bias.fit\n",
      "134 dark_190504_AD-060_bias.fit\n",
      "135 dark_190504_AD-061_bias.fit\n",
      "136 dark_190504_AD-062_bias.fit\n",
      "137 dark_190504_AD-063_bias.fit\n",
      "138 dark_190504_AD-064_bias.fit\n",
      "139 dark_190504_AD-065_bias.fit\n",
      "140 dark_190504_AD-066_bias.fit\n",
      "141 dark_190504_AD-067_bias.fit\n",
      "142 dark_190504_AD-068_bias.fit\n",
      "143 dark_190504_AD-069_bias.fit\n",
      "144 dark_190504_AD-070_bias.fit\n",
      "145 dark_190504_AD-071_bias.fit\n",
      "146 dark_190504_AD-072_bias.fit\n",
      "147 dark_190504_AD-073_bias.fit\n",
      "148 dark_190504_AD-074_bias.fit\n",
      "149 dark_190504_AD-075_bias.fit\n",
      "150 dark_190504_AD-076_bias.fit\n",
      "151 dark_190504_AD-077_bias.fit\n",
      "152 dark_190504_AD-078_bias.fit\n",
      "153 dark_190504_AD-079_bias.fit\n",
      "154 dark_190504_AD-080_bias.fit\n",
      "155 dark_190504_AD-081_bias.fit\n",
      "156 dark_190504_AD-082_bias.fit\n",
      "157 dark_190504_AD-083_bias.fit\n",
      "158 dark_190504_AD-084_bias.fit\n",
      "159 dark_190504_AD-085_bias.fit\n",
      "160 dark_190504_AD-086_bias.fit\n",
      "161 dark_190504_AD-087_bias.fit\n",
      "162 dark_190504_AD-088_bias.fit\n",
      "163 dark_190504_AD-089_bias.fit\n",
      "164 dark_190504_AD-090_bias.fit\n",
      "165 dark_190504_AD-091_bias.fit\n",
      "166 dark_190504_AD-092_bias.fit\n",
      "167 dark_190504_AD-093_bias.fit\n",
      "168 dark_190504_AD-094_bias.fit\n",
      "169 dark_190504_AD-095_bias.fit\n",
      "170 dark_190504_AD-096_bias.fit\n",
      "171 dark_190504_AD-098_bias.fit\n",
      "172 dark_190504_AD-099_bias.fit\n",
      "173 dark_190504_AD-100_bias.fit\n",
      "174 dark_190504_AD-101_bias.fit\n",
      "175 dark_190504_AD-102_bias.fit\n",
      "176 dark_190504_AD-103_bias.fit\n",
      "177 dark_190504_AD-104_bias.fit\n",
      "178 dark_190504_AD-105_bias.fit\n",
      "179 dark_190504_AD-106_bias.fit\n",
      "180 dark_190504_AD-107_bias.fit\n",
      "181 dark_190504_AD-108_bias.fit\n",
      "182 dark_190504_AD-109_bias.fit\n",
      "183 dark_190504_AD-110_bias.fit\n",
      "184 dark_190504_AD-111_bias.fit\n",
      "185 dark_190504_AD-112_bias.fit\n",
      "186 dark_190504_AD-113_bias.fit\n",
      "187 dark_190504_AD-114_bias.fit\n",
      "188 dark_190504_AD-115_bias.fit\n",
      "189 dark_190504_AD-116_bias.fit\n",
      "190 dark_190504_AD-117_bias.fit\n",
      "191 dark_190504_AD-118_bias.fit\n",
      "192 dark_190504_AD-119_bias.fit\n",
      "193 dark_190504_AD-120_bias.fit\n",
      "194 dark_190504_AD-121_bias.fit\n",
      "195 dark_190504_AD-122_bias.fit\n",
      "196 dark_190504_AD-123_bias.fit\n",
      "197 dark_190504_AD-124_bias.fit\n",
      "198 dark_190504_AD-125_bias.fit\n",
      "199 dark_190504_AD-126_bias.fit\n",
      "200 dark_190504_AD-127_bias.fit\n",
      "201 dark_190504_AD-128_bias.fit\n",
      "202 dark_190504_AD-129_bias.fit\n",
      "203 dark_190504_AD-130_bias.fit\n",
      "204 dark_190504_AD-131_bias.fit\n",
      "205 dark_190504_AD-132_bias.fit\n",
      "206 dark_190504_AD-133_bias.fit\n",
      "207 dark_190504_AD-134_bias.fit\n",
      "208 dark_190504_AD-135_bias.fit\n",
      "209 dark_190504_AD-136_bias.fit\n",
      "210 dark_190504_AD-137_bias.fit\n",
      "211 dark_190504_AD-138_bias.fit\n",
      "212 dark_190504_AD-139_bias.fit\n",
      "213 dark_190504_AD-140_bias.fit\n",
      "214 dark_190504_AD-141_bias.fit\n",
      "215 dark_190504_AD-142_bias.fit\n",
      "216 dark_190504_AD-143_bias.fit\n",
      "217 dark_190504_AD-144_bias.fit\n",
      "218 dark_190504_AD-145_bias.fit\n",
      "219 dark_190504_AD-146_bias.fit\n",
      "220 dark_190504_AD-147_bias.fit\n",
      "221 dark_190504_AD-148_bias.fit\n",
      "222 dark_190504_AD-149_bias.fit\n",
      "223 dark_190504_AD-150_bias.fit\n",
      "224 dark_190504_AD-151_bias.fit\n",
      "225 dark_190504_AD-152_bias.fit\n",
      "226 dark_190504_AD-153_bias.fit\n",
      "227 dark_190504_AD-154_bias.fit\n",
      "228 dark_190504_AD-155_bias.fit\n",
      "229 dark_190504_AD-156_bias.fit\n",
      "230 dark_190504_AD-157_bias.fit\n",
      "231 dark_190504_AD-158_bias.fit\n",
      "232 dark_190504_AD-159_bias.fit\n",
      "233 dark_190504_AD-160_bias.fit\n",
      "234 dark_190504_AD-161_bias.fit\n",
      "235 dark_190504_AD-162_bias.fit\n",
      "236 dark_190504_AD-163_bias.fit\n",
      "237 dark_190504_AD-164_bias.fit\n",
      "238 dark_190504_AD-165_bias.fit\n",
      "239 dark_190504_AD-166_bias.fit\n",
      "240 dark_190504_AD-167_bias.fit\n",
      "241 dark_190504_AD-168_bias.fit\n",
      "242 dark_190504_AD-169_bias.fit\n",
      "243 dark_190504_AD-170_bias.fit\n",
      "244 dark_190504_AD-171_bias.fit\n",
      "245 dark_190504_AD-172_bias.fit\n",
      "246 dark_190504_AD-173_bias.fit\n",
      "247 dark_190504_AD-174_bias.fit\n",
      "248 dark_190504_AD-175_bias.fit\n",
      "249 dark_190504_AD-176_bias.fit\n",
      "250 dark_190504_AD-177_bias.fit\n",
      "251 dark_190504_AD-178_bias.fit\n",
      "252 dark_190504_AD-179_bias.fit\n",
      "253 dark_190504_AD-180_bias.fit\n",
      "254 dark_190504_AD-181_bias.fit\n",
      "255 dark_190504_AD-182_bias.fit\n",
      "256 dark_190504_AD-183_bias.fit\n",
      "257 dark_190504_AD-184_bias.fit\n",
      "258 dark_190504_AD-185_bias.fit\n",
      "259 dark_190504_AD-186_bias.fit\n",
      "260 dark_190504_AD-187_bias.fit\n",
      "261 dark_190504_AD-188_bias.fit\n",
      "262 dark_190504_AD-189_bias.fit\n",
      "263 dark_190504_AD-190_bias.fit\n",
      "264 dark_190504_AD-191_bias.fit\n",
      "265 dark_190504_AD-192_bias.fit\n",
      "266 dark_190504_AD-193_bias.fit\n",
      "267 dark_190504_AD-194_bias.fit\n",
      "268 dark_190504_AD-195_bias.fit\n",
      "269 dark_190504_AD-196_bias.fit\n",
      "270 dark_190504_AD-197_bias.fit\n",
      "271 dark_190504_AD-198_bias.fit\n",
      "272 dark_190504_AD-199_bias.fit\n",
      "273 dark_190504_AD-200_bias.fit\n"
     ]
    }
   ],
   "source": [
    "acceptlist = True             # True if you want to accept all the files in somefiles.\n",
    "contiguous = True             # True if you want to accept a contiguous subset of somefiles.\n",
    "startfile, endfile = 5,9      # The first and last files in a contiquous subset.\n",
    "flist = [0,3,4,5,6,7,8]        # An explicit list of the files you want to accept.\n",
    "\n",
    "if acceptlist == True:\n",
    "    files = somefiles\n",
    "    for i in range(len(files)):\n",
    "        print(i, files[i])\n",
    "else:\n",
    "    if contiguous == True:\n",
    "        files = somefiles[startfile:endfile+1]\n",
    "        for i in range(len(files)):\n",
    "            print( i, files[i])\n",
    "    else:\n",
    "        files = []\n",
    "        for i in range(len(flist)):\n",
    "            files.append(somefiles[flist[i]])\n",
    "        for i in range(len(files)):\n",
    "            print( i, flist[i], files[i])"
   ]
  },
  {
   "cell_type": "code",
   "execution_count": 13,
   "metadata": {},
   "outputs": [
    {
     "name": "stderr",
     "output_type": "stream",
     "text": [
      "GetHeadVal: Missing Configuration\n",
      "GetHeadVal: Missing Configuration\n"
     ]
    },
    {
     "name": "stdout",
     "output_type": "stream",
     "text": [
      "rows = 1024    cols = 1024\n",
      "image.shape = (274, 1024, 1024)\n"
     ]
    },
    {
     "name": "stderr",
     "output_type": "stream",
     "text": [
      "GetHeadVal: Missing Configuration\n",
      "GetHeadVal: Missing Configuration\n"
     ]
    },
    {
     "name": "stdout",
     "output_type": "stream",
     "text": [
      "\n",
      "0 dark_190504_AB-001_bias.fit\n"
     ]
    },
    {
     "name": "stderr",
     "output_type": "stream",
     "text": [
      "GetHeadVal: Missing Configuration\n",
      "GetHeadVal: Missing Configuration\n"
     ]
    },
    {
     "name": "stdout",
     "output_type": "stream",
     "text": [
      "\n",
      "1 dark_190504_AB-002_bias.fit\n"
     ]
    },
    {
     "name": "stderr",
     "output_type": "stream",
     "text": [
      "GetHeadVal: Missing Configuration\n",
      "GetHeadVal: Missing Configuration\n"
     ]
    },
    {
     "name": "stdout",
     "output_type": "stream",
     "text": [
      "\n",
      "2 dark_190504_AB-003_bias.fit\n"
     ]
    },
    {
     "name": "stderr",
     "output_type": "stream",
     "text": [
      "GetHeadVal: Missing Configuration\n",
      "GetHeadVal: Missing Configuration\n"
     ]
    },
    {
     "name": "stdout",
     "output_type": "stream",
     "text": [
      "\n",
      "3 dark_190504_AB-004_bias.fit\n",
      "\n",
      "4 dark_190504_AB-005_bias.fit\n"
     ]
    },
    {
     "name": "stderr",
     "output_type": "stream",
     "text": [
      "GetHeadVal: Missing Configuration\n",
      "GetHeadVal: Missing Configuration\n",
      "GetHeadVal: Missing Configuration\n",
      "GetHeadVal: Missing Configuration\n"
     ]
    },
    {
     "name": "stdout",
     "output_type": "stream",
     "text": [
      "\n",
      "5 dark_190504_AB-006_bias.fit\n"
     ]
    },
    {
     "name": "stderr",
     "output_type": "stream",
     "text": [
      "GetHeadVal: Missing Configuration\n",
      "GetHeadVal: Missing Configuration\n"
     ]
    },
    {
     "name": "stdout",
     "output_type": "stream",
     "text": [
      "\n",
      "6 dark_190504_AB-007_bias.fit\n"
     ]
    },
    {
     "name": "stderr",
     "output_type": "stream",
     "text": [
      "GetHeadVal: Missing Configuration\n",
      "GetHeadVal: Missing Configuration\n"
     ]
    },
    {
     "name": "stdout",
     "output_type": "stream",
     "text": [
      "\n",
      "7 dark_190504_AB-008_bias.fit\n"
     ]
    },
    {
     "name": "stderr",
     "output_type": "stream",
     "text": [
      "GetHeadVal: Missing Configuration\n",
      "GetHeadVal: Missing Configuration\n"
     ]
    },
    {
     "name": "stdout",
     "output_type": "stream",
     "text": [
      "\n",
      "8 dark_190504_AB-009_bias.fit\n",
      "\n",
      "9 dark_190504_AB-010_bias.fit\n"
     ]
    },
    {
     "name": "stderr",
     "output_type": "stream",
     "text": [
      "GetHeadVal: Missing Configuration\n",
      "GetHeadVal: Missing Configuration\n",
      "GetHeadVal: Missing Configuration\n",
      "GetHeadVal: Missing Configuration\n"
     ]
    },
    {
     "name": "stdout",
     "output_type": "stream",
     "text": [
      "\n",
      "10 dark_190504_AB-011_bias.fit\n",
      "\n",
      "11 dark_190504_AB-012_bias.fit\n"
     ]
    },
    {
     "name": "stderr",
     "output_type": "stream",
     "text": [
      "GetHeadVal: Missing Configuration\n",
      "GetHeadVal: Missing Configuration\n",
      "GetHeadVal: Missing Configuration\n",
      "GetHeadVal: Missing Configuration\n"
     ]
    },
    {
     "name": "stdout",
     "output_type": "stream",
     "text": [
      "\n",
      "12 dark_190504_AB-013_bias.fit\n"
     ]
    },
    {
     "name": "stderr",
     "output_type": "stream",
     "text": [
      "GetHeadVal: Missing Configuration\n",
      "GetHeadVal: Missing Configuration\n"
     ]
    },
    {
     "name": "stdout",
     "output_type": "stream",
     "text": [
      "\n",
      "13 dark_190504_AB-014_bias.fit\n"
     ]
    },
    {
     "name": "stderr",
     "output_type": "stream",
     "text": [
      "GetHeadVal: Missing Configuration\n",
      "GetHeadVal: Missing Configuration\n",
      "GetHeadVal: Missing Configuration\n"
     ]
    },
    {
     "name": "stdout",
     "output_type": "stream",
     "text": [
      "\n",
      "14 dark_190504_AB-015_bias.fit\n",
      "\n",
      "15 dark_190504_AB-016_bias.fit\n"
     ]
    },
    {
     "name": "stderr",
     "output_type": "stream",
     "text": [
      "GetHeadVal: Missing Configuration\n",
      "GetHeadVal: Missing Configuration\n",
      "GetHeadVal: Missing Configuration\n"
     ]
    },
    {
     "name": "stdout",
     "output_type": "stream",
     "text": [
      "\n",
      "16 dark_190504_AB-017_bias.fit\n",
      "\n",
      "17 dark_190504_AB-018_bias.fit\n"
     ]
    },
    {
     "name": "stderr",
     "output_type": "stream",
     "text": [
      "GetHeadVal: Missing Configuration\n",
      "GetHeadVal: Missing Configuration\n",
      "GetHeadVal: Missing Configuration\n",
      "GetHeadVal: Missing Configuration\n"
     ]
    },
    {
     "name": "stdout",
     "output_type": "stream",
     "text": [
      "\n",
      "18 dark_190504_AB-019_bias.fit\n",
      "\n"
     ]
    },
    {
     "name": "stderr",
     "output_type": "stream",
     "text": [
      "GetHeadVal: Missing Configuration\n",
      "GetHeadVal: Missing Configuration\n",
      "GetHeadVal: Missing Configuration\n",
      "GetHeadVal: Missing Configuration\n"
     ]
    },
    {
     "name": "stdout",
     "output_type": "stream",
     "text": [
      "19 dark_190504_AB-020_bias.fit\n",
      "\n",
      "20 dark_190504_AB-021_bias.fit\n"
     ]
    },
    {
     "name": "stderr",
     "output_type": "stream",
     "text": [
      "GetHeadVal: Missing Configuration\n",
      "GetHeadVal: Missing Configuration\n"
     ]
    },
    {
     "name": "stdout",
     "output_type": "stream",
     "text": [
      "\n",
      "21 dark_190504_AB-022_bias.fit\n"
     ]
    },
    {
     "name": "stderr",
     "output_type": "stream",
     "text": [
      "GetHeadVal: Missing Configuration\n",
      "GetHeadVal: Missing Configuration\n"
     ]
    },
    {
     "name": "stdout",
     "output_type": "stream",
     "text": [
      "\n",
      "22 dark_190504_AB-023_bias.fit\n",
      "\n",
      "23 dark_190504_AB-024_bias.fit"
     ]
    },
    {
     "name": "stderr",
     "output_type": "stream",
     "text": [
      "GetHeadVal: Missing Configuration\n",
      "GetHeadVal: Missing Configuration\n",
      "GetHeadVal: Missing Configuration\n",
      "GetHeadVal: Missing Configuration\n"
     ]
    },
    {
     "name": "stdout",
     "output_type": "stream",
     "text": [
      "\n",
      "\n",
      "24 dark_190504_AB-025_bias.fit\n"
     ]
    },
    {
     "name": "stderr",
     "output_type": "stream",
     "text": [
      "GetHeadVal: Missing Configuration\n",
      "GetHeadVal: Missing Configuration\n"
     ]
    },
    {
     "name": "stdout",
     "output_type": "stream",
     "text": [
      "\n",
      "25 dark_190504_AB-026_bias.fit\n",
      "\n",
      "26 dark_190504_AB-027_bias.fit\n"
     ]
    },
    {
     "name": "stderr",
     "output_type": "stream",
     "text": [
      "GetHeadVal: Missing Configuration\n",
      "GetHeadVal: Missing Configuration\n",
      "GetHeadVal: Missing Configuration\n",
      "GetHeadVal: Missing Configuration\n"
     ]
    },
    {
     "name": "stdout",
     "output_type": "stream",
     "text": [
      "\n",
      "27 dark_190504_AB-028_bias.fit\n"
     ]
    },
    {
     "name": "stderr",
     "output_type": "stream",
     "text": [
      "GetHeadVal: Missing Configuration\n",
      "GetHeadVal: Missing Configuration\n"
     ]
    },
    {
     "name": "stdout",
     "output_type": "stream",
     "text": [
      "\n",
      "28 dark_190504_AB-029_bias.fit\n"
     ]
    },
    {
     "name": "stderr",
     "output_type": "stream",
     "text": [
      "GetHeadVal: Missing Configuration\n",
      "GetHeadVal: Missing Configuration\n"
     ]
    },
    {
     "name": "stdout",
     "output_type": "stream",
     "text": [
      "\n",
      "29 dark_190504_AB-030_bias.fit\n"
     ]
    },
    {
     "name": "stderr",
     "output_type": "stream",
     "text": [
      "GetHeadVal: Missing Configuration\n",
      "GetHeadVal: Missing Configuration\n"
     ]
    },
    {
     "name": "stdout",
     "output_type": "stream",
     "text": [
      "\n",
      "30 dark_190504_AB-031_bias.fit\n"
     ]
    },
    {
     "name": "stderr",
     "output_type": "stream",
     "text": [
      "GetHeadVal: Missing Configuration\n",
      "GetHeadVal: Missing Configuration\n"
     ]
    },
    {
     "name": "stdout",
     "output_type": "stream",
     "text": [
      "\n",
      "31 dark_190504_AB-032_bias.fit\n"
     ]
    },
    {
     "name": "stderr",
     "output_type": "stream",
     "text": [
      "GetHeadVal: Missing Configuration\n",
      "GetHeadVal: Missing Configuration\n"
     ]
    },
    {
     "name": "stdout",
     "output_type": "stream",
     "text": [
      "\n",
      "32 dark_190504_AB-033_bias.fit\n"
     ]
    },
    {
     "name": "stderr",
     "output_type": "stream",
     "text": [
      "GetHeadVal: Missing Configuration\n",
      "GetHeadVal: Missing Configuration\n"
     ]
    },
    {
     "name": "stdout",
     "output_type": "stream",
     "text": [
      "\n",
      "33 dark_190504_AB-034_bias.fit\n"
     ]
    },
    {
     "name": "stderr",
     "output_type": "stream",
     "text": [
      "GetHeadVal: Missing Configuration\n",
      "GetHeadVal: Missing Configuration\n"
     ]
    },
    {
     "name": "stdout",
     "output_type": "stream",
     "text": [
      "\n",
      "34 dark_190504_AB-035_bias.fit\n"
     ]
    },
    {
     "name": "stderr",
     "output_type": "stream",
     "text": [
      "GetHeadVal: Missing Configuration\n",
      "GetHeadVal: Missing Configuration\n"
     ]
    },
    {
     "name": "stdout",
     "output_type": "stream",
     "text": [
      "\n",
      "35 dark_190504_AB-036_bias.fit\n"
     ]
    },
    {
     "name": "stderr",
     "output_type": "stream",
     "text": [
      "GetHeadVal: Missing Configuration\n",
      "GetHeadVal: Missing Configuration\n"
     ]
    },
    {
     "name": "stdout",
     "output_type": "stream",
     "text": [
      "\n",
      "36 dark_190504_AB-037_bias.fit\n"
     ]
    },
    {
     "name": "stderr",
     "output_type": "stream",
     "text": [
      "GetHeadVal: Missing Configuration\n",
      "GetHeadVal: Missing Configuration\n"
     ]
    },
    {
     "name": "stdout",
     "output_type": "stream",
     "text": [
      "\n",
      "37 dark_190504_AB-038_bias.fit\n"
     ]
    },
    {
     "name": "stderr",
     "output_type": "stream",
     "text": [
      "GetHeadVal: Missing Configuration\n",
      "GetHeadVal: Missing Configuration\n"
     ]
    },
    {
     "name": "stdout",
     "output_type": "stream",
     "text": [
      "\n",
      "38 dark_190504_AB-039_bias.fit\n"
     ]
    },
    {
     "name": "stderr",
     "output_type": "stream",
     "text": [
      "GetHeadVal: Missing Configuration\n",
      "GetHeadVal: Missing Configuration\n"
     ]
    },
    {
     "name": "stdout",
     "output_type": "stream",
     "text": [
      "\n",
      "39 dark_190504_AB-040_bias.fit\n"
     ]
    },
    {
     "name": "stderr",
     "output_type": "stream",
     "text": [
      "GetHeadVal: Missing Configuration\n",
      "GetHeadVal: Missing Configuration\n"
     ]
    },
    {
     "name": "stdout",
     "output_type": "stream",
     "text": [
      "\n",
      "40 dark_190504_AB-041_bias.fit\n"
     ]
    },
    {
     "name": "stderr",
     "output_type": "stream",
     "text": [
      "GetHeadVal: Missing Configuration\n",
      "GetHeadVal: Missing Configuration\n"
     ]
    },
    {
     "name": "stdout",
     "output_type": "stream",
     "text": [
      "\n",
      "41 dark_190504_AB-042_bias.fit\n"
     ]
    },
    {
     "name": "stderr",
     "output_type": "stream",
     "text": [
      "GetHeadVal: Missing Configuration\n",
      "GetHeadVal: Missing Configuration\n"
     ]
    },
    {
     "name": "stdout",
     "output_type": "stream",
     "text": [
      "\n",
      "42 dark_190504_AB-043_bias.fit\n"
     ]
    },
    {
     "name": "stderr",
     "output_type": "stream",
     "text": [
      "GetHeadVal: Missing Configuration\n",
      "GetHeadVal: Missing Configuration\n"
     ]
    },
    {
     "name": "stdout",
     "output_type": "stream",
     "text": [
      "\n",
      "43 dark_190504_AB-044_bias.fit\n"
     ]
    },
    {
     "name": "stderr",
     "output_type": "stream",
     "text": [
      "GetHeadVal: Missing Configuration\n",
      "GetHeadVal: Missing Configuration\n"
     ]
    },
    {
     "name": "stdout",
     "output_type": "stream",
     "text": [
      "\n",
      "44 dark_190504_AB-045_bias.fit\n"
     ]
    },
    {
     "name": "stderr",
     "output_type": "stream",
     "text": [
      "GetHeadVal: Missing Configuration\n",
      "GetHeadVal: Missing Configuration\n"
     ]
    },
    {
     "name": "stdout",
     "output_type": "stream",
     "text": [
      "\n",
      "45 dark_190504_AB-046_bias.fit\n"
     ]
    },
    {
     "name": "stderr",
     "output_type": "stream",
     "text": [
      "GetHeadVal: Missing Configuration\n",
      "GetHeadVal: Missing Configuration\n"
     ]
    },
    {
     "name": "stdout",
     "output_type": "stream",
     "text": [
      "\n",
      "46 dark_190504_AB-047_bias.fit\n"
     ]
    },
    {
     "name": "stderr",
     "output_type": "stream",
     "text": [
      "GetHeadVal: Missing Configuration\n",
      "GetHeadVal: Missing Configuration\n"
     ]
    },
    {
     "name": "stdout",
     "output_type": "stream",
     "text": [
      "\n",
      "47 dark_190504_AB-048_bias.fit\n"
     ]
    },
    {
     "name": "stderr",
     "output_type": "stream",
     "text": [
      "GetHeadVal: Missing Configuration\n",
      "GetHeadVal: Missing Configuration\n"
     ]
    },
    {
     "name": "stdout",
     "output_type": "stream",
     "text": [
      "\n",
      "48 dark_190504_AB-049_bias.fit\n"
     ]
    },
    {
     "name": "stderr",
     "output_type": "stream",
     "text": [
      "GetHeadVal: Missing Configuration\n",
      "GetHeadVal: Missing Configuration\n"
     ]
    },
    {
     "name": "stdout",
     "output_type": "stream",
     "text": [
      "\n",
      "49 dark_190504_AB-050_bias.fit\n",
      "\n",
      "50 dark_190504_AC-001_bias.fit\n"
     ]
    },
    {
     "name": "stderr",
     "output_type": "stream",
     "text": [
      "GetHeadVal: Missing Configuration\n",
      "GetHeadVal: Missing Configuration\n",
      "GetHeadVal: Missing Configuration\n",
      "GetHeadVal: Missing Configuration\n"
     ]
    },
    {
     "name": "stdout",
     "output_type": "stream",
     "text": [
      "\n",
      "51 dark_190504_AC-002_bias.fit\n"
     ]
    },
    {
     "name": "stderr",
     "output_type": "stream",
     "text": [
      "GetHeadVal: Missing Configuration\n",
      "GetHeadVal: Missing Configuration\n"
     ]
    },
    {
     "name": "stdout",
     "output_type": "stream",
     "text": [
      "\n",
      "52 dark_190504_AC-003_bias.fit\n"
     ]
    },
    {
     "name": "stderr",
     "output_type": "stream",
     "text": [
      "GetHeadVal: Missing Configuration\n",
      "GetHeadVal: Missing Configuration\n"
     ]
    },
    {
     "name": "stdout",
     "output_type": "stream",
     "text": [
      "\n",
      "53 dark_190504_AC-004_bias.fit\n"
     ]
    },
    {
     "name": "stderr",
     "output_type": "stream",
     "text": [
      "GetHeadVal: Missing Configuration\n",
      "GetHeadVal: Missing Configuration\n"
     ]
    },
    {
     "name": "stdout",
     "output_type": "stream",
     "text": [
      "\n",
      "54 dark_190504_AC-005_bias.fit\n"
     ]
    },
    {
     "name": "stderr",
     "output_type": "stream",
     "text": [
      "GetHeadVal: Missing Configuration\n",
      "GetHeadVal: Missing Configuration\n"
     ]
    },
    {
     "name": "stdout",
     "output_type": "stream",
     "text": [
      "\n",
      "55 dark_190504_AC-006_bias.fit\n"
     ]
    },
    {
     "name": "stderr",
     "output_type": "stream",
     "text": [
      "GetHeadVal: Missing Configuration\n",
      "GetHeadVal: Missing Configuration\n"
     ]
    },
    {
     "name": "stdout",
     "output_type": "stream",
     "text": [
      "\n",
      "56 dark_190504_AC-007_bias.fit\n"
     ]
    },
    {
     "name": "stderr",
     "output_type": "stream",
     "text": [
      "GetHeadVal: Missing Configuration\n",
      "GetHeadVal: Missing Configuration\n"
     ]
    },
    {
     "name": "stdout",
     "output_type": "stream",
     "text": [
      "\n",
      "57 dark_190504_AC-008_bias.fit\n"
     ]
    },
    {
     "name": "stderr",
     "output_type": "stream",
     "text": [
      "GetHeadVal: Missing Configuration\n",
      "GetHeadVal: Missing Configuration\n"
     ]
    },
    {
     "name": "stdout",
     "output_type": "stream",
     "text": [
      "\n",
      "58 dark_190504_AC-009_bias.fit\n"
     ]
    },
    {
     "name": "stderr",
     "output_type": "stream",
     "text": [
      "GetHeadVal: Missing Configuration\n",
      "GetHeadVal: Missing Configuration\n"
     ]
    },
    {
     "name": "stdout",
     "output_type": "stream",
     "text": [
      "\n",
      "59 dark_190504_AC-010_bias.fit\n"
     ]
    },
    {
     "name": "stderr",
     "output_type": "stream",
     "text": [
      "GetHeadVal: Missing Configuration\n",
      "GetHeadVal: Missing Configuration\n"
     ]
    },
    {
     "name": "stdout",
     "output_type": "stream",
     "text": [
      "\n",
      "60 dark_190504_AC-011_bias.fit\n"
     ]
    },
    {
     "name": "stderr",
     "output_type": "stream",
     "text": [
      "GetHeadVal: Missing Configuration\n",
      "GetHeadVal: Missing Configuration\n"
     ]
    },
    {
     "name": "stdout",
     "output_type": "stream",
     "text": [
      "\n",
      "61 dark_190504_AC-012_bias.fit\n"
     ]
    },
    {
     "name": "stderr",
     "output_type": "stream",
     "text": [
      "GetHeadVal: Missing Configuration\n",
      "GetHeadVal: Missing Configuration\n"
     ]
    },
    {
     "name": "stdout",
     "output_type": "stream",
     "text": [
      "\n",
      "62 dark_190504_AC-013_bias.fit\n"
     ]
    },
    {
     "name": "stderr",
     "output_type": "stream",
     "text": [
      "GetHeadVal: Missing Configuration\n",
      "GetHeadVal: Missing Configuration\n"
     ]
    },
    {
     "name": "stdout",
     "output_type": "stream",
     "text": [
      "\n",
      "63 dark_190504_AC-014_bias.fit\n"
     ]
    },
    {
     "name": "stderr",
     "output_type": "stream",
     "text": [
      "GetHeadVal: Missing Configuration\n",
      "GetHeadVal: Missing Configuration\n"
     ]
    },
    {
     "name": "stdout",
     "output_type": "stream",
     "text": [
      "\n",
      "64 dark_190504_AC-015_bias.fit\n"
     ]
    },
    {
     "name": "stderr",
     "output_type": "stream",
     "text": [
      "GetHeadVal: Missing Configuration\n",
      "GetHeadVal: Missing Configuration\n"
     ]
    },
    {
     "name": "stdout",
     "output_type": "stream",
     "text": [
      "\n",
      "65 dark_190504_AC-016_bias.fit\n"
     ]
    },
    {
     "name": "stderr",
     "output_type": "stream",
     "text": [
      "GetHeadVal: Missing Configuration\n",
      "GetHeadVal: Missing Configuration\n"
     ]
    },
    {
     "name": "stdout",
     "output_type": "stream",
     "text": [
      "\n",
      "66 dark_190504_AC-017_bias.fit\n",
      "\n",
      "67 dark_190504_AC-018_bias.fit\n"
     ]
    },
    {
     "name": "stderr",
     "output_type": "stream",
     "text": [
      "GetHeadVal: Missing Configuration\n",
      "GetHeadVal: Missing Configuration\n",
      "GetHeadVal: Missing Configuration\n",
      "GetHeadVal: Missing Configuration\n"
     ]
    },
    {
     "name": "stdout",
     "output_type": "stream",
     "text": [
      "\n",
      "68 dark_190504_AC-019_bias.fit\n"
     ]
    },
    {
     "name": "stderr",
     "output_type": "stream",
     "text": [
      "GetHeadVal: Missing Configuration\n",
      "GetHeadVal: Missing Configuration\n"
     ]
    },
    {
     "name": "stdout",
     "output_type": "stream",
     "text": [
      "\n",
      "69 dark_190504_AC-020_bias.fit\n"
     ]
    },
    {
     "name": "stderr",
     "output_type": "stream",
     "text": [
      "GetHeadVal: Missing Configuration\n",
      "GetHeadVal: Missing Configuration\n"
     ]
    },
    {
     "name": "stdout",
     "output_type": "stream",
     "text": [
      "\n",
      "70 dark_190504_AC-021_bias.fit\n",
      "\n",
      "71 dark_190504_AC-022_bias.fit\n"
     ]
    },
    {
     "name": "stderr",
     "output_type": "stream",
     "text": [
      "GetHeadVal: Missing Configuration\n",
      "GetHeadVal: Missing Configuration\n",
      "GetHeadVal: Missing Configuration\n",
      "GetHeadVal: Missing Configuration\n"
     ]
    },
    {
     "name": "stdout",
     "output_type": "stream",
     "text": [
      "\n",
      "72 dark_190504_AC-023_bias.fit\n"
     ]
    },
    {
     "name": "stderr",
     "output_type": "stream",
     "text": [
      "GetHeadVal: Missing Configuration\n",
      "GetHeadVal: Missing Configuration\n"
     ]
    },
    {
     "name": "stdout",
     "output_type": "stream",
     "text": [
      "\n",
      "73 dark_190504_AC-024_bias.fit\n",
      "\n",
      "74 dark_190504_AC-025_bias.fit\n"
     ]
    },
    {
     "name": "stderr",
     "output_type": "stream",
     "text": [
      "GetHeadVal: Missing Configuration\n",
      "GetHeadVal: Missing Configuration\n",
      "GetHeadVal: Missing Configuration\n",
      "GetHeadVal: Missing Configuration\n"
     ]
    },
    {
     "name": "stdout",
     "output_type": "stream",
     "text": [
      "\n",
      "75 dark_190504_AD-001_bias.fit\n"
     ]
    },
    {
     "name": "stderr",
     "output_type": "stream",
     "text": [
      "GetHeadVal: Missing Configuration\n",
      "GetHeadVal: Missing Configuration\n"
     ]
    },
    {
     "name": "stdout",
     "output_type": "stream",
     "text": [
      "\n",
      "76 dark_190504_AD-002_bias.fit\n"
     ]
    },
    {
     "name": "stderr",
     "output_type": "stream",
     "text": [
      "GetHeadVal: Missing Configuration\n",
      "GetHeadVal: Missing Configuration\n"
     ]
    },
    {
     "name": "stdout",
     "output_type": "stream",
     "text": [
      "\n",
      "77 dark_190504_AD-003_bias.fit\n"
     ]
    },
    {
     "name": "stderr",
     "output_type": "stream",
     "text": [
      "GetHeadVal: Missing Configuration\n",
      "GetHeadVal: Missing Configuration\n"
     ]
    },
    {
     "name": "stdout",
     "output_type": "stream",
     "text": [
      "\n",
      "78 dark_190504_AD-004_bias.fit\n",
      "\n",
      "79 dark_190504_AD-005_bias.fit\n"
     ]
    },
    {
     "name": "stderr",
     "output_type": "stream",
     "text": [
      "GetHeadVal: Missing Configuration\n",
      "GetHeadVal: Missing Configuration\n",
      "GetHeadVal: Missing Configuration\n",
      "GetHeadVal: Missing Configuration\n"
     ]
    },
    {
     "name": "stdout",
     "output_type": "stream",
     "text": [
      "\n",
      "80 dark_190504_AD-006_bias.fit\n",
      "\n",
      "81 dark_190504_AD-007_bias.fit\n"
     ]
    },
    {
     "name": "stderr",
     "output_type": "stream",
     "text": [
      "GetHeadVal: Missing Configuration\n",
      "GetHeadVal: Missing Configuration\n",
      "GetHeadVal: Missing Configuration\n",
      "GetHeadVal: Missing Configuration\n"
     ]
    },
    {
     "name": "stdout",
     "output_type": "stream",
     "text": [
      "\n",
      "82 dark_190504_AD-008_bias.fit\n"
     ]
    },
    {
     "name": "stderr",
     "output_type": "stream",
     "text": [
      "GetHeadVal: Missing Configuration\n",
      "GetHeadVal: Missing Configuration\n"
     ]
    },
    {
     "name": "stdout",
     "output_type": "stream",
     "text": [
      "\n",
      "83 dark_190504_AD-009_bias.fit\n"
     ]
    },
    {
     "name": "stderr",
     "output_type": "stream",
     "text": [
      "GetHeadVal: Missing Configuration\n",
      "GetHeadVal: Missing Configuration\n"
     ]
    },
    {
     "name": "stdout",
     "output_type": "stream",
     "text": [
      "\n",
      "84 dark_190504_AD-010_bias.fit\n"
     ]
    },
    {
     "name": "stderr",
     "output_type": "stream",
     "text": [
      "GetHeadVal: Missing Configuration\n",
      "GetHeadVal: Missing Configuration\n"
     ]
    },
    {
     "name": "stdout",
     "output_type": "stream",
     "text": [
      "\n",
      "85 dark_190504_AD-011_bias.fit\n"
     ]
    },
    {
     "name": "stderr",
     "output_type": "stream",
     "text": [
      "GetHeadVal: Missing Configuration\n",
      "GetHeadVal: Missing Configuration\n",
      "GetHeadVal: Missing Configuration\n"
     ]
    },
    {
     "name": "stdout",
     "output_type": "stream",
     "text": [
      "\n",
      "86 dark_190504_AD-012_bias.fit\n",
      "\n",
      "87 dark_190504_AD-013_bias.fit\n"
     ]
    },
    {
     "name": "stderr",
     "output_type": "stream",
     "text": [
      "GetHeadVal: Missing Configuration\n",
      "GetHeadVal: Missing Configuration\n",
      "GetHeadVal: Missing Configuration\n"
     ]
    },
    {
     "name": "stdout",
     "output_type": "stream",
     "text": [
      "\n",
      "88 dark_190504_AD-014_bias.fit\n",
      "\n",
      "89 dark_190504_AD-015_bias.fit\n"
     ]
    },
    {
     "name": "stderr",
     "output_type": "stream",
     "text": [
      "GetHeadVal: Missing Configuration\n",
      "GetHeadVal: Missing Configuration\n",
      "GetHeadVal: Missing Configuration\n",
      "GetHeadVal: Missing Configuration\n",
      "GetHeadVal: Missing Configuration\n"
     ]
    },
    {
     "name": "stdout",
     "output_type": "stream",
     "text": [
      "\n",
      "90 dark_190504_AD-016_bias.fit\n",
      "\n",
      "91 dark_190504_AD-017_bias.fit\n"
     ]
    },
    {
     "name": "stderr",
     "output_type": "stream",
     "text": [
      "GetHeadVal: Missing Configuration\n",
      "GetHeadVal: Missing Configuration\n",
      "GetHeadVal: Missing Configuration\n"
     ]
    },
    {
     "name": "stdout",
     "output_type": "stream",
     "text": [
      "\n",
      "92 dark_190504_AD-018_bias.fit\n"
     ]
    },
    {
     "name": "stderr",
     "output_type": "stream",
     "text": [
      "GetHeadVal: Missing Configuration\n",
      "GetHeadVal: Missing Configuration\n"
     ]
    },
    {
     "name": "stdout",
     "output_type": "stream",
     "text": [
      "\n",
      "93 dark_190504_AD-019_bias.fit\n",
      "\n"
     ]
    },
    {
     "name": "stderr",
     "output_type": "stream",
     "text": [
      "GetHeadVal: Missing Configuration\n",
      "GetHeadVal: Missing Configuration\n"
     ]
    },
    {
     "name": "stdout",
     "output_type": "stream",
     "text": [
      "94 dark_190504_AD-020_bias.fit\n",
      "\n",
      "95 dark_190504_AD-021_bias.fit\n"
     ]
    },
    {
     "name": "stderr",
     "output_type": "stream",
     "text": [
      "GetHeadVal: Missing Configuration\n",
      "GetHeadVal: Missing Configuration\n",
      "GetHeadVal: Missing Configuration\n",
      "GetHeadVal: Missing Configuration\n"
     ]
    },
    {
     "name": "stdout",
     "output_type": "stream",
     "text": [
      "\n",
      "96 dark_190504_AD-022_bias.fit\n"
     ]
    },
    {
     "name": "stderr",
     "output_type": "stream",
     "text": [
      "GetHeadVal: Missing Configuration\n",
      "GetHeadVal: Missing Configuration\n"
     ]
    },
    {
     "name": "stdout",
     "output_type": "stream",
     "text": [
      "\n",
      "97 dark_190504_AD-023_bias.fit\n"
     ]
    },
    {
     "name": "stderr",
     "output_type": "stream",
     "text": [
      "GetHeadVal: Missing Configuration\n",
      "GetHeadVal: Missing Configuration\n"
     ]
    },
    {
     "name": "stdout",
     "output_type": "stream",
     "text": [
      "\n",
      "98 dark_190504_AD-024_bias.fit\n"
     ]
    },
    {
     "name": "stderr",
     "output_type": "stream",
     "text": [
      "GetHeadVal: Missing Configuration\n",
      "GetHeadVal: Missing Configuration\n"
     ]
    },
    {
     "name": "stdout",
     "output_type": "stream",
     "text": [
      "\n",
      "99 dark_190504_AD-025_bias.fit\n"
     ]
    },
    {
     "name": "stderr",
     "output_type": "stream",
     "text": [
      "GetHeadVal: Missing Configuration\n",
      "GetHeadVal: Missing Configuration\n"
     ]
    },
    {
     "name": "stdout",
     "output_type": "stream",
     "text": [
      "\n",
      "100 dark_190504_AD-026_bias.fit\n"
     ]
    },
    {
     "name": "stderr",
     "output_type": "stream",
     "text": [
      "GetHeadVal: Missing Configuration\n",
      "GetHeadVal: Missing Configuration\n"
     ]
    },
    {
     "name": "stdout",
     "output_type": "stream",
     "text": [
      "\n",
      "101 dark_190504_AD-027_bias.fit\n"
     ]
    },
    {
     "name": "stderr",
     "output_type": "stream",
     "text": [
      "GetHeadVal: Missing Configuration\n",
      "GetHeadVal: Missing Configuration\n"
     ]
    },
    {
     "name": "stdout",
     "output_type": "stream",
     "text": [
      "\n",
      "102 dark_190504_AD-028_bias.fit\n"
     ]
    },
    {
     "name": "stderr",
     "output_type": "stream",
     "text": [
      "GetHeadVal: Missing Configuration\n",
      "GetHeadVal: Missing Configuration\n"
     ]
    },
    {
     "name": "stdout",
     "output_type": "stream",
     "text": [
      "\n",
      "103 dark_190504_AD-029_bias.fit\n"
     ]
    },
    {
     "name": "stderr",
     "output_type": "stream",
     "text": [
      "GetHeadVal: Missing Configuration\n",
      "GetHeadVal: Missing Configuration\n"
     ]
    },
    {
     "name": "stdout",
     "output_type": "stream",
     "text": [
      "\n",
      "104 dark_190504_AD-030_bias.fit\n"
     ]
    },
    {
     "name": "stderr",
     "output_type": "stream",
     "text": [
      "GetHeadVal: Missing Configuration\n",
      "GetHeadVal: Missing Configuration\n"
     ]
    },
    {
     "name": "stdout",
     "output_type": "stream",
     "text": [
      "\n",
      "105 dark_190504_AD-031_bias.fit\n"
     ]
    },
    {
     "name": "stderr",
     "output_type": "stream",
     "text": [
      "GetHeadVal: Missing Configuration\n",
      "GetHeadVal: Missing Configuration\n"
     ]
    },
    {
     "name": "stdout",
     "output_type": "stream",
     "text": [
      "\n",
      "106 dark_190504_AD-032_bias.fit\n",
      "\n",
      "107 dark_190504_AD-033_bias.fit\n"
     ]
    },
    {
     "name": "stderr",
     "output_type": "stream",
     "text": [
      "GetHeadVal: Missing Configuration\n",
      "GetHeadVal: Missing Configuration\n",
      "GetHeadVal: Missing Configuration\n",
      "GetHeadVal: Missing Configuration\n"
     ]
    },
    {
     "name": "stdout",
     "output_type": "stream",
     "text": [
      "\n",
      "108 dark_190504_AD-034_bias.fit\n",
      "\n",
      "109 dark_190504_AD-035_bias.fit\n"
     ]
    },
    {
     "name": "stderr",
     "output_type": "stream",
     "text": [
      "GetHeadVal: Missing Configuration\n",
      "GetHeadVal: Missing Configuration\n",
      "GetHeadVal: Missing Configuration\n",
      "GetHeadVal: Missing Configuration\n"
     ]
    },
    {
     "name": "stdout",
     "output_type": "stream",
     "text": [
      "\n",
      "110 dark_190504_AD-036_bias.fit\n"
     ]
    },
    {
     "name": "stderr",
     "output_type": "stream",
     "text": [
      "GetHeadVal: Missing Configuration\n",
      "GetHeadVal: Missing Configuration\n"
     ]
    },
    {
     "name": "stdout",
     "output_type": "stream",
     "text": [
      "\n",
      "111 dark_190504_AD-037_bias.fit\n"
     ]
    },
    {
     "name": "stderr",
     "output_type": "stream",
     "text": [
      "GetHeadVal: Missing Configuration\n",
      "GetHeadVal: Missing Configuration\n"
     ]
    },
    {
     "name": "stdout",
     "output_type": "stream",
     "text": [
      "\n",
      "112 dark_190504_AD-038_bias.fit\n"
     ]
    },
    {
     "name": "stderr",
     "output_type": "stream",
     "text": [
      "GetHeadVal: Missing Configuration\n",
      "GetHeadVal: Missing Configuration\n"
     ]
    },
    {
     "name": "stdout",
     "output_type": "stream",
     "text": [
      "\n",
      "113 dark_190504_AD-039_bias.fit\n"
     ]
    },
    {
     "name": "stderr",
     "output_type": "stream",
     "text": [
      "GetHeadVal: Missing Configuration\n",
      "GetHeadVal: Missing Configuration\n"
     ]
    },
    {
     "name": "stdout",
     "output_type": "stream",
     "text": [
      "\n",
      "114 dark_190504_AD-040_bias.fit\n"
     ]
    },
    {
     "name": "stderr",
     "output_type": "stream",
     "text": [
      "GetHeadVal: Missing Configuration\n",
      "GetHeadVal: Missing Configuration\n"
     ]
    },
    {
     "name": "stdout",
     "output_type": "stream",
     "text": [
      "\n",
      "115 dark_190504_AD-041_bias.fit\n"
     ]
    },
    {
     "name": "stderr",
     "output_type": "stream",
     "text": [
      "GetHeadVal: Missing Configuration\n",
      "GetHeadVal: Missing Configuration\n"
     ]
    },
    {
     "name": "stdout",
     "output_type": "stream",
     "text": [
      "\n",
      "116 dark_190504_AD-042_bias.fit\n"
     ]
    },
    {
     "name": "stderr",
     "output_type": "stream",
     "text": [
      "GetHeadVal: Missing Configuration\n",
      "GetHeadVal: Missing Configuration\n"
     ]
    },
    {
     "name": "stdout",
     "output_type": "stream",
     "text": [
      "\n",
      "117 dark_190504_AD-043_bias.fit\n"
     ]
    },
    {
     "name": "stderr",
     "output_type": "stream",
     "text": [
      "GetHeadVal: Missing Configuration\n",
      "GetHeadVal: Missing Configuration\n"
     ]
    },
    {
     "name": "stdout",
     "output_type": "stream",
     "text": [
      "\n",
      "118 dark_190504_AD-044_bias.fit\n"
     ]
    },
    {
     "name": "stderr",
     "output_type": "stream",
     "text": [
      "GetHeadVal: Missing Configuration\n",
      "GetHeadVal: Missing Configuration\n"
     ]
    },
    {
     "name": "stdout",
     "output_type": "stream",
     "text": [
      "\n",
      "119 dark_190504_AD-045_bias.fit\n",
      "\n",
      "120 dark_190504_AD-046_bias.fit\n"
     ]
    },
    {
     "name": "stderr",
     "output_type": "stream",
     "text": [
      "GetHeadVal: Missing Configuration\n",
      "GetHeadVal: Missing Configuration\n",
      "GetHeadVal: Missing Configuration\n",
      "GetHeadVal: Missing Configuration\n"
     ]
    },
    {
     "name": "stdout",
     "output_type": "stream",
     "text": [
      "\n",
      "121 dark_190504_AD-047_bias.fit\n"
     ]
    },
    {
     "name": "stderr",
     "output_type": "stream",
     "text": [
      "GetHeadVal: Missing Configuration\n",
      "GetHeadVal: Missing Configuration\n"
     ]
    },
    {
     "name": "stdout",
     "output_type": "stream",
     "text": [
      "\n",
      "122 dark_190504_AD-048_bias.fit\n"
     ]
    },
    {
     "name": "stderr",
     "output_type": "stream",
     "text": [
      "GetHeadVal: Missing Configuration\n",
      "GetHeadVal: Missing Configuration\n"
     ]
    },
    {
     "name": "stdout",
     "output_type": "stream",
     "text": [
      "\n",
      "123 dark_190504_AD-049_bias.fit\n"
     ]
    },
    {
     "name": "stderr",
     "output_type": "stream",
     "text": [
      "GetHeadVal: Missing Configuration\n",
      "GetHeadVal: Missing Configuration\n"
     ]
    },
    {
     "name": "stdout",
     "output_type": "stream",
     "text": [
      "\n",
      "124 dark_190504_AD-050_bias.fit\n"
     ]
    },
    {
     "name": "stderr",
     "output_type": "stream",
     "text": [
      "GetHeadVal: Missing Configuration\n",
      "GetHeadVal: Missing Configuration\n"
     ]
    },
    {
     "name": "stdout",
     "output_type": "stream",
     "text": [
      "\n",
      "125 dark_190504_AD-051_bias.fit\n"
     ]
    },
    {
     "name": "stderr",
     "output_type": "stream",
     "text": [
      "GetHeadVal: Missing Configuration\n",
      "GetHeadVal: Missing Configuration\n"
     ]
    },
    {
     "name": "stdout",
     "output_type": "stream",
     "text": [
      "\n",
      "126 dark_190504_AD-052_bias.fit\n"
     ]
    },
    {
     "name": "stderr",
     "output_type": "stream",
     "text": [
      "GetHeadVal: Missing Configuration\n",
      "GetHeadVal: Missing Configuration\n"
     ]
    },
    {
     "name": "stdout",
     "output_type": "stream",
     "text": [
      "\n",
      "127 dark_190504_AD-053_bias.fit\n"
     ]
    },
    {
     "name": "stderr",
     "output_type": "stream",
     "text": [
      "GetHeadVal: Missing Configuration\n",
      "GetHeadVal: Missing Configuration\n"
     ]
    },
    {
     "name": "stdout",
     "output_type": "stream",
     "text": [
      "\n",
      "128 dark_190504_AD-054_bias.fit\n"
     ]
    },
    {
     "name": "stderr",
     "output_type": "stream",
     "text": [
      "GetHeadVal: Missing Configuration\n",
      "GetHeadVal: Missing Configuration\n"
     ]
    },
    {
     "name": "stdout",
     "output_type": "stream",
     "text": [
      "\n",
      "129 dark_190504_AD-055_bias.fit\n"
     ]
    },
    {
     "name": "stderr",
     "output_type": "stream",
     "text": [
      "GetHeadVal: Missing Configuration\n",
      "GetHeadVal: Missing Configuration\n"
     ]
    },
    {
     "name": "stdout",
     "output_type": "stream",
     "text": [
      "\n",
      "130 dark_190504_AD-056_bias.fit\n",
      "\n",
      "131 dark_190504_AD-057_bias.fit\n"
     ]
    },
    {
     "name": "stderr",
     "output_type": "stream",
     "text": [
      "GetHeadVal: Missing Configuration\n",
      "GetHeadVal: Missing Configuration\n",
      "GetHeadVal: Missing Configuration\n",
      "GetHeadVal: Missing Configuration\n"
     ]
    },
    {
     "name": "stdout",
     "output_type": "stream",
     "text": [
      "\n",
      "132 dark_190504_AD-058_bias.fit\n"
     ]
    },
    {
     "name": "stderr",
     "output_type": "stream",
     "text": [
      "GetHeadVal: Missing Configuration\n",
      "GetHeadVal: Missing Configuration\n"
     ]
    },
    {
     "name": "stdout",
     "output_type": "stream",
     "text": [
      "\n",
      "133 dark_190504_AD-059_bias.fit\n"
     ]
    },
    {
     "name": "stderr",
     "output_type": "stream",
     "text": [
      "GetHeadVal: Missing Configuration\n",
      "GetHeadVal: Missing Configuration\n"
     ]
    },
    {
     "name": "stdout",
     "output_type": "stream",
     "text": [
      "\n",
      "134 dark_190504_AD-060_bias.fit\n"
     ]
    },
    {
     "name": "stderr",
     "output_type": "stream",
     "text": [
      "GetHeadVal: Missing Configuration\n",
      "GetHeadVal: Missing Configuration\n"
     ]
    },
    {
     "name": "stdout",
     "output_type": "stream",
     "text": [
      "\n",
      "135 dark_190504_AD-061_bias.fit\n",
      "\n",
      "136 dark_190504_AD-062_bias.fit\n"
     ]
    },
    {
     "name": "stderr",
     "output_type": "stream",
     "text": [
      "GetHeadVal: Missing Configuration\n",
      "GetHeadVal: Missing Configuration\n",
      "GetHeadVal: Missing Configuration\n",
      "GetHeadVal: Missing Configuration\n",
      "GetHeadVal: Missing Configuration\n",
      "GetHeadVal: Missing Configuration\n"
     ]
    },
    {
     "name": "stdout",
     "output_type": "stream",
     "text": [
      "\n",
      "137 dark_190504_AD-063_bias.fit\n",
      "\n",
      "138 dark_190504_AD-064_bias.fit\n"
     ]
    },
    {
     "name": "stderr",
     "output_type": "stream",
     "text": [
      "GetHeadVal: Missing Configuration\n",
      "GetHeadVal: Missing Configuration\n"
     ]
    },
    {
     "name": "stdout",
     "output_type": "stream",
     "text": [
      "\n",
      "139 dark_190504_AD-065_bias.fit\n",
      "\n",
      "140 dark_190504_AD-066_bias.fit\n"
     ]
    },
    {
     "name": "stderr",
     "output_type": "stream",
     "text": [
      "GetHeadVal: Missing Configuration\n",
      "GetHeadVal: Missing Configuration\n",
      "GetHeadVal: Missing Configuration\n",
      "GetHeadVal: Missing Configuration\n"
     ]
    },
    {
     "name": "stdout",
     "output_type": "stream",
     "text": [
      "\n",
      "141 dark_190504_AD-067_bias.fit\n",
      "\n",
      "142 dark_190504_AD-068_bias.fit\n"
     ]
    },
    {
     "name": "stderr",
     "output_type": "stream",
     "text": [
      "GetHeadVal: Missing Configuration\n",
      "GetHeadVal: Missing Configuration\n",
      "GetHeadVal: Missing Configuration\n",
      "GetHeadVal: Missing Configuration\n"
     ]
    },
    {
     "name": "stdout",
     "output_type": "stream",
     "text": [
      "\n",
      "143 dark_190504_AD-069_bias.fit\n",
      "\n",
      "144 dark_190504_AD-070_bias.fit\n"
     ]
    },
    {
     "name": "stderr",
     "output_type": "stream",
     "text": [
      "GetHeadVal: Missing Configuration\n",
      "GetHeadVal: Missing Configuration\n",
      "GetHeadVal: Missing Configuration\n",
      "GetHeadVal: Missing Configuration\n"
     ]
    },
    {
     "name": "stdout",
     "output_type": "stream",
     "text": [
      "\n",
      "145 dark_190504_AD-071_bias.fit\n"
     ]
    },
    {
     "name": "stderr",
     "output_type": "stream",
     "text": [
      "GetHeadVal: Missing Configuration\n",
      "GetHeadVal: Missing Configuration\n",
      "GetHeadVal: Missing Configuration\n",
      "GetHeadVal: Missing Configuration\n"
     ]
    },
    {
     "name": "stdout",
     "output_type": "stream",
     "text": [
      "\n",
      "146 dark_190504_AD-072_bias.fit\n",
      "\n",
      "147 dark_190504_AD-073_bias.fit\n"
     ]
    },
    {
     "name": "stderr",
     "output_type": "stream",
     "text": [
      "GetHeadVal: Missing Configuration\n",
      "GetHeadVal: Missing Configuration\n"
     ]
    },
    {
     "name": "stdout",
     "output_type": "stream",
     "text": [
      "\n",
      "148 dark_190504_AD-074_bias.fit\n"
     ]
    },
    {
     "name": "stderr",
     "output_type": "stream",
     "text": [
      "GetHeadVal: Missing Configuration\n",
      "GetHeadVal: Missing Configuration\n"
     ]
    },
    {
     "name": "stdout",
     "output_type": "stream",
     "text": [
      "\n",
      "149 dark_190504_AD-075_bias.fit\n"
     ]
    },
    {
     "name": "stderr",
     "output_type": "stream",
     "text": [
      "GetHeadVal: Missing Configuration\n",
      "GetHeadVal: Missing Configuration\n"
     ]
    },
    {
     "name": "stdout",
     "output_type": "stream",
     "text": [
      "\n",
      "150 dark_190504_AD-076_bias.fit\n"
     ]
    },
    {
     "name": "stderr",
     "output_type": "stream",
     "text": [
      "GetHeadVal: Missing Configuration\n",
      "GetHeadVal: Missing Configuration\n"
     ]
    },
    {
     "name": "stdout",
     "output_type": "stream",
     "text": [
      "\n",
      "151 dark_190504_AD-077_bias.fit\n"
     ]
    },
    {
     "name": "stderr",
     "output_type": "stream",
     "text": [
      "GetHeadVal: Missing Configuration\n",
      "GetHeadVal: Missing Configuration\n"
     ]
    },
    {
     "name": "stdout",
     "output_type": "stream",
     "text": [
      "\n",
      "152 dark_190504_AD-078_bias.fit\n"
     ]
    },
    {
     "name": "stderr",
     "output_type": "stream",
     "text": [
      "GetHeadVal: Missing Configuration\n",
      "GetHeadVal: Missing Configuration\n"
     ]
    },
    {
     "name": "stdout",
     "output_type": "stream",
     "text": [
      "\n",
      "153 dark_190504_AD-079_bias.fit\n",
      "\n",
      "154 dark_190504_AD-080_bias.fit\n"
     ]
    },
    {
     "name": "stderr",
     "output_type": "stream",
     "text": [
      "GetHeadVal: Missing Configuration\n",
      "GetHeadVal: Missing Configuration\n",
      "GetHeadVal: Missing Configuration\n",
      "GetHeadVal: Missing Configuration\n"
     ]
    },
    {
     "name": "stdout",
     "output_type": "stream",
     "text": [
      "\n",
      "155 dark_190504_AD-081_bias.fit\n",
      "\n",
      "156 dark_190504_AD-082_bias.fit\n"
     ]
    },
    {
     "name": "stderr",
     "output_type": "stream",
     "text": [
      "GetHeadVal: Missing Configuration\n",
      "GetHeadVal: Missing Configuration\n",
      "GetHeadVal: Missing Configuration\n",
      "GetHeadVal: Missing Configuration\n"
     ]
    },
    {
     "name": "stdout",
     "output_type": "stream",
     "text": [
      "\n",
      "157 dark_190504_AD-083_bias.fit\n",
      "\n",
      "158 dark_190504_AD-084_bias.fit\n"
     ]
    },
    {
     "name": "stderr",
     "output_type": "stream",
     "text": [
      "GetHeadVal: Missing Configuration\n",
      "GetHeadVal: Missing Configuration\n",
      "GetHeadVal: Missing Configuration\n",
      "GetHeadVal: Missing Configuration\n"
     ]
    },
    {
     "name": "stdout",
     "output_type": "stream",
     "text": [
      "\n",
      "159 dark_190504_AD-085_bias.fit\n"
     ]
    },
    {
     "name": "stderr",
     "output_type": "stream",
     "text": [
      "GetHeadVal: Missing Configuration\n",
      "GetHeadVal: Missing Configuration\n"
     ]
    },
    {
     "name": "stdout",
     "output_type": "stream",
     "text": [
      "\n",
      "160 dark_190504_AD-086_bias.fit\n"
     ]
    },
    {
     "name": "stderr",
     "output_type": "stream",
     "text": [
      "GetHeadVal: Missing Configuration\n",
      "GetHeadVal: Missing Configuration\n"
     ]
    },
    {
     "name": "stdout",
     "output_type": "stream",
     "text": [
      "\n",
      "161 dark_190504_AD-087_bias.fit\n"
     ]
    },
    {
     "name": "stderr",
     "output_type": "stream",
     "text": [
      "GetHeadVal: Missing Configuration\n",
      "GetHeadVal: Missing Configuration\n"
     ]
    },
    {
     "name": "stdout",
     "output_type": "stream",
     "text": [
      "\n",
      "162 dark_190504_AD-088_bias.fit\n"
     ]
    },
    {
     "name": "stderr",
     "output_type": "stream",
     "text": [
      "GetHeadVal: Missing Configuration\n",
      "GetHeadVal: Missing Configuration\n"
     ]
    },
    {
     "name": "stdout",
     "output_type": "stream",
     "text": [
      "\n",
      "163 dark_190504_AD-089_bias.fit\n"
     ]
    },
    {
     "name": "stderr",
     "output_type": "stream",
     "text": [
      "GetHeadVal: Missing Configuration\n",
      "GetHeadVal: Missing Configuration\n"
     ]
    },
    {
     "name": "stdout",
     "output_type": "stream",
     "text": [
      "\n",
      "164 dark_190504_AD-090_bias.fit\n"
     ]
    },
    {
     "name": "stderr",
     "output_type": "stream",
     "text": [
      "GetHeadVal: Missing Configuration\n",
      "GetHeadVal: Missing Configuration\n"
     ]
    },
    {
     "name": "stdout",
     "output_type": "stream",
     "text": [
      "\n",
      "165 dark_190504_AD-091_bias.fit\n"
     ]
    },
    {
     "name": "stderr",
     "output_type": "stream",
     "text": [
      "GetHeadVal: Missing Configuration\n",
      "GetHeadVal: Missing Configuration\n"
     ]
    },
    {
     "name": "stdout",
     "output_type": "stream",
     "text": [
      "\n",
      "166 dark_190504_AD-092_bias.fit\n",
      "\n",
      "167 dark_190504_AD-093_bias.fit\n"
     ]
    },
    {
     "name": "stderr",
     "output_type": "stream",
     "text": [
      "GetHeadVal: Missing Configuration\n",
      "GetHeadVal: Missing Configuration\n",
      "GetHeadVal: Missing Configuration\n",
      "GetHeadVal: Missing Configuration\n"
     ]
    },
    {
     "name": "stdout",
     "output_type": "stream",
     "text": [
      "\n",
      "168 dark_190504_AD-094_bias.fit\n"
     ]
    },
    {
     "name": "stderr",
     "output_type": "stream",
     "text": [
      "GetHeadVal: Missing Configuration\n",
      "GetHeadVal: Missing Configuration\n"
     ]
    },
    {
     "name": "stdout",
     "output_type": "stream",
     "text": [
      "\n",
      "169 dark_190504_AD-095_bias.fit\n"
     ]
    },
    {
     "name": "stderr",
     "output_type": "stream",
     "text": [
      "GetHeadVal: Missing Configuration\n",
      "GetHeadVal: Missing Configuration\n"
     ]
    },
    {
     "name": "stdout",
     "output_type": "stream",
     "text": [
      "\n",
      "170 dark_190504_AD-096_bias.fit\n",
      "\n",
      "171 "
     ]
    },
    {
     "name": "stderr",
     "output_type": "stream",
     "text": [
      "GetHeadVal: Missing Configuration\n",
      "GetHeadVal: Missing Configuration\n",
      "GetHeadVal: Missing Configuration\n",
      "GetHeadVal: Missing Configuration\n"
     ]
    },
    {
     "name": "stdout",
     "output_type": "stream",
     "text": [
      "dark_190504_AD-098_bias.fit\n",
      "\n",
      "172 dark_190504_AD-099_bias.fit\n"
     ]
    },
    {
     "name": "stderr",
     "output_type": "stream",
     "text": [
      "GetHeadVal: Missing Configuration\n",
      "GetHeadVal: Missing Configuration\n"
     ]
    },
    {
     "name": "stdout",
     "output_type": "stream",
     "text": [
      "\n",
      "173 dark_190504_AD-100_bias.fit\n"
     ]
    },
    {
     "name": "stderr",
     "output_type": "stream",
     "text": [
      "GetHeadVal: Missing Configuration\n",
      "GetHeadVal: Missing Configuration\n"
     ]
    },
    {
     "name": "stdout",
     "output_type": "stream",
     "text": [
      "\n",
      "174 dark_190504_AD-101_bias.fit\n"
     ]
    },
    {
     "name": "stderr",
     "output_type": "stream",
     "text": [
      "GetHeadVal: Missing Configuration\n",
      "GetHeadVal: Missing Configuration\n"
     ]
    },
    {
     "name": "stdout",
     "output_type": "stream",
     "text": [
      "\n",
      "175 dark_190504_AD-102_bias.fit\n",
      "\n",
      "176 dark_190504_AD-103_bias.fit\n"
     ]
    },
    {
     "name": "stderr",
     "output_type": "stream",
     "text": [
      "GetHeadVal: Missing Configuration\n",
      "GetHeadVal: Missing Configuration\n",
      "GetHeadVal: Missing Configuration\n",
      "GetHeadVal: Missing Configuration\n"
     ]
    },
    {
     "name": "stdout",
     "output_type": "stream",
     "text": [
      "\n",
      "177 dark_190504_AD-104_bias.fit\n"
     ]
    },
    {
     "name": "stderr",
     "output_type": "stream",
     "text": [
      "GetHeadVal: Missing Configuration\n",
      "GetHeadVal: Missing Configuration\n"
     ]
    },
    {
     "name": "stdout",
     "output_type": "stream",
     "text": [
      "\n",
      "178 dark_190504_AD-105_bias.fit\n",
      "\n",
      "179 dark_190504_AD-106_bias.fit\n"
     ]
    },
    {
     "name": "stderr",
     "output_type": "stream",
     "text": [
      "GetHeadVal: Missing Configuration\n",
      "GetHeadVal: Missing Configuration\n",
      "GetHeadVal: Missing Configuration\n",
      "GetHeadVal: Missing Configuration\n"
     ]
    },
    {
     "name": "stdout",
     "output_type": "stream",
     "text": [
      "\n",
      "180 dark_190504_AD-107_bias.fit\n"
     ]
    },
    {
     "name": "stderr",
     "output_type": "stream",
     "text": [
      "GetHeadVal: Missing Configuration\n",
      "GetHeadVal: Missing Configuration\n"
     ]
    },
    {
     "name": "stdout",
     "output_type": "stream",
     "text": [
      "\n",
      "181 dark_190504_AD-108_bias.fit\n"
     ]
    },
    {
     "name": "stderr",
     "output_type": "stream",
     "text": [
      "GetHeadVal: Missing Configuration\n",
      "GetHeadVal: Missing Configuration\n"
     ]
    },
    {
     "name": "stdout",
     "output_type": "stream",
     "text": [
      "\n",
      "182 dark_190504_AD-109_bias.fit\n",
      "\n",
      "183 dark_190504_AD-110_bias.fit\n"
     ]
    },
    {
     "name": "stderr",
     "output_type": "stream",
     "text": [
      "GetHeadVal: Missing Configuration\n",
      "GetHeadVal: Missing Configuration\n",
      "GetHeadVal: Missing Configuration\n",
      "GetHeadVal: Missing Configuration\n",
      "GetHeadVal: Missing Configuration\n",
      "GetHeadVal: Missing Configuration\n"
     ]
    },
    {
     "name": "stdout",
     "output_type": "stream",
     "text": [
      "\n",
      "184 dark_190504_AD-111_bias.fit\n",
      "\n",
      "185 dark_190504_AD-112_bias.fit\n"
     ]
    },
    {
     "name": "stderr",
     "output_type": "stream",
     "text": [
      "GetHeadVal: Missing Configuration\n",
      "GetHeadVal: Missing Configuration\n"
     ]
    },
    {
     "name": "stdout",
     "output_type": "stream",
     "text": [
      "\n",
      "186 dark_190504_AD-113_bias.fit\n",
      "\n",
      "187 dark_190504_AD-114_bias.fit\n"
     ]
    },
    {
     "name": "stderr",
     "output_type": "stream",
     "text": [
      "GetHeadVal: Missing Configuration\n",
      "GetHeadVal: Missing Configuration\n",
      "GetHeadVal: Missing Configuration\n",
      "GetHeadVal: Missing Configuration\n"
     ]
    },
    {
     "name": "stdout",
     "output_type": "stream",
     "text": [
      "\n",
      "188 dark_190504_AD-115_bias.fit\n"
     ]
    },
    {
     "name": "stderr",
     "output_type": "stream",
     "text": [
      "GetHeadVal: Missing Configuration\n",
      "GetHeadVal: Missing Configuration\n"
     ]
    },
    {
     "name": "stdout",
     "output_type": "stream",
     "text": [
      "\n",
      "189 dark_190504_AD-116_bias.fit\n"
     ]
    },
    {
     "name": "stderr",
     "output_type": "stream",
     "text": [
      "GetHeadVal: Missing Configuration\n",
      "GetHeadVal: Missing Configuration\n",
      "GetHeadVal: Missing Configuration\n"
     ]
    },
    {
     "name": "stdout",
     "output_type": "stream",
     "text": [
      "\n",
      "190 dark_190504_AD-117_bias.fit\n",
      "\n",
      "191 dark_190504_AD-118_bias.fit\n"
     ]
    },
    {
     "name": "stderr",
     "output_type": "stream",
     "text": [
      "GetHeadVal: Missing Configuration\n",
      "GetHeadVal: Missing Configuration\n",
      "GetHeadVal: Missing Configuration\n"
     ]
    },
    {
     "name": "stdout",
     "output_type": "stream",
     "text": [
      "\n",
      "192 dark_190504_AD-119_bias.fit\n"
     ]
    },
    {
     "name": "stderr",
     "output_type": "stream",
     "text": [
      "GetHeadVal: Missing Configuration\n",
      "GetHeadVal: Missing Configuration\n"
     ]
    },
    {
     "name": "stdout",
     "output_type": "stream",
     "text": [
      "\n",
      "193 dark_190504_AD-120_bias.fit\n"
     ]
    },
    {
     "name": "stderr",
     "output_type": "stream",
     "text": [
      "GetHeadVal: Missing Configuration\n",
      "GetHeadVal: Missing Configuration\n"
     ]
    },
    {
     "name": "stdout",
     "output_type": "stream",
     "text": [
      "\n",
      "194 dark_190504_AD-121_bias.fit\n",
      "\n"
     ]
    },
    {
     "name": "stderr",
     "output_type": "stream",
     "text": [
      "GetHeadVal: Missing Configuration\n",
      "GetHeadVal: Missing Configuration\n",
      "GetHeadVal: Missing Configuration\n",
      "GetHeadVal: Missing Configuration\n"
     ]
    },
    {
     "name": "stdout",
     "output_type": "stream",
     "text": [
      "195 dark_190504_AD-122_bias.fit\n",
      "\n",
      "196 dark_190504_AD-123_bias.fit\n"
     ]
    },
    {
     "name": "stderr",
     "output_type": "stream",
     "text": [
      "GetHeadVal: Missing Configuration\n",
      "GetHeadVal: Missing Configuration\n",
      "GetHeadVal: Missing Configuration\n"
     ]
    },
    {
     "name": "stdout",
     "output_type": "stream",
     "text": [
      "\n",
      "197 dark_190504_AD-124_bias.fit\n",
      "\n",
      "198 dark_190504_AD-125_bias.fit\n"
     ]
    },
    {
     "name": "stderr",
     "output_type": "stream",
     "text": [
      "GetHeadVal: Missing Configuration\n",
      "GetHeadVal: Missing Configuration\n",
      "GetHeadVal: Missing Configuration\n",
      "GetHeadVal: Missing Configuration\n"
     ]
    },
    {
     "name": "stdout",
     "output_type": "stream",
     "text": [
      "\n",
      "199 dark_190504_AD-126_bias.fit\n",
      "\n",
      "200 dark_190504_AD-127_bias.fit\n"
     ]
    },
    {
     "name": "stderr",
     "output_type": "stream",
     "text": [
      "GetHeadVal: Missing Configuration\n",
      "GetHeadVal: Missing Configuration\n",
      "GetHeadVal: Missing Configuration\n",
      "GetHeadVal: Missing Configuration\n",
      "GetHeadVal: Missing Configuration\n"
     ]
    },
    {
     "name": "stdout",
     "output_type": "stream",
     "text": [
      "\n",
      "201 dark_190504_AD-128_bias.fit\n",
      "\n",
      "202 dark_190504_AD-129_bias.fit\n"
     ]
    },
    {
     "name": "stderr",
     "output_type": "stream",
     "text": [
      "GetHeadVal: Missing Configuration\n",
      "GetHeadVal: Missing Configuration\n",
      "GetHeadVal: Missing Configuration\n",
      "GetHeadVal: Missing Configuration\n"
     ]
    },
    {
     "name": "stdout",
     "output_type": "stream",
     "text": [
      "\n",
      "203 dark_190504_AD-130_bias.fit\n",
      "\n",
      "204 dark_190504_AD-131_bias.fit\n"
     ]
    },
    {
     "name": "stderr",
     "output_type": "stream",
     "text": [
      "GetHeadVal: Missing Configuration\n",
      "GetHeadVal: Missing Configuration\n",
      "GetHeadVal: Missing Configuration\n"
     ]
    },
    {
     "name": "stdout",
     "output_type": "stream",
     "text": [
      "\n",
      "205 dark_190504_AD-132_bias.fit\n",
      "\n",
      "206 dark_190504_AD-133_bias.fit\n"
     ]
    },
    {
     "name": "stderr",
     "output_type": "stream",
     "text": [
      "GetHeadVal: Missing Configuration\n",
      "GetHeadVal: Missing Configuration\n",
      "GetHeadVal: Missing Configuration\n"
     ]
    },
    {
     "name": "stdout",
     "output_type": "stream",
     "text": [
      "\n",
      "207 dark_190504_AD-134_bias.fit\n",
      "\n",
      "208 dark_190504_AD-135_bias.fit\n"
     ]
    },
    {
     "name": "stderr",
     "output_type": "stream",
     "text": [
      "GetHeadVal: Missing Configuration\n",
      "GetHeadVal: Missing Configuration\n",
      "GetHeadVal: Missing Configuration\n",
      "GetHeadVal: Missing Configuration\n"
     ]
    },
    {
     "name": "stdout",
     "output_type": "stream",
     "text": [
      "\n",
      "209 dark_190504_AD-136_bias.fit\n"
     ]
    },
    {
     "name": "stderr",
     "output_type": "stream",
     "text": [
      "GetHeadVal: Missing Configuration\n",
      "GetHeadVal: Missing Configuration\n"
     ]
    },
    {
     "name": "stdout",
     "output_type": "stream",
     "text": [
      "\n",
      "210 dark_190504_AD-137_bias.fit\n"
     ]
    },
    {
     "name": "stderr",
     "output_type": "stream",
     "text": [
      "GetHeadVal: Missing Configuration\n",
      "GetHeadVal: Missing Configuration\n"
     ]
    },
    {
     "name": "stdout",
     "output_type": "stream",
     "text": [
      "\n",
      "211 dark_190504_AD-138_bias.fit\n"
     ]
    },
    {
     "name": "stderr",
     "output_type": "stream",
     "text": [
      "GetHeadVal: Missing Configuration\n",
      "GetHeadVal: Missing Configuration\n"
     ]
    },
    {
     "name": "stdout",
     "output_type": "stream",
     "text": [
      "\n",
      "212 dark_190504_AD-139_bias.fit\n"
     ]
    },
    {
     "name": "stderr",
     "output_type": "stream",
     "text": [
      "GetHeadVal: Missing Configuration\n",
      "GetHeadVal: Missing Configuration\n"
     ]
    },
    {
     "name": "stdout",
     "output_type": "stream",
     "text": [
      "\n",
      "213 dark_190504_AD-140_bias.fit\n"
     ]
    },
    {
     "name": "stderr",
     "output_type": "stream",
     "text": [
      "GetHeadVal: Missing Configuration\n",
      "GetHeadVal: Missing Configuration\n"
     ]
    },
    {
     "name": "stdout",
     "output_type": "stream",
     "text": [
      "\n",
      "214 dark_190504_AD-141_bias.fit\n"
     ]
    },
    {
     "name": "stderr",
     "output_type": "stream",
     "text": [
      "GetHeadVal: Missing Configuration\n",
      "GetHeadVal: Missing Configuration\n"
     ]
    },
    {
     "name": "stdout",
     "output_type": "stream",
     "text": [
      "\n",
      "215 dark_190504_AD-142_bias.fit\n"
     ]
    },
    {
     "name": "stderr",
     "output_type": "stream",
     "text": [
      "GetHeadVal: Missing Configuration\n",
      "GetHeadVal: Missing Configuration\n"
     ]
    },
    {
     "name": "stdout",
     "output_type": "stream",
     "text": [
      "\n",
      "216 dark_190504_AD-143_bias.fit\n"
     ]
    },
    {
     "name": "stderr",
     "output_type": "stream",
     "text": [
      "GetHeadVal: Missing Configuration\n",
      "GetHeadVal: Missing Configuration\n"
     ]
    },
    {
     "name": "stdout",
     "output_type": "stream",
     "text": [
      "\n",
      "217 dark_190504_AD-144_bias.fit\n"
     ]
    },
    {
     "name": "stderr",
     "output_type": "stream",
     "text": [
      "GetHeadVal: Missing Configuration\n",
      "GetHeadVal: Missing Configuration\n"
     ]
    },
    {
     "name": "stdout",
     "output_type": "stream",
     "text": [
      "\n",
      "218 dark_190504_AD-145_bias.fit\n"
     ]
    },
    {
     "name": "stderr",
     "output_type": "stream",
     "text": [
      "GetHeadVal: Missing Configuration\n",
      "GetHeadVal: Missing Configuration\n"
     ]
    },
    {
     "name": "stdout",
     "output_type": "stream",
     "text": [
      "\n",
      "219 dark_190504_AD-146_bias.fit\n"
     ]
    },
    {
     "name": "stderr",
     "output_type": "stream",
     "text": [
      "GetHeadVal: Missing Configuration\n",
      "GetHeadVal: Missing Configuration\n"
     ]
    },
    {
     "name": "stdout",
     "output_type": "stream",
     "text": [
      "\n",
      "220 dark_190504_AD-147_bias.fit\n"
     ]
    },
    {
     "name": "stderr",
     "output_type": "stream",
     "text": [
      "GetHeadVal: Missing Configuration\n",
      "GetHeadVal: Missing Configuration\n"
     ]
    },
    {
     "name": "stdout",
     "output_type": "stream",
     "text": [
      "\n",
      "221 dark_190504_AD-148_bias.fit\n"
     ]
    },
    {
     "name": "stderr",
     "output_type": "stream",
     "text": [
      "GetHeadVal: Missing Configuration\n",
      "GetHeadVal: Missing Configuration\n"
     ]
    },
    {
     "name": "stdout",
     "output_type": "stream",
     "text": [
      "\n",
      "222 dark_190504_AD-149_bias.fit\n",
      "\n",
      "223 dark_190504_AD-150_bias.fit\n"
     ]
    },
    {
     "name": "stderr",
     "output_type": "stream",
     "text": [
      "GetHeadVal: Missing Configuration\n",
      "GetHeadVal: Missing Configuration\n",
      "GetHeadVal: Missing Configuration\n",
      "GetHeadVal: Missing Configuration\n"
     ]
    },
    {
     "name": "stdout",
     "output_type": "stream",
     "text": [
      "\n",
      "224 dark_190504_AD-151_bias.fit\n",
      "\n",
      "225 dark_190504_AD-152_bias.fit\n"
     ]
    },
    {
     "name": "stderr",
     "output_type": "stream",
     "text": [
      "GetHeadVal: Missing Configuration\n",
      "GetHeadVal: Missing Configuration\n",
      "GetHeadVal: Missing Configuration\n",
      "GetHeadVal: Missing Configuration\n"
     ]
    },
    {
     "name": "stdout",
     "output_type": "stream",
     "text": [
      "\n",
      "226 dark_190504_AD-153_bias.fit\n"
     ]
    },
    {
     "name": "stderr",
     "output_type": "stream",
     "text": [
      "GetHeadVal: Missing Configuration\n",
      "GetHeadVal: Missing Configuration\n"
     ]
    },
    {
     "name": "stdout",
     "output_type": "stream",
     "text": [
      "\n",
      "227 dark_190504_AD-154_bias.fit\n"
     ]
    },
    {
     "name": "stderr",
     "output_type": "stream",
     "text": [
      "GetHeadVal: Missing Configuration\n",
      "GetHeadVal: Missing Configuration\n"
     ]
    },
    {
     "name": "stdout",
     "output_type": "stream",
     "text": [
      "\n",
      "228 dark_190504_AD-155_bias.fit\n"
     ]
    },
    {
     "name": "stderr",
     "output_type": "stream",
     "text": [
      "GetHeadVal: Missing Configuration\n",
      "GetHeadVal: Missing Configuration\n"
     ]
    },
    {
     "name": "stdout",
     "output_type": "stream",
     "text": [
      "\n",
      "229 dark_190504_AD-156_bias.fit\n"
     ]
    },
    {
     "name": "stderr",
     "output_type": "stream",
     "text": [
      "GetHeadVal: Missing Configuration\n",
      "GetHeadVal: Missing Configuration\n"
     ]
    },
    {
     "name": "stdout",
     "output_type": "stream",
     "text": [
      "\n",
      "230 dark_190504_AD-157_bias.fit\n",
      "\n",
      "231 dark_190504_AD-158_bias.fit\n"
     ]
    },
    {
     "name": "stderr",
     "output_type": "stream",
     "text": [
      "GetHeadVal: Missing Configuration\n",
      "GetHeadVal: Missing Configuration\n",
      "GetHeadVal: Missing Configuration\n",
      "GetHeadVal: Missing Configuration\n"
     ]
    },
    {
     "name": "stdout",
     "output_type": "stream",
     "text": [
      "\n",
      "232 dark_190504_AD-159_bias.fit\n"
     ]
    },
    {
     "name": "stderr",
     "output_type": "stream",
     "text": [
      "GetHeadVal: Missing Configuration\n",
      "GetHeadVal: Missing Configuration\n"
     ]
    },
    {
     "name": "stdout",
     "output_type": "stream",
     "text": [
      "\n",
      "233 dark_190504_AD-160_bias.fit\n"
     ]
    },
    {
     "name": "stderr",
     "output_type": "stream",
     "text": [
      "GetHeadVal: Missing Configuration\n",
      "GetHeadVal: Missing Configuration\n"
     ]
    },
    {
     "name": "stdout",
     "output_type": "stream",
     "text": [
      "\n",
      "234 dark_190504_AD-161_bias.fit\n"
     ]
    },
    {
     "name": "stderr",
     "output_type": "stream",
     "text": [
      "GetHeadVal: Missing Configuration\n",
      "GetHeadVal: Missing Configuration\n"
     ]
    },
    {
     "name": "stdout",
     "output_type": "stream",
     "text": [
      "\n",
      "235 dark_190504_AD-162_bias.fit\n",
      "\n",
      "236 "
     ]
    },
    {
     "name": "stderr",
     "output_type": "stream",
     "text": [
      "GetHeadVal: Missing Configuration\n",
      "GetHeadVal: Missing Configuration\n",
      "GetHeadVal: Missing Configuration\n",
      "GetHeadVal: Missing Configuration\n"
     ]
    },
    {
     "name": "stdout",
     "output_type": "stream",
     "text": [
      "dark_190504_AD-163_bias.fit\n",
      "\n",
      "237 dark_190504_AD-164_bias.fit\n"
     ]
    },
    {
     "name": "stderr",
     "output_type": "stream",
     "text": [
      "GetHeadVal: Missing Configuration\n",
      "GetHeadVal: Missing Configuration\n"
     ]
    },
    {
     "name": "stdout",
     "output_type": "stream",
     "text": [
      "\n",
      "238 dark_190504_AD-165_bias.fit\n"
     ]
    },
    {
     "name": "stderr",
     "output_type": "stream",
     "text": [
      "GetHeadVal: Missing Configuration\n",
      "GetHeadVal: Missing Configuration\n"
     ]
    },
    {
     "name": "stdout",
     "output_type": "stream",
     "text": [
      "\n",
      "239 dark_190504_AD-166_bias.fit\n"
     ]
    },
    {
     "name": "stderr",
     "output_type": "stream",
     "text": [
      "GetHeadVal: Missing Configuration\n",
      "GetHeadVal: Missing Configuration\n"
     ]
    },
    {
     "name": "stdout",
     "output_type": "stream",
     "text": [
      "\n",
      "240 dark_190504_AD-167_bias.fit\n"
     ]
    },
    {
     "name": "stderr",
     "output_type": "stream",
     "text": [
      "GetHeadVal: Missing Configuration\n",
      "GetHeadVal: Missing Configuration\n",
      "GetHeadVal: Missing Configuration\n"
     ]
    },
    {
     "name": "stdout",
     "output_type": "stream",
     "text": [
      "\n",
      "241 dark_190504_AD-168_bias.fit\n",
      "\n",
      "242 dark_190504_AD-169_bias.fit\n"
     ]
    },
    {
     "name": "stderr",
     "output_type": "stream",
     "text": [
      "GetHeadVal: Missing Configuration\n",
      "GetHeadVal: Missing Configuration\n",
      "GetHeadVal: Missing Configuration\n"
     ]
    },
    {
     "name": "stdout",
     "output_type": "stream",
     "text": [
      "\n",
      "243 dark_190504_AD-170_bias.fit\n"
     ]
    },
    {
     "name": "stderr",
     "output_type": "stream",
     "text": [
      "GetHeadVal: Missing Configuration\n",
      "GetHeadVal: Missing Configuration\n"
     ]
    },
    {
     "name": "stdout",
     "output_type": "stream",
     "text": [
      "\n",
      "244 dark_190504_AD-171_bias.fit\n"
     ]
    },
    {
     "name": "stderr",
     "output_type": "stream",
     "text": [
      "GetHeadVal: Missing Configuration\n",
      "GetHeadVal: Missing Configuration\n"
     ]
    },
    {
     "name": "stdout",
     "output_type": "stream",
     "text": [
      "\n",
      "245 dark_190504_AD-172_bias.fit\n"
     ]
    },
    {
     "name": "stderr",
     "output_type": "stream",
     "text": [
      "GetHeadVal: Missing Configuration\n",
      "GetHeadVal: Missing Configuration\n"
     ]
    },
    {
     "name": "stdout",
     "output_type": "stream",
     "text": [
      "\n",
      "246 dark_190504_AD-173_bias.fit\n"
     ]
    },
    {
     "name": "stderr",
     "output_type": "stream",
     "text": [
      "GetHeadVal: Missing Configuration\n",
      "GetHeadVal: Missing Configuration\n"
     ]
    },
    {
     "name": "stdout",
     "output_type": "stream",
     "text": [
      "\n",
      "247 dark_190504_AD-174_bias.fit\n"
     ]
    },
    {
     "name": "stderr",
     "output_type": "stream",
     "text": [
      "GetHeadVal: Missing Configuration\n",
      "GetHeadVal: Missing Configuration\n"
     ]
    },
    {
     "name": "stdout",
     "output_type": "stream",
     "text": [
      "\n",
      "248 dark_190504_AD-175_bias.fit\n"
     ]
    },
    {
     "name": "stderr",
     "output_type": "stream",
     "text": [
      "GetHeadVal: Missing Configuration\n",
      "GetHeadVal: Missing Configuration\n"
     ]
    },
    {
     "name": "stdout",
     "output_type": "stream",
     "text": [
      "\n",
      "249 dark_190504_AD-176_bias.fit\n",
      "\n",
      "250 dark_190504_AD-177_bias.fit\n"
     ]
    },
    {
     "name": "stderr",
     "output_type": "stream",
     "text": [
      "GetHeadVal: Missing Configuration\n",
      "GetHeadVal: Missing Configuration\n",
      "GetHeadVal: Missing Configuration\n",
      "GetHeadVal: Missing Configuration\n"
     ]
    },
    {
     "name": "stdout",
     "output_type": "stream",
     "text": [
      "\n",
      "251 dark_190504_AD-178_bias.fit\n"
     ]
    },
    {
     "name": "stderr",
     "output_type": "stream",
     "text": [
      "GetHeadVal: Missing Configuration\n",
      "GetHeadVal: Missing Configuration\n"
     ]
    },
    {
     "name": "stdout",
     "output_type": "stream",
     "text": [
      "\n",
      "252 dark_190504_AD-179_bias.fit\n"
     ]
    },
    {
     "name": "stderr",
     "output_type": "stream",
     "text": [
      "GetHeadVal: Missing Configuration\n",
      "GetHeadVal: Missing Configuration\n"
     ]
    },
    {
     "name": "stdout",
     "output_type": "stream",
     "text": [
      "\n",
      "253 dark_190504_AD-180_bias.fit\n",
      "\n",
      "254 dark_190504_AD-181_bias.fit\n"
     ]
    },
    {
     "name": "stderr",
     "output_type": "stream",
     "text": [
      "GetHeadVal: Missing Configuration\n",
      "GetHeadVal: Missing Configuration\n",
      "GetHeadVal: Missing Configuration\n",
      "GetHeadVal: Missing Configuration\n"
     ]
    },
    {
     "name": "stdout",
     "output_type": "stream",
     "text": [
      "\n",
      "255 dark_190504_AD-182_bias.fit\n",
      "\n",
      "256 dark_190504_AD-183_bias.fit\n"
     ]
    },
    {
     "name": "stderr",
     "output_type": "stream",
     "text": [
      "GetHeadVal: Missing Configuration\n",
      "GetHeadVal: Missing Configuration\n",
      "GetHeadVal: Missing Configuration\n",
      "GetHeadVal: Missing Configuration\n"
     ]
    },
    {
     "name": "stdout",
     "output_type": "stream",
     "text": [
      "\n",
      "257 dark_190504_AD-184_bias.fit\n"
     ]
    },
    {
     "name": "stderr",
     "output_type": "stream",
     "text": [
      "GetHeadVal: Missing Configuration\n",
      "GetHeadVal: Missing Configuration\n"
     ]
    },
    {
     "name": "stdout",
     "output_type": "stream",
     "text": [
      "\n",
      "258 dark_190504_AD-185_bias.fit\n"
     ]
    },
    {
     "name": "stderr",
     "output_type": "stream",
     "text": [
      "GetHeadVal: Missing Configuration\n",
      "GetHeadVal: Missing Configuration\n"
     ]
    },
    {
     "name": "stdout",
     "output_type": "stream",
     "text": [
      "\n",
      "259 dark_190504_AD-186_bias.fit\n"
     ]
    },
    {
     "name": "stderr",
     "output_type": "stream",
     "text": [
      "GetHeadVal: Missing Configuration\n",
      "GetHeadVal: Missing Configuration\n"
     ]
    },
    {
     "name": "stdout",
     "output_type": "stream",
     "text": [
      "\n",
      "260 dark_190504_AD-187_bias.fit\n"
     ]
    },
    {
     "name": "stderr",
     "output_type": "stream",
     "text": [
      "GetHeadVal: Missing Configuration\n",
      "GetHeadVal: Missing Configuration\n"
     ]
    },
    {
     "name": "stdout",
     "output_type": "stream",
     "text": [
      "\n",
      "261 dark_190504_AD-188_bias.fit\n"
     ]
    },
    {
     "name": "stderr",
     "output_type": "stream",
     "text": [
      "GetHeadVal: Missing Configuration\n",
      "GetHeadVal: Missing Configuration\n"
     ]
    },
    {
     "name": "stdout",
     "output_type": "stream",
     "text": [
      "\n",
      "262 dark_190504_AD-189_bias.fit\n",
      "\n",
      "263 dark_190504_AD-190_bias.fit\n"
     ]
    },
    {
     "name": "stderr",
     "output_type": "stream",
     "text": [
      "GetHeadVal: Missing Configuration\n",
      "GetHeadVal: Missing Configuration\n",
      "GetHeadVal: Missing Configuration\n",
      "GetHeadVal: Missing Configuration\n"
     ]
    },
    {
     "name": "stdout",
     "output_type": "stream",
     "text": [
      "\n",
      "264 dark_190504_AD-191_bias.fit\n",
      "\n",
      "265 dark_190504_AD-192_bias.fit\n"
     ]
    },
    {
     "name": "stderr",
     "output_type": "stream",
     "text": [
      "GetHeadVal: Missing Configuration\n",
      "GetHeadVal: Missing Configuration\n",
      "GetHeadVal: Missing Configuration\n",
      "GetHeadVal: Missing Configuration\n"
     ]
    },
    {
     "name": "stdout",
     "output_type": "stream",
     "text": [
      "\n",
      "266 dark_190504_AD-193_bias.fit\n"
     ]
    },
    {
     "name": "stderr",
     "output_type": "stream",
     "text": [
      "GetHeadVal: Missing Configuration\n",
      "GetHeadVal: Missing Configuration\n"
     ]
    },
    {
     "name": "stdout",
     "output_type": "stream",
     "text": [
      "\n",
      "267 dark_190504_AD-194_bias.fit\n"
     ]
    },
    {
     "name": "stderr",
     "output_type": "stream",
     "text": [
      "GetHeadVal: Missing Configuration\n",
      "GetHeadVal: Missing Configuration\n",
      "GetHeadVal: Missing Configuration\n"
     ]
    },
    {
     "name": "stdout",
     "output_type": "stream",
     "text": [
      "\n",
      "268 dark_190504_AD-195_bias.fit\n",
      "\n",
      "269 dark_190504_AD-196_bias.fit\n"
     ]
    },
    {
     "name": "stderr",
     "output_type": "stream",
     "text": [
      "GetHeadVal: Missing Configuration\n",
      "GetHeadVal: Missing Configuration\n",
      "GetHeadVal: Missing Configuration\n"
     ]
    },
    {
     "name": "stdout",
     "output_type": "stream",
     "text": [
      "\n",
      "270 dark_190504_AD-197_bias.fit\n",
      "\n",
      "271 dark_190504_AD-198_bias.fit\n"
     ]
    },
    {
     "name": "stderr",
     "output_type": "stream",
     "text": [
      "GetHeadVal: Missing Configuration\n",
      "GetHeadVal: Missing Configuration\n",
      "GetHeadVal: Missing Configuration\n",
      "GetHeadVal: Missing Configuration\n"
     ]
    },
    {
     "name": "stdout",
     "output_type": "stream",
     "text": [
      "\n",
      "272 dark_190504_AD-199_bias.fit\n",
      "\n",
      "273 dark_190504_AD-200_bias.fit\n"
     ]
    }
   ],
   "source": [
    "## Make a stack of images.\n",
    "image, headlist, rows, cols, imedian, imad = stackfits(datapath,files)"
   ]
  },
  {
   "cell_type": "code",
   "execution_count": 14,
   "metadata": {},
   "outputs": [],
   "source": [
    "## Making Array of Noisy Pixels\n",
    "\n",
    "import numpy as np\n",
    "import matplotlib.pylab as plt\n"
   ]
  },
  {
   "cell_type": "code",
   "execution_count": 15,
   "metadata": {},
   "outputs": [
    {
     "name": "stdout",
     "output_type": "stream",
     "text": [
      "rows = 1024    cols = 1024\n"
     ]
    },
    {
     "ename": "MemoryError",
     "evalue": "",
     "output_type": "error",
     "traceback": [
      "\u001b[1;31m---------------------------------------------------------------------------\u001b[0m",
      "\u001b[1;31mMemoryError\u001b[0m                               Traceback (most recent call last)",
      "\u001b[1;32m<ipython-input-15-7c79f65399e8>\u001b[0m in \u001b[0;36m<module>\u001b[1;34m\u001b[0m\n\u001b[1;32m----> 1\u001b[1;33m \u001b[0mstackarray\u001b[0m \u001b[1;33m=\u001b[0m \u001b[0mstackfits\u001b[0m\u001b[1;33m(\u001b[0m\u001b[0mdatapath\u001b[0m\u001b[1;33m,\u001b[0m\u001b[0mfiles\u001b[0m\u001b[1;33m)\u001b[0m\u001b[1;33m\u001b[0m\u001b[1;33m\u001b[0m\u001b[0m\n\u001b[0m",
      "\u001b[1;32m~\\Desktop\\a212pylibs\\dah_functions_2.py\u001b[0m in \u001b[0;36mstackfits\u001b[1;34m(whichpath, files)\u001b[0m\n\u001b[0;32m    617\u001b[0m     \u001b[0mprint\u001b[0m\u001b[1;33m(\u001b[0m\u001b[1;34m'rows ='\u001b[0m\u001b[1;33m,\u001b[0m\u001b[0mrows\u001b[0m\u001b[1;33m,\u001b[0m\u001b[1;34m'   cols ='\u001b[0m\u001b[1;33m,\u001b[0m\u001b[0mcols\u001b[0m\u001b[1;33m)\u001b[0m\u001b[1;33m\u001b[0m\u001b[1;33m\u001b[0m\u001b[0m\n\u001b[0;32m    618\u001b[0m \u001b[1;33m\u001b[0m\u001b[0m\n\u001b[1;32m--> 619\u001b[1;33m     \u001b[0mimage\u001b[0m \u001b[1;33m=\u001b[0m \u001b[0mnp\u001b[0m\u001b[1;33m.\u001b[0m\u001b[0mzeros\u001b[0m\u001b[1;33m(\u001b[0m\u001b[1;33m(\u001b[0m\u001b[0mlen\u001b[0m\u001b[1;33m(\u001b[0m\u001b[0mfiles\u001b[0m\u001b[1;33m)\u001b[0m\u001b[1;33m,\u001b[0m \u001b[0mrows\u001b[0m\u001b[1;33m,\u001b[0m\u001b[0mcols\u001b[0m\u001b[1;33m)\u001b[0m\u001b[1;33m)\u001b[0m  \u001b[1;31m# 3D numpy array to hold the stack of images.\u001b[0m\u001b[1;33m\u001b[0m\u001b[1;33m\u001b[0m\u001b[0m\n\u001b[0m\u001b[0;32m    620\u001b[0m     \u001b[0mimedian\u001b[0m \u001b[1;33m=\u001b[0m \u001b[0mnp\u001b[0m\u001b[1;33m.\u001b[0m\u001b[0mzeros\u001b[0m\u001b[1;33m(\u001b[0m\u001b[1;33m(\u001b[0m\u001b[0mlen\u001b[0m\u001b[1;33m(\u001b[0m\u001b[0mfiles\u001b[0m\u001b[1;33m)\u001b[0m\u001b[1;33m)\u001b[0m\u001b[1;33m)\u001b[0m           \u001b[1;31m# 1D numpy array to hold array medians.\u001b[0m\u001b[1;33m\u001b[0m\u001b[1;33m\u001b[0m\u001b[0m\n\u001b[0;32m    621\u001b[0m     \u001b[0mimad\u001b[0m \u001b[1;33m=\u001b[0m \u001b[0mnp\u001b[0m\u001b[1;33m.\u001b[0m\u001b[0mzeros\u001b[0m\u001b[1;33m(\u001b[0m\u001b[1;33m(\u001b[0m\u001b[0mlen\u001b[0m\u001b[1;33m(\u001b[0m\u001b[0mfiles\u001b[0m\u001b[1;33m)\u001b[0m\u001b[1;33m)\u001b[0m\u001b[1;33m)\u001b[0m            \u001b[1;31m# 1D numpy array to hold Median absolute deviations.\u001b[0m\u001b[1;33m\u001b[0m\u001b[1;33m\u001b[0m\u001b[0m\n",
      "\u001b[1;31mMemoryError\u001b[0m: "
     ]
    }
   ],
   "source": [
    "stackarray = stackfits(datapath,files)"
   ]
  },
  {
   "cell_type": "code",
   "execution_count": 16,
   "metadata": {},
   "outputs": [
    {
     "ename": "NameError",
     "evalue": "name 'stackarray' is not defined",
     "output_type": "error",
     "traceback": [
      "\u001b[1;31m---------------------------------------------------------------------------\u001b[0m",
      "\u001b[1;31mNameError\u001b[0m                                 Traceback (most recent call last)",
      "\u001b[1;32m<ipython-input-16-d1ef7922535f>\u001b[0m in \u001b[0;36m<module>\u001b[1;34m\u001b[0m\n\u001b[1;32m----> 1\u001b[1;33m \u001b[0mstackarray_std\u001b[0m \u001b[1;33m=\u001b[0m \u001b[0mnp\u001b[0m\u001b[1;33m.\u001b[0m\u001b[0mstd\u001b[0m\u001b[1;33m(\u001b[0m\u001b[0mstackarray\u001b[0m\u001b[1;33m,\u001b[0m \u001b[0maxis\u001b[0m\u001b[1;33m=\u001b[0m\u001b[1;36m0\u001b[0m\u001b[1;33m)\u001b[0m\u001b[1;33m\u001b[0m\u001b[1;33m\u001b[0m\u001b[0m\n\u001b[0m\u001b[0;32m      2\u001b[0m \u001b[1;33m\u001b[0m\u001b[0m\n\u001b[0;32m      3\u001b[0m \u001b[0mimg_global_std\u001b[0m \u001b[1;33m=\u001b[0m \u001b[0mnp\u001b[0m\u001b[1;33m.\u001b[0m\u001b[0mmedian\u001b[0m\u001b[1;33m(\u001b[0m\u001b[0mstackarray_std\u001b[0m\u001b[1;33m)\u001b[0m\u001b[1;33m\u001b[0m\u001b[1;33m\u001b[0m\u001b[0m\n\u001b[0;32m      4\u001b[0m \u001b[1;33m\u001b[0m\u001b[0m\n\u001b[0;32m      5\u001b[0m \u001b[0mbad_pixels\u001b[0m \u001b[1;33m=\u001b[0m \u001b[0mstackarray_std\u001b[0m \u001b[1;33m>\u001b[0m \u001b[0mimg_global_std\u001b[0m\u001b[1;33m*\u001b[0m\u001b[1;36m1.7\u001b[0m\u001b[1;33m\u001b[0m\u001b[1;33m\u001b[0m\u001b[0m\n",
      "\u001b[1;31mNameError\u001b[0m: name 'stackarray' is not defined"
     ]
    }
   ],
   "source": [
    "stackarray_std = np.std(stackarray, axis=0)\n",
    "\n",
    "img_global_std = np.median(stackarray_std)\n",
    "\n",
    "bad_pixels = stackarray_std > img_global_std*1.7"
   ]
  },
  {
   "cell_type": "code",
   "execution_count": null,
   "metadata": {},
   "outputs": [],
   "source": [
    "## plt.imshow(bad_pixels)\n",
    "\n",
    "locs = np.array(np.where(bad_pixels == True))\n",
    "\n",
    "for i in range(locs.shape[1]):\n",
    "    print(locs[0,i],locs[1,i])"
   ]
  },
  {
   "cell_type": "code",
   "execution_count": null,
   "metadata": {},
   "outputs": [],
   "source": [
    "## Make a True/False Array\n",
    "\n",
    "print(bad_pixels)\n"
   ]
  },
  {
   "cell_type": "code",
   "execution_count": null,
   "metadata": {},
   "outputs": [],
   "source": []
  }
 ],
 "metadata": {
  "kernelspec": {
   "display_name": "Python 3",
   "language": "python",
   "name": "python3"
  },
  "language_info": {
   "codemirror_mode": {
    "name": "ipython",
    "version": 3
   },
   "file_extension": ".py",
   "mimetype": "text/x-python",
   "name": "python",
   "nbconvert_exporter": "python",
   "pygments_lexer": "ipython3",
   "version": "3.7.1"
  }
 },
 "nbformat": 4,
 "nbformat_minor": 2
}
